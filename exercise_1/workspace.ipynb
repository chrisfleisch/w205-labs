{
 "cells": [
  {
   "cell_type": "code",
   "execution_count": 1,
   "metadata": {
    "collapsed": true
   },
   "outputs": [],
   "source": [
    "from pyspark.sql import HiveContext\n",
    "sqlContext = HiveContext(sc)"
   ]
  },
  {
   "cell_type": "code",
   "execution_count": 5,
   "metadata": {
    "collapsed": false
   },
   "outputs": [
    {
     "name": "stdout",
     "output_type": "stream",
     "text": [
      "+--------------------+-----------+\n",
      "|           tableName|isTemporary|\n",
      "+--------------------+-----------+\n",
      "|        bike_seasons|      false|\n",
      "|      bike_share_raw|      false|\n",
      "|       complications|      false|\n",
      "|      effective_care|      false|\n",
      "|                 foo|      false|\n",
      "|           hospitals|      false|\n",
      "|     hospital_survey|      false|\n",
      "|          infections|      false|\n",
      "|            measures|      false|\n",
      "|             my_care|      false|\n",
      "|my_combined_proce...|      false|\n",
      "|    my_complications|      false|\n",
      "|        my_hospitals|      false|\n",
      "|       my_infections|      false|\n",
      "|     my_readmissions|      false|\n",
      "|     my_star_ratings|      false|\n",
      "|    my_survey_scores|      false|\n",
      "|        readmissions|      false|\n",
      "|             seasons|      false|\n",
      "|            stadiums|      false|\n",
      "|   surveys_responses|      false|\n",
      "|           user_info|      false|\n",
      "|             weather|      false|\n",
      "|        weblogs_flat|      false|\n",
      "|     weblogs_parquet|      false|\n",
      "|      weblogs_schema|      false|\n",
      "|     web_session_log|      false|\n",
      "+--------------------+-----------+\n",
      "\n"
     ]
    }
   ],
   "source": [
    "sqlContext.sql(\"show tables\").show(50)"
   ]
  },
  {
   "cell_type": "code",
   "execution_count": 8,
   "metadata": {
    "collapsed": false
   },
   "outputs": [],
   "source": [
    "tables = ['complications', 'effective_care', 'hospitals', 'surveys_responses',\n",
    "          'hospital_survey', 'infections', 'measures', 'readmissions',\n",
    "          'my_complications', 'my_hospitals', 'my_infections', 'my_readmissions', 'my_star_ratings', \n",
    "          'my_survey_scores', 'my_combined_procedures', 'my_care']\n",
    "for table in tables:\n",
    "    sql = \"DROP TABLE IF EXISTS %s\" % (table)\n",
    "    sqlContext.sql(sql)"
   ]
  },
  {
   "cell_type": "code",
   "execution_count": 10,
   "metadata": {
    "collapsed": false
   },
   "outputs": [
    {
     "name": "stdout",
     "output_type": "stream",
     "text": [
      "+---------------+-----------+\n",
      "|      tableName|isTemporary|\n",
      "+---------------+-----------+\n",
      "|   bike_seasons|      false|\n",
      "| bike_share_raw|      false|\n",
      "|            foo|      false|\n",
      "|        seasons|      false|\n",
      "|       stadiums|      false|\n",
      "|      user_info|      false|\n",
      "|        weather|      false|\n",
      "|   weblogs_flat|      false|\n",
      "|weblogs_parquet|      false|\n",
      "| weblogs_schema|      false|\n",
      "|web_session_log|      false|\n",
      "+---------------+-----------+\n",
      "\n"
     ]
    }
   ],
   "source": [
    "sqlContext.sql(\"show tables\").show(50)"
   ]
  },
  {
   "cell_type": "code",
   "execution_count": 62,
   "metadata": {
    "collapsed": false
   },
   "outputs": [
    {
     "data": {
      "text/plain": [
       "DataFrame[]"
      ]
     },
     "execution_count": 62,
     "metadata": {},
     "output_type": "execute_result"
    }
   ],
   "source": [
    "sqlContext.sql(\"DROP TABLE my_hospitals\")\n",
    "\n",
    "sql = \"\"\"\n",
    "CREATE TABLE my_hospitals AS \n",
    "SELECT \n",
    "provider_id, hospital_name name, city, state, \n",
    "zip_code, hospital_type type, hospital_ownership ownership \n",
    "FROM hospitals\n",
    "\"\"\"\n",
    "sqlContext.sql(sql)"
   ]
  },
  {
   "cell_type": "code",
   "execution_count": 6,
   "metadata": {
    "collapsed": false
   },
   "outputs": [
    {
     "name": "stdout",
     "output_type": "stream",
     "text": [
      "+-----------------+-----------+\n",
      "|        tableName|isTemporary|\n",
      "+-----------------+-----------+\n",
      "|    complications|      false|\n",
      "|   effective_care|      false|\n",
      "|              foo|      false|\n",
      "|        hospitals|      false|\n",
      "|  hospital_survey|      false|\n",
      "|       infections|      false|\n",
      "|         measures|      false|\n",
      "|     my_hospitals|      false|\n",
      "|     readmissions|      false|\n",
      "|         stadiums|      false|\n",
      "|surveys_responses|      false|\n",
      "|        user_info|      false|\n",
      "|     weblogs_flat|      false|\n",
      "|  weblogs_parquet|      false|\n",
      "|   weblogs_schema|      false|\n",
      "|  web_session_log|      false|\n",
      "+-----------------+-----------+\n",
      "\n"
     ]
    }
   ],
   "source": [
    "sqlContext.sql(\"show tables\").show()"
   ]
  },
  {
   "cell_type": "code",
   "execution_count": 8,
   "metadata": {
    "collapsed": false
   },
   "outputs": [
    {
     "name": "stdout",
     "output_type": "stream",
     "text": [
      "+--------------------+---------+-----------------+\n",
      "|            col_name|data_type|          comment|\n",
      "+--------------------+---------+-----------------+\n",
      "|         provider_id|   string|from deserializer|\n",
      "|       hospital_name|   string|from deserializer|\n",
      "|             address|   string|from deserializer|\n",
      "|                city|   string|from deserializer|\n",
      "|               state|   string|from deserializer|\n",
      "|            zip_code|   string|from deserializer|\n",
      "|         county_name|   string|from deserializer|\n",
      "|        phone_number|   string|from deserializer|\n",
      "|   hcahps_measure_id|   string|from deserializer|\n",
      "|     hcahps_question|   string|from deserializer|\n",
      "|hcahps_answer_des...|   string|from deserializer|\n",
      "|patient_survey_st...|   string|from deserializer|\n",
      "|patient_survey_st...|   string|from deserializer|\n",
      "|hcahps_answer_per...|   string|from deserializer|\n",
      "|hcahps_answer_per...|   string|from deserializer|\n",
      "|number_of_complet...|   string|from deserializer|\n",
      "|number_of_complet...|   string|from deserializer|\n",
      "|survey_response_r...|   string|from deserializer|\n",
      "|survey_response_r...|   string|from deserializer|\n",
      "|  measure_start_date|   string|from deserializer|\n",
      "+--------------------+---------+-----------------+\n",
      "only showing top 20 rows\n",
      "\n"
     ]
    }
   ],
   "source": [
    "sqlContext.sql(\"describe hospital_survey\").show()"
   ]
  },
  {
   "cell_type": "code",
   "execution_count": 63,
   "metadata": {
    "collapsed": false
   },
   "outputs": [
    {
     "data": {
      "text/plain": [
       "DataFrame[]"
      ]
     },
     "execution_count": 63,
     "metadata": {},
     "output_type": "execute_result"
    }
   ],
   "source": [
    "sql = \"\"\"DROP TABLE my_star_ratings\"\"\"\n",
    "sqlContext.sql(sql)\n",
    "\n",
    "# create new table\n",
    "sql = \"\"\"\n",
    "CREATE TABLE my_star_ratings AS \n",
    "SELECT \n",
    "provider_id, hcahps_measure_id measure_id, \n",
    "hcahps_question question, hcahps_answer_description answer,\n",
    "cast(patient_survey_star_rating AS INT) star_rating,\n",
    "cast(to_date(from_unixtime(unix_timestamp(measure_start_date, 'MM/dd/yy'))) as date) measure_start,\n",
    "cast(to_date(from_unixtime(unix_timestamp(measure_end_date, 'MM/dd/yy'))) as date) measure_end\n",
    "FROM hospital_survey\n",
    "\"\"\"\n",
    "sqlContext.sql(sql)"
   ]
  },
  {
   "cell_type": "code",
   "execution_count": 65,
   "metadata": {
    "collapsed": false
   },
   "outputs": [
    {
     "name": "stdout",
     "output_type": "stream",
     "text": [
      "+-------------+---------+-------+\n",
      "|     col_name|data_type|comment|\n",
      "+-------------+---------+-------+\n",
      "|  provider_id|   string|   null|\n",
      "|   measure_id|   string|   null|\n",
      "|     question|   string|   null|\n",
      "|       answer|   string|   null|\n",
      "|  star_rating|      int|   null|\n",
      "|measure_start|     date|   null|\n",
      "|  measure_end|     date|   null|\n",
      "+-------------+---------+-------+\n",
      "\n"
     ]
    }
   ],
   "source": [
    "sqlContext.sql('describe my_star_ratings').show()"
   ]
  },
  {
   "cell_type": "code",
   "execution_count": 66,
   "metadata": {
    "collapsed": false
   },
   "outputs": [
    {
     "name": "stdout",
     "output_type": "stream",
     "text": [
      "+-----------+--------------------+--------------------+--------------------+-----------+-------------+-----------+\n",
      "|provider_id|          measure_id|            question|              answer|star_rating|measure_start|measure_end|\n",
      "+-----------+--------------------+--------------------+--------------------+-----------+-------------+-----------+\n",
      "|     010001|       H_STAR_RATING| Summary star rating| Summary star rating|          3|   2013-10-01| 2014-09-30|\n",
      "|     010001|     H_CLEAN_HSP_A_P|Patients who repo...|Room was \"always\"...|       null|   2013-10-01| 2014-09-30|\n",
      "|     010001|    H_CLEAN_HSP_SN_P|Patients who repo...|Room was \"sometim...|       null|   2013-10-01| 2014-09-30|\n",
      "|     010001|     H_CLEAN_HSP_U_P|Patients who repo...|Room was \"usually...|       null|   2013-10-01| 2014-09-30|\n",
      "|     010001| H_CLEAN_STAR_RATING|Cleanliness - sta...|Cleanliness - sta...|          2|   2013-10-01| 2014-09-30|\n",
      "|     010001|        H_COMP_1_A_P|Patients who repo...|Nurses \"always\" c...|       null|   2013-10-01| 2014-09-30|\n",
      "|     010001|       H_COMP_1_SN_P|Patients who repo...|Nurses \"sometimes...|       null|   2013-10-01| 2014-09-30|\n",
      "|     010001|H_COMP_1_STAR_RATING|Nurse communicati...|Nurse communicati...|          3|   2013-10-01| 2014-09-30|\n",
      "|     010001|        H_COMP_1_U_P|Patients who repo...|Nurses \"usually\" ...|       null|   2013-10-01| 2014-09-30|\n",
      "|     010001|        H_COMP_2_A_P|Patients who repo...|Doctors \"always\" ...|       null|   2013-10-01| 2014-09-30|\n",
      "+-----------+--------------------+--------------------+--------------------+-----------+-------------+-----------+\n",
      "\n"
     ]
    }
   ],
   "source": [
    "sqlContext.sql('select * from my_star_ratings limit 10').show()"
   ]
  },
  {
   "cell_type": "code",
   "execution_count": 14,
   "metadata": {
    "collapsed": false
   },
   "outputs": [
    {
     "name": "stdout",
     "output_type": "stream",
     "text": [
      "++\n",
      "||\n",
      "++\n",
      "++\n",
      "\n"
     ]
    }
   ],
   "source": [
    "sql = \"\"\"\n",
    "CREATE TABLE my_survey_scores AS \n",
    "SELECT \n",
    "provider_number provider_id, \n",
    "cast(hcahps_base_score as INT) base_score,\n",
    "cast(hcahps_consistency_score as INT) consistency_score,\n",
    "cast(hcahps_base_score as INT) + cast(hcahps_consistency_score as INT) total_score\n",
    "FROM surveys_responses\n",
    "\"\"\"\n",
    "sqlContext.sql(sql)"
   ]
  },
  {
   "cell_type": "code",
   "execution_count": 15,
   "metadata": {
    "collapsed": false
   },
   "outputs": [
    {
     "name": "stdout",
     "output_type": "stream",
     "text": [
      "+-----------+----------+-----------------+-----------+\n",
      "|provider_id|base_score|consistency_score|total_score|\n",
      "+-----------+----------+-----------------+-----------+\n",
      "|     010001|        17|               16|         33|\n",
      "|     010005|        51|               20|         71|\n",
      "|     010006|         9|               12|         21|\n",
      "|     010007|        40|               17|         57|\n",
      "|     010008|        30|               15|         45|\n",
      "|     010011|        11|               16|         27|\n",
      "|     010012|        31|               20|         51|\n",
      "|     010016|        10|               15|         25|\n",
      "|     010019|        24|               20|         44|\n",
      "|     010021|        34|               19|         53|\n",
      "+-----------+----------+-----------------+-----------+\n",
      "\n"
     ]
    }
   ],
   "source": [
    "sqlContext.sql(\"select * from my_survey_scores limit 10\").show()"
   ]
  },
  {
   "cell_type": "code",
   "execution_count": 17,
   "metadata": {
    "collapsed": false
   },
   "outputs": [
    {
     "name": "stdout",
     "output_type": "stream",
     "text": [
      "+-----------------+---------+-------+\n",
      "|         col_name|data_type|comment|\n",
      "+-----------------+---------+-------+\n",
      "|      provider_id|   string|   null|\n",
      "|       base_score|      int|   null|\n",
      "|consistency_score|      int|   null|\n",
      "|      total_score|      int|   null|\n",
      "+-----------------+---------+-------+\n",
      "\n"
     ]
    }
   ],
   "source": [
    "sqlContext.sql(\"describe my_survey_scores\").show()"
   ]
  },
  {
   "cell_type": "code",
   "execution_count": 21,
   "metadata": {
    "collapsed": false
   },
   "outputs": [
    {
     "data": {
      "text/plain": [
       "DataFrame[]"
      ]
     },
     "execution_count": 21,
     "metadata": {},
     "output_type": "execute_result"
    }
   ],
   "source": [
    "sql = \"\"\"\n",
    "DROP TABLE my_care\n",
    "\"\"\"\n",
    "sqlContext.sql(sql)\n",
    "\n",
    "\n",
    "sql = \"\"\"\n",
    "CREATE TABLE my_care AS \n",
    "SELECT \n",
    "provider_id, condition, measure_id,\n",
    "measure_name,\n",
    "cast(score as INT) score,\n",
    "100 - cast(score as DECIMAL(16,4)) new_score,\n",
    "cast(to_date(from_unixtime(unix_timestamp(measure_start_date, 'MM/dd/yy'))) as date) measure_start,\n",
    "cast(to_date(from_unixtime(unix_timestamp(measure_end_date, 'MM/dd/yy'))) as date) measure_end\n",
    "FROM effective_care\n",
    "WHERE\n",
    "measure_id = 'OP_22' OR measure_id = 'PC_01' OR measure_id = 'VTE_6'\n",
    "\"\"\"\n",
    "sqlContext.sql(sql)\n",
    "\n"
   ]
  },
  {
   "cell_type": "code",
   "execution_count": 23,
   "metadata": {
    "collapsed": false
   },
   "outputs": [
    {
     "data": {
      "text/plain": [
       "DataFrame[]"
      ]
     },
     "execution_count": 23,
     "metadata": {},
     "output_type": "execute_result"
    }
   ],
   "source": [
    "sql = \"\"\"\n",
    "INSERT INTO TABLE my_care\n",
    "SELECT \n",
    "provider_id, condition, measure_id,\n",
    "measure_name,\n",
    "cast(score as INT) score,\n",
    "cast(score as DECIMAL(16,4)) new_score,\n",
    "cast(to_date(from_unixtime(unix_timestamp(measure_start_date, 'MM/dd/yy'))) as date) measure_start,\n",
    "cast(to_date(from_unixtime(unix_timestamp(measure_end_date, 'MM/dd/yy'))) as date) measure_end\n",
    "FROM effective_care\n",
    "WHERE\n",
    "measure_id != 'OP_22' AND measure_id != 'PC_01' AND measure_id != 'VTE_6'\n",
    "\"\"\"\n",
    "sqlContext.sql(sql)"
   ]
  },
  {
   "cell_type": "code",
   "execution_count": 26,
   "metadata": {
    "collapsed": false
   },
   "outputs": [
    {
     "name": "stdout",
     "output_type": "stream",
     "text": [
      "+-------------+-------------+-------+\n",
      "|     col_name|    data_type|comment|\n",
      "+-------------+-------------+-------+\n",
      "|  provider_id|       string|   null|\n",
      "|    condition|       string|   null|\n",
      "|   measure_id|       string|   null|\n",
      "| measure_name|       string|   null|\n",
      "|        score|          int|   null|\n",
      "|    new_score|decimal(17,4)|   null|\n",
      "|measure_start|         date|   null|\n",
      "|  measure_end|         date|   null|\n",
      "+-------------+-------------+-------+\n",
      "\n"
     ]
    }
   ],
   "source": [
    "sqlContext.sql(\"describe my_care\").show()"
   ]
  },
  {
   "cell_type": "code",
   "execution_count": 31,
   "metadata": {
    "collapsed": false
   },
   "outputs": [
    {
     "name": "stdout",
     "output_type": "stream",
     "text": [
      "+-----------+--------------------+----------+-------------------+-----+---------+-------------+-----------+\n",
      "|provider_id|           condition|measure_id|       measure_name|score|new_score|measure_start|measure_end|\n",
      "+-----------+--------------------+----------+-------------------+-----+---------+-------------+-----------+\n",
      "|     010001|Heart Attack or C...|    AMI_10|Statin at Discharge|   98|  98.0000|   2013-10-01| 2014-09-30|\n",
      "|     010005|Heart Attack or C...|    AMI_10|Statin at Discharge|  100| 100.0000|   2013-10-01| 2014-09-30|\n",
      "|     010006|Heart Attack or C...|    AMI_10|Statin at Discharge|  100| 100.0000|   2013-10-01| 2014-09-30|\n",
      "|     010007|Heart Attack or C...|    AMI_10|Statin at Discharge| null|     null|   2013-10-01| 2014-09-30|\n",
      "|     010008|Heart Attack or C...|    AMI_10|Statin at Discharge| null|     null|   2013-10-01| 2014-09-30|\n",
      "|     010011|Heart Attack or C...|    AMI_10|Statin at Discharge|  100| 100.0000|   2013-10-01| 2014-09-30|\n",
      "|     010012|Heart Attack or C...|    AMI_10|Statin at Discharge|  100| 100.0000|   2013-10-01| 2014-09-30|\n",
      "|     010016|Heart Attack or C...|    AMI_10|Statin at Discharge|   98|  98.0000|   2013-10-01| 2014-09-30|\n",
      "|     010018|Heart Attack or C...|    AMI_10|Statin at Discharge| null|     null|   2013-10-01| 2014-09-30|\n",
      "|     010019|Heart Attack or C...|    AMI_10|Statin at Discharge| null|     null|   2013-10-01| 2014-09-30|\n",
      "|     010021|Heart Attack or C...|    AMI_10|Statin at Discharge| null|     null|   2013-10-01| 2014-09-30|\n",
      "|     010022|Heart Attack or C...|    AMI_10|Statin at Discharge| null|     null|   2013-10-01| 2014-09-30|\n",
      "|     010023|Heart Attack or C...|    AMI_10|Statin at Discharge|   99|  99.0000|   2013-10-01| 2014-09-30|\n",
      "|     010024|Heart Attack or C...|    AMI_10|Statin at Discharge|   98|  98.0000|   2013-10-01| 2014-09-30|\n",
      "|     010029|Heart Attack or C...|    AMI_10|Statin at Discharge|  100| 100.0000|   2013-10-01| 2014-09-30|\n",
      "|     010032|Heart Attack or C...|    AMI_10|Statin at Discharge| null|     null|   2013-10-01| 2014-09-30|\n",
      "|     010033|Heart Attack or C...|    AMI_10|Statin at Discharge|   99|  99.0000|   2013-10-01| 2014-09-30|\n",
      "|     010034|Heart Attack or C...|    AMI_10|Statin at Discharge| null|     null|   2013-10-01| 2014-09-30|\n",
      "|     010035|Heart Attack or C...|    AMI_10|Statin at Discharge|  100| 100.0000|   2013-10-01| 2014-09-30|\n",
      "|     010036|Heart Attack or C...|    AMI_10|Statin at Discharge| null|     null|   2013-10-01| 2014-09-30|\n",
      "+-----------+--------------------+----------+-------------------+-----+---------+-------------+-----------+\n",
      "only showing top 20 rows\n",
      "\n"
     ]
    }
   ],
   "source": [
    "sqlContext.sql(\"select * from my_care WHERE measure_id == 'AMI_10'\").show()"
   ]
  },
  {
   "cell_type": "code",
   "execution_count": null,
   "metadata": {
    "collapsed": false
   },
   "outputs": [],
   "source": []
  },
  {
   "cell_type": "code",
   "execution_count": null,
   "metadata": {
    "collapsed": true
   },
   "outputs": [],
   "source": []
  },
  {
   "cell_type": "code",
   "execution_count": 47,
   "metadata": {
    "collapsed": false
   },
   "outputs": [
    {
     "data": {
      "text/plain": [
       "DataFrame[]"
      ]
     },
     "execution_count": 47,
     "metadata": {},
     "output_type": "execute_result"
    }
   ],
   "source": [
    "sql = \"\"\"\n",
    "DROP TABLE my_infections\n",
    "\"\"\"\n",
    "sqlContext.sql(sql)\n",
    "\n",
    "\n",
    "sql = \"\"\"\n",
    "CREATE TABLE my_infections AS \n",
    "SELECT \n",
    "provider_id, measure_id,\n",
    "measure_name, compared_to_national,\n",
    "cast(score as DECIMAL(16,4)) score,\n",
    "cast(to_date(from_unixtime(unix_timestamp(measure_start_date, 'MM/dd/yy'))) as date) measure_start,\n",
    "cast(to_date(from_unixtime(unix_timestamp(measure_end_date, 'MM/dd/yy'))) as date) measure_end\n",
    "FROM infections\n",
    "\"\"\"\n",
    "sqlContext.sql(sql)"
   ]
  },
  {
   "cell_type": "code",
   "execution_count": 48,
   "metadata": {
    "collapsed": false
   },
   "outputs": [
    {
     "name": "stdout",
     "output_type": "stream",
     "text": [
      "+--------------------+-------------+-------+\n",
      "|            col_name|    data_type|comment|\n",
      "+--------------------+-------------+-------+\n",
      "|         provider_id|       string|   null|\n",
      "|          measure_id|       string|   null|\n",
      "|        measure_name|       string|   null|\n",
      "|compared_to_national|       string|   null|\n",
      "|               score|decimal(16,4)|   null|\n",
      "|       measure_start|         date|   null|\n",
      "|         measure_end|         date|   null|\n",
      "+--------------------+-------------+-------+\n",
      "\n"
     ]
    }
   ],
   "source": [
    "sqlContext.sql(\"describe my_infections\").show()"
   ]
  },
  {
   "cell_type": "code",
   "execution_count": 53,
   "metadata": {
    "collapsed": false
   },
   "outputs": [
    {
     "name": "stdout",
     "output_type": "stream",
     "text": [
      "+-----------+---------------+--------------------+--------------------+---------+-------------+-----------+\n",
      "|provider_id|     measure_id|        measure_name|compared_to_national|    score|measure_start|measure_end|\n",
      "+-----------+---------------+--------------------+--------------------+---------+-------------+-----------+\n",
      "|     010001| HAI_1_CI_LOWER|CLABSI Lower Conf...|No Different than...|   0.7370|   2013-10-01| 2014-09-30|\n",
      "|     010001| HAI_1_CI_UPPER|CLABSI Upper Conf...|No Different than...|   3.7820|   2013-10-01| 2014-09-30|\n",
      "|     010001|HAI_1_DOPC_DAYS|CLABSI Central Li...|No Different than...|2199.0000|   2013-10-01| 2014-09-30|\n",
      "|     010001|HAI_1_ELIGCASES|CLABSI Predicted ...|No Different than...|   3.3000|   2013-10-01| 2014-09-30|\n",
      "|     010001|HAI_1_NUMERATOR|CLABSI Observed C...|No Different than...|   6.0000|   2013-10-01| 2014-09-30|\n",
      "|     010001|      HAI_1_SIR|Central line-asso...|No Different than...|   1.8180|   2013-10-01| 2014-09-30|\n",
      "|     010001| HAI_2_CI_LOWER|CAUTI Lower Confi...|Worse than the Na...|   2.3950|   2013-10-01| 2014-09-30|\n",
      "|     010001| HAI_2_CI_UPPER|CAUTI Upper Confi...|Worse than the Na...|   4.8570|   2013-10-01| 2014-09-30|\n",
      "|     010001|HAI_2_DOPC_DAYS|CAUTI Urinary Cat...|Worse than the Na...|7450.0000|   2013-10-01| 2014-09-30|\n",
      "|     010001|HAI_2_ELIGCASES|CAUTI Predicted C...|Worse than the Na...|   8.9490|   2013-10-01| 2014-09-30|\n",
      "|     010001|HAI_2_NUMERATOR|CAUTI Observed Cases|Worse than the Na...|  31.0000|   2013-10-01| 2014-09-30|\n",
      "|     010001|      HAI_2_SIR|Catheter-Associat...|Worse than the Na...|   3.4640|   2013-10-01| 2014-09-30|\n",
      "|     010001| HAI_3_CI_LOWER|SSI: Colon Lower ...|No Different than...|   0.2170|   2013-10-01| 2014-09-30|\n",
      "|     010001| HAI_3_CI_UPPER|SSI: Colon Upper ...|No Different than...|   1.6440|   2013-10-01| 2014-09-30|\n",
      "|     010001|HAI_3_DOPC_DAYS|SSI: Colon, Numbe...|No Different than...| 171.0000|   2013-10-01| 2014-09-30|\n",
      "|     010001|HAI_3_ELIGCASES|SSI: Colon Predic...|No Different than...|   5.8680|   2013-10-01| 2014-09-30|\n",
      "|     010001|HAI_3_NUMERATOR|SSI: Colon Observ...|No Different than...|   4.0000|   2013-10-01| 2014-09-30|\n",
      "|     010001|      HAI_3_SIR|Surgical Site Inf...|No Different than...|   0.6820|   2013-10-01| 2014-09-30|\n",
      "|     010001| HAI_4_CI_LOWER|SSI: Abdominal Lo...|       Not Available|     null|   2013-10-01| 2014-09-30|\n",
      "|     010001| HAI_4_CI_UPPER|SSI: Abdominal Up...|       Not Available|     null|   2013-10-01| 2014-09-30|\n",
      "+-----------+---------------+--------------------+--------------------+---------+-------------+-----------+\n",
      "only showing top 20 rows\n",
      "\n"
     ]
    }
   ],
   "source": [
    "sqlContext.sql(\"select * from my_infections\").show()"
   ]
  },
  {
   "cell_type": "code",
   "execution_count": 54,
   "metadata": {
    "collapsed": false
   },
   "outputs": [
    {
     "data": {
      "text/plain": [
       "DataFrame[]"
      ]
     },
     "execution_count": 54,
     "metadata": {},
     "output_type": "execute_result"
    }
   ],
   "source": [
    "sql = \"\"\"\n",
    "DROP TABLE my_readmissions\n",
    "\"\"\"\n",
    "sqlContext.sql(sql)\n",
    "\n",
    "\n",
    "sql = \"\"\"\n",
    "CREATE TABLE my_readmissions AS \n",
    "SELECT \n",
    "provider_id, measure_id,\n",
    "measure_name, compared_to_national,\n",
    "cast(score as DECIMAL(16,4)) score,\n",
    "cast(to_date(from_unixtime(unix_timestamp(measure_start_date, 'MM/dd/yy'))) as date) measure_start,\n",
    "cast(to_date(from_unixtime(unix_timestamp(measure_end_date, 'MM/dd/yy'))) as date) measure_end\n",
    "FROM readmissions\n",
    "\"\"\"\n",
    "sqlContext.sql(sql)"
   ]
  },
  {
   "cell_type": "code",
   "execution_count": 55,
   "metadata": {
    "collapsed": false
   },
   "outputs": [
    {
     "name": "stdout",
     "output_type": "stream",
     "text": [
      "+--------------------+-------------+-------+\n",
      "|            col_name|    data_type|comment|\n",
      "+--------------------+-------------+-------+\n",
      "|         provider_id|       string|   null|\n",
      "|          measure_id|       string|   null|\n",
      "|        measure_name|       string|   null|\n",
      "|compared_to_national|       string|   null|\n",
      "|               score|decimal(16,4)|   null|\n",
      "|       measure_start|         date|   null|\n",
      "|         measure_end|         date|   null|\n",
      "+--------------------+-------------+-------+\n",
      "\n"
     ]
    }
   ],
   "source": [
    "sqlContext.sql(\"describe my_readmissions\").show()"
   ]
  },
  {
   "cell_type": "code",
   "execution_count": 56,
   "metadata": {
    "collapsed": false
   },
   "outputs": [
    {
     "name": "stdout",
     "output_type": "stream",
     "text": [
      "+-----------+------------------+--------------------+--------------------+-------+-------------+-----------+\n",
      "|provider_id|        measure_id|        measure_name|compared_to_national|  score|measure_start|measure_end|\n",
      "+-----------+------------------+--------------------+--------------------+-------+-------------+-----------+\n",
      "|     010001|       MORT_30_AMI|Acute Myocardial ...|No different than...|12.2000|   2011-07-01| 2014-06-30|\n",
      "|     010001|      MORT_30_CABG| Death rate for CABG|No different than...| 3.7000|   2011-07-01| 2014-06-30|\n",
      "|     010001|      MORT_30_COPD|Death rate for ch...|No different than...| 8.8000|   2011-07-01| 2014-06-30|\n",
      "|     010001|        MORT_30_HF|Heart failure (HF...|No different than...|12.6000|   2011-07-01| 2014-06-30|\n",
      "|     010001|        MORT_30_PN|Pneumonia (PN) 30...|No different than...|11.6000|   2011-07-01| 2014-06-30|\n",
      "|     010001|       MORT_30_STK|Death rate for st...|No different than...|15.3000|   2011-07-01| 2014-06-30|\n",
      "|     010001|      READM_30_AMI|Acute Myocardial ...|No different than...|17.4000|   2011-07-01| 2014-06-30|\n",
      "|     010001|     READM_30_CABG|Rate of unplanned...|No different than...|15.9000|   2011-07-01| 2014-06-30|\n",
      "|     010001|     READM_30_COPD|Rate of unplanned...|No different than...|22.0000|   2011-07-01| 2014-06-30|\n",
      "|     010001|       READM_30_HF|Heart failure (HF...|No different than...|21.0000|   2011-07-01| 2014-06-30|\n",
      "|     010001| READM_30_HIP_KNEE|Rate of readmissi...|No different than...| 5.2000|   2011-07-01| 2014-06-30|\n",
      "|     010001|READM_30_HOSP_WIDE|Rate of readmissi...|No different than...|14.8000|   2013-07-01| 2014-06-30|\n",
      "|     010001|       READM_30_PN|Pneumonia (PN) 30...|No different than...|18.2000|   2011-07-01| 2014-06-30|\n",
      "|     010001|      READM_30_STK|Rate of unplanned...|No different than...|13.0000|   2011-07-01| 2014-06-30|\n",
      "|     010005|       MORT_30_AMI|Acute Myocardial ...|No different than...|16.9000|   2011-07-01| 2014-06-30|\n",
      "|     010005|      MORT_30_CABG| Death rate for CABG|       Not Available|   null|   2011-07-01| 2014-06-30|\n",
      "|     010005|      MORT_30_COPD|Death rate for ch...|No different than...| 7.5000|   2011-07-01| 2014-06-30|\n",
      "|     010005|        MORT_30_HF|Heart failure (HF...|Worse than the Na...|16.3000|   2011-07-01| 2014-06-30|\n",
      "|     010005|        MORT_30_PN|Pneumonia (PN) 30...|Worse than the Na...|13.9000|   2011-07-01| 2014-06-30|\n",
      "|     010005|       MORT_30_STK|Death rate for st...|No different than...|14.8000|   2011-07-01| 2014-06-30|\n",
      "+-----------+------------------+--------------------+--------------------+-------+-------------+-----------+\n",
      "only showing top 20 rows\n",
      "\n"
     ]
    }
   ],
   "source": [
    "sqlContext.sql(\"select * from my_readmissions\").show()"
   ]
  },
  {
   "cell_type": "code",
   "execution_count": 57,
   "metadata": {
    "collapsed": false
   },
   "outputs": [
    {
     "data": {
      "text/plain": [
       "DataFrame[]"
      ]
     },
     "execution_count": 57,
     "metadata": {},
     "output_type": "execute_result"
    }
   ],
   "source": [
    "sql = \"\"\"\n",
    "DROP TABLE my_complications\n",
    "\"\"\"\n",
    "sqlContext.sql(sql)\n",
    "\n",
    "\n",
    "sql = \"\"\"\n",
    "CREATE TABLE my_complications AS \n",
    "SELECT \n",
    "provider_id, measure_id,\n",
    "measure_name, compared_to_national,\n",
    "cast(score as DECIMAL(16,4)) score,\n",
    "cast(to_date(from_unixtime(unix_timestamp(measure_start_date, 'MM/dd/yy'))) as date) measure_start,\n",
    "cast(to_date(from_unixtime(unix_timestamp(measure_end_date, 'MM/dd/yy'))) as date) measure_end\n",
    "FROM complications\n",
    "\"\"\"\n",
    "sqlContext.sql(sql)"
   ]
  },
  {
   "cell_type": "code",
   "execution_count": 59,
   "metadata": {
    "collapsed": false
   },
   "outputs": [
    {
     "name": "stdout",
     "output_type": "stream",
     "text": [
      "+--------------------+-------------+-------+\n",
      "|            col_name|    data_type|comment|\n",
      "+--------------------+-------------+-------+\n",
      "|         provider_id|       string|   null|\n",
      "|          measure_id|       string|   null|\n",
      "|        measure_name|       string|   null|\n",
      "|compared_to_national|       string|   null|\n",
      "|               score|decimal(16,4)|   null|\n",
      "|       measure_start|         date|   null|\n",
      "|         measure_end|         date|   null|\n",
      "+--------------------+-------------+-------+\n",
      "\n"
     ]
    }
   ],
   "source": [
    "sqlContext.sql(\"describe my_complications\").show()"
   ]
  },
  {
   "cell_type": "code",
   "execution_count": 60,
   "metadata": {
    "collapsed": false
   },
   "outputs": [
    {
     "name": "stdout",
     "output_type": "stream",
     "text": [
      "+-----------+--------------------+--------------------+--------------------+--------+-------------+-----------+\n",
      "|provider_id|          measure_id|        measure_name|compared_to_national|   score|measure_start|measure_end|\n",
      "+-----------+--------------------+--------------------+--------------------+--------+-------------+-----------+\n",
      "|     010001|       COMP_HIP_KNEE|Rate of complicat...|No different than...|  3.9000|   2011-04-01| 2014-03-31|\n",
      "|     010001|PSI_12_POSTOP_PUL...|Serious blood clo...|Better than the N...|  2.1600|   2012-07-01| 2014-06-30|\n",
      "|     010001| PSI_14_POSTOP_DEHIS|A wound that spli...|No different than...|  1.6700|   2012-07-01| 2014-06-30|\n",
      "|     010001|      PSI_15_ACC_LAC|Accidental cuts a...|No different than...|  1.5200|   2012-07-01| 2014-06-30|\n",
      "|     010001|     PSI_4_SURG_COMP|Deaths among Pati...|No different than...|138.3000|   2012-07-01| 2014-06-30|\n",
      "|     010001|       PSI_6_IAT_PTX|Collapsed lung du...|No different than...|  0.3100|   2012-07-01| 2014-06-30|\n",
      "|     010001|       PSI_90_SAFETY|Serious complicat...|Better than the N...|  0.5700|   2012-07-01| 2014-06-30|\n",
      "|     010005|       COMP_HIP_KNEE|Rate of complicat...|No different than...|  2.8000|   2011-04-01| 2014-03-31|\n",
      "|     010005|PSI_12_POSTOP_PUL...|Serious blood clo...|No different than...|  3.7000|   2012-07-01| 2014-06-30|\n",
      "|     010005| PSI_14_POSTOP_DEHIS|A wound that spli...|No different than...|  2.4200|   2012-07-01| 2014-06-30|\n",
      "|     010005|      PSI_15_ACC_LAC|Accidental cuts a...|No different than...|  1.3500|   2012-07-01| 2014-06-30|\n",
      "|     010005|     PSI_4_SURG_COMP|Deaths among Pati...|No different than...|141.4200|   2012-07-01| 2014-06-30|\n",
      "|     010005|       PSI_6_IAT_PTX|Collapsed lung du...|No different than...|  0.3800|   2012-07-01| 2014-06-30|\n",
      "|     010005|       PSI_90_SAFETY|Serious complicat...|No different than...|  0.6800|   2012-07-01| 2014-06-30|\n",
      "|     010006|       COMP_HIP_KNEE|Rate of complicat...|No different than...|  3.0000|   2011-04-01| 2014-03-31|\n",
      "|     010006|PSI_12_POSTOP_PUL...|Serious blood clo...|No different than...|  3.0600|   2012-07-01| 2014-06-30|\n",
      "|     010006| PSI_14_POSTOP_DEHIS|A wound that spli...|No different than...|  1.4100|   2012-07-01| 2014-06-30|\n",
      "|     010006|      PSI_15_ACC_LAC|Accidental cuts a...|No different than...|  2.0700|   2012-07-01| 2014-06-30|\n",
      "|     010006|     PSI_4_SURG_COMP|Deaths among Pati...|Worse than the Na...|168.4200|   2012-07-01| 2014-06-30|\n",
      "|     010006|       PSI_6_IAT_PTX|Collapsed lung du...|No different than...|  0.3600|   2012-07-01| 2014-06-30|\n",
      "+-----------+--------------------+--------------------+--------------------+--------+-------------+-----------+\n",
      "only showing top 20 rows\n",
      "\n"
     ]
    }
   ],
   "source": [
    "sqlContext.sql(\"select * from my_complications\").show()"
   ]
  },
  {
   "cell_type": "code",
   "execution_count": 61,
   "metadata": {
    "collapsed": false
   },
   "outputs": [
    {
     "name": "stdout",
     "output_type": "stream",
     "text": [
      "+-----------------+-----------+\n",
      "|        tableName|isTemporary|\n",
      "+-----------------+-----------+\n",
      "|    complications|      false|\n",
      "|   effective_care|      false|\n",
      "|              foo|      false|\n",
      "|        hospitals|      false|\n",
      "|  hospital_survey|      false|\n",
      "|       infections|      false|\n",
      "|         measures|      false|\n",
      "|          my_care|      false|\n",
      "| my_complications|      false|\n",
      "|     my_hospitals|      false|\n",
      "|    my_infections|      false|\n",
      "|  my_readmissions|      false|\n",
      "|   my_star_rating|      false|\n",
      "| my_survey_scores|      false|\n",
      "|     readmissions|      false|\n",
      "|         stadiums|      false|\n",
      "|surveys_responses|      false|\n",
      "|        user_info|      false|\n",
      "|     weblogs_flat|      false|\n",
      "|  weblogs_parquet|      false|\n",
      "+-----------------+-----------+\n",
      "only showing top 20 rows\n",
      "\n"
     ]
    }
   ],
   "source": [
    "sqlContext.sql(\"show tables\").show()"
   ]
  },
  {
   "cell_type": "code",
   "execution_count": 29,
   "metadata": {
    "collapsed": false
   },
   "outputs": [
    {
     "name": "stdout",
     "output_type": "stream",
     "text": [
      "+----------------+-----------+\n",
      "|       tableName|isTemporary|\n",
      "+----------------+-----------+\n",
      "|       my_tables|       true|\n",
      "|         my_care|      false|\n",
      "|my_complications|      false|\n",
      "|    my_hospitals|      false|\n",
      "|   my_infections|      false|\n",
      "| my_readmissions|      false|\n",
      "| my_star_ratings|      false|\n",
      "|my_survey_scores|      false|\n",
      "+----------------+-----------+\n",
      "\n"
     ]
    }
   ],
   "source": [
    "df = sqlContext.sql(\"show tables\")\n",
    "df.registerTempTable('temp_tables')\n",
    "query = \"\"\"SELECT * FROM temp_tables WHERE tableName LIKE '%my%'\"\"\"\n",
    "sqlContext.sql(query).show()"
   ]
  },
  {
   "cell_type": "code",
   "execution_count": 28,
   "metadata": {
    "collapsed": false
   },
   "outputs": [
    {
     "name": "stdout",
     "output_type": "stream",
     "text": [
      "+-----------------+-----------+\n",
      "|        tableName|isTemporary|\n",
      "+-----------------+-----------+\n",
      "|        my_tables|       true|\n",
      "|    complications|      false|\n",
      "|   effective_care|      false|\n",
      "|              foo|      false|\n",
      "|        hospitals|      false|\n",
      "|  hospital_survey|      false|\n",
      "|       infections|      false|\n",
      "|         measures|      false|\n",
      "|          my_care|      false|\n",
      "| my_complications|      false|\n",
      "|     my_hospitals|      false|\n",
      "|    my_infections|      false|\n",
      "|  my_readmissions|      false|\n",
      "|  my_star_ratings|      false|\n",
      "| my_survey_scores|      false|\n",
      "|     readmissions|      false|\n",
      "|         stadiums|      false|\n",
      "|surveys_responses|      false|\n",
      "|        user_info|      false|\n",
      "|     weblogs_flat|      false|\n",
      "+-----------------+-----------+\n",
      "only showing top 20 rows\n",
      "\n"
     ]
    }
   ],
   "source": [
    "sqlContext.sql(\"show tables\").show()"
   ]
  },
  {
   "cell_type": "markdown",
   "metadata": {
    "collapsed": true
   },
   "source": [
    "## Transforming data frames"
   ]
  },
  {
   "cell_type": "code",
   "execution_count": 19,
   "metadata": {
    "collapsed": false
   },
   "outputs": [
    {
     "data": {
      "text/plain": [
       "179164"
      ]
     },
     "execution_count": 19,
     "metadata": {},
     "output_type": "execute_result"
    }
   ],
   "source": [
    "from pyspark.sql import functions as func\n",
    "\n",
    "# ignore the values that are not rates\n",
    "sql = \"\"\"\n",
    "select provider_id, measure_name,\n",
    "measure_id, score\n",
    "from my_care \n",
    "where measure_id != 'ED_1b' AND measure_id != 'ED_2b' \n",
    "AND measure_id != 'EDV' AND measure_id != 'OP_1'\n",
    "AND measure_id != 'OP_18b' AND measure_id != 'OP_20' AND measure_id != 'OP_21' \n",
    "AND measure_id != 'OP_3b' AND measure_id != 'OP_5'\n",
    "\"\"\"\n",
    "care_df = sqlContext.sql(sql)\n",
    "care_df.count()"
   ]
  },
  {
   "cell_type": "code",
   "execution_count": 3,
   "metadata": {
    "collapsed": false
   },
   "outputs": [
    {
     "name": "stdout",
     "output_type": "stream",
     "text": [
      "+-----------+--------------------+----------------+-----+---------+\n",
      "|provider_id|        measure_name|      measure_id|score|new_score|\n",
      "+-----------+--------------------+----------------+-----+---------+\n",
      "|     010001| Statin at Discharge|          AMI_10|   98|       98|\n",
      "|     010001|Aspirin prescribe...|           AMI_2|   99|       99|\n",
      "|     010001|Fibrinolytic Ther...|          AMI_7a| null|     null|\n",
      "|     010001|Primary PCI Recei...|          AMI_8a|   91|       91|\n",
      "|     010001|Emergency departm...|             EDV| null|     null|\n",
      "|     010001|Discharge instruc...|            HF_1|   91|       91|\n",
      "|     010001|Evaluation of LVS...|            HF_2|  100|      100|\n",
      "|     010001|ACEI or ARB for LVSD|            HF_3|   98|       98|\n",
      "|     010001|Immunization for ...|           IMM_2|   94|       94|\n",
      "|     010001|Healthcare worker...|IMM_3_FAC_ADHPCT|   56|       56|\n",
      "|     010001|Fibrinolytic Ther...|            OP_2| null|     null|\n",
      "|     010001|Left before being...|           OP_22|    4|       96|\n",
      "|     010001|     Head CT results|           OP_23| null|     null|\n",
      "|     010001|  Aspirin at Arrival|            OP_4| null|     null|\n",
      "|     010001|Prophylactic Anti...|            OP_6|  100|      100|\n",
      "|     010001|Prophylactic Anti...|            OP_7|  100|      100|\n",
      "|     010001|Percent of newbor...|           PC_01|    0|      100|\n",
      "|     010001|Initial antibioti...|            PN_6|   99|       99|\n",
      "|     010001|Surgery Patients ...|     SCIP_CARD_2|   97|       97|\n",
      "|     010001|Prophylactic anti...|      SCIP_INF_1|   99|       99|\n",
      "+-----------+--------------------+----------------+-----+---------+\n",
      "only showing top 20 rows\n",
      "\n"
     ]
    }
   ],
   "source": [
    "# add new column for transformed score\n",
    "care_df = care_df.withColumn('new_score', care_df.score)\n",
    "\n",
    "# convert measure_id = 'OP_22' OR measure_id = 'PC_01' OR measure_id = 'VTE_6' to 100 - new_score\n",
    "care_df = care_df.withColumn('new_score', \n",
    "                         func.when(care_df.measure_id == 'OP_22', 100 - care_df.new_score). \\\n",
    "                         otherwise(care_df.new_score))\n",
    "care_df = care_df.withColumn('new_score', \n",
    "                             func.when(care_df.measure_id == 'PC_01', 100 - care_df.new_score). \\\n",
    "                             otherwise(care_df.new_score))\n",
    "care_df = care_df.withColumn('new_score', \n",
    "                             func.when(care_df.measure_id == 'VTE_6', 100 - care_df.new_score).\n",
    "                             otherwise(care_df.new_score))\n",
    "care_df.count()\n",
    "care_df.show()"
   ]
  },
  {
   "cell_type": "code",
   "execution_count": 4,
   "metadata": {
    "collapsed": false
   },
   "outputs": [
    {
     "name": "stdout",
     "output_type": "stream",
     "text": [
      "+-----------+--------------------+----------+-----+---------+\n",
      "|provider_id|        measure_name|measure_id|score|new_score|\n",
      "+-----------+--------------------+----------+-----+---------+\n",
      "|     010001|Incidence of pote...|     VTE_6|    0|      100|\n",
      "|     010005|Incidence of pote...|     VTE_6|   29|       71|\n",
      "|     010006|Incidence of pote...|     VTE_6|    8|       92|\n",
      "|     010007|Incidence of pote...|     VTE_6| null|     null|\n",
      "|     010008|Incidence of pote...|     VTE_6| null|     null|\n",
      "|     010011|Incidence of pote...|     VTE_6|   19|       81|\n",
      "|     010012|Incidence of pote...|     VTE_6| null|     null|\n",
      "|     010016|Incidence of pote...|     VTE_6|    0|      100|\n",
      "|     010018|Incidence of pote...|     VTE_6| null|     null|\n",
      "|     010019|Incidence of pote...|     VTE_6| null|     null|\n",
      "|     010021|Incidence of pote...|     VTE_6| null|     null|\n",
      "|     010022|Incidence of pote...|     VTE_6| null|     null|\n",
      "|     010023|Incidence of pote...|     VTE_6|    0|      100|\n",
      "|     010024|Incidence of pote...|     VTE_6|   12|       88|\n",
      "|     010029|Incidence of pote...|     VTE_6|   19|       81|\n",
      "|     010032|Incidence of pote...|     VTE_6| null|     null|\n",
      "|     010033|Incidence of pote...|     VTE_6|   10|       90|\n",
      "|     010034|Incidence of pote...|     VTE_6| null|     null|\n",
      "|     010035|Incidence of pote...|     VTE_6| null|     null|\n",
      "|     010036|Incidence of pote...|     VTE_6| null|     null|\n",
      "+-----------+--------------------+----------+-----+---------+\n",
      "only showing top 20 rows\n",
      "\n"
     ]
    }
   ],
   "source": [
    "care_df[care_df.measure_id == 'VTE_6'].show()"
   ]
  },
  {
   "cell_type": "code",
   "execution_count": 5,
   "metadata": {
    "collapsed": false
   },
   "outputs": [
    {
     "name": "stdout",
     "output_type": "stream",
     "text": [
      "66990\n",
      "+-----------+--------------------+------------------+-------+---------+\n",
      "|provider_id|        measure_name|        measure_id|  score|new_score|\n",
      "+-----------+--------------------+------------------+-------+---------+\n",
      "|     010001|Acute Myocardial ...|       MORT_30_AMI|12.2000|  87.8000|\n",
      "|     010001| Death rate for CABG|      MORT_30_CABG| 3.7000|  96.3000|\n",
      "|     010001|Death rate for ch...|      MORT_30_COPD| 8.8000|  91.2000|\n",
      "|     010001|Heart failure (HF...|        MORT_30_HF|12.6000|  87.4000|\n",
      "|     010001|Pneumonia (PN) 30...|        MORT_30_PN|11.6000|  88.4000|\n",
      "|     010001|Death rate for st...|       MORT_30_STK|15.3000|  84.7000|\n",
      "|     010001|Acute Myocardial ...|      READM_30_AMI|17.4000|  82.6000|\n",
      "|     010001|Rate of unplanned...|     READM_30_CABG|15.9000|  84.1000|\n",
      "|     010001|Rate of unplanned...|     READM_30_COPD|22.0000|  78.0000|\n",
      "|     010001|Heart failure (HF...|       READM_30_HF|21.0000|  79.0000|\n",
      "|     010001|Rate of readmissi...| READM_30_HIP_KNEE| 5.2000|  94.8000|\n",
      "|     010001|Rate of readmissi...|READM_30_HOSP_WIDE|14.8000|  85.2000|\n",
      "|     010001|Pneumonia (PN) 30...|       READM_30_PN|18.2000|  81.8000|\n",
      "|     010001|Rate of unplanned...|      READM_30_STK|13.0000|  87.0000|\n",
      "|     010005|Acute Myocardial ...|       MORT_30_AMI|16.9000|  83.1000|\n",
      "|     010005| Death rate for CABG|      MORT_30_CABG|   null|     null|\n",
      "|     010005|Death rate for ch...|      MORT_30_COPD| 7.5000|  92.5000|\n",
      "|     010005|Heart failure (HF...|        MORT_30_HF|16.3000|  83.7000|\n",
      "|     010005|Pneumonia (PN) 30...|        MORT_30_PN|13.9000|  86.1000|\n",
      "|     010005|Death rate for st...|       MORT_30_STK|14.8000|  85.2000|\n",
      "+-----------+--------------------+------------------+-------+---------+\n",
      "only showing top 20 rows\n",
      "\n"
     ]
    }
   ],
   "source": [
    "# select data from readmissions and deaths\n",
    "sql = \"\"\"\n",
    "select provider_id, measure_name,\n",
    "measure_id, score\n",
    "from my_readmissions\n",
    "\"\"\"\n",
    "read_df = sqlContext.sql(sql)\n",
    "print(read_df.count())\n",
    "\n",
    "# convert scores to new_score so that higher is better\n",
    "read_df = read_df.withColumn('new_score', read_df.score)\n",
    "read_df = read_df.withColumn('new_score', 100 - read_df.new_score)\n",
    "read_df.show()"
   ]
  },
  {
   "cell_type": "code",
   "execution_count": 6,
   "metadata": {
    "collapsed": false
   },
   "outputs": [
    {
     "name": "stdout",
     "output_type": "stream",
     "text": [
      "28065\n",
      "+-----------+--------------------+--------------------+-------+---------+\n",
      "|provider_id|        measure_name|          measure_id|  score|new_score|\n",
      "+-----------+--------------------+--------------------+-------+---------+\n",
      "|     140010|Serious blood clo...|PSI_12_POSTOP_PUL...|15.2000|  84.8000|\n",
      "|     370093|Serious blood clo...|PSI_12_POSTOP_PUL...|14.6700|  85.3300|\n",
      "|     330160|Serious blood clo...|PSI_12_POSTOP_PUL...|13.9900|  86.0100|\n",
      "|     170027|Serious blood clo...|PSI_12_POSTOP_PUL...|13.7400|  86.2600|\n",
      "|     310076|Serious blood clo...|PSI_12_POSTOP_PUL...|12.5400|  87.4600|\n",
      "|     110083|Serious blood clo...|PSI_12_POSTOP_PUL...|12.1700|  87.8300|\n",
      "|     140150|Serious blood clo...|PSI_12_POSTOP_PUL...|12.1100|  87.8900|\n",
      "|     260105|Serious blood clo...|PSI_12_POSTOP_PUL...|11.9200|  88.0800|\n",
      "|     260032|Serious blood clo...|PSI_12_POSTOP_PUL...|11.7300|  88.2700|\n",
      "|     110161|Serious blood clo...|PSI_12_POSTOP_PUL...|11.3700|  88.6300|\n",
      "|     390110|Serious blood clo...|PSI_12_POSTOP_PUL...|11.1800|  88.8200|\n",
      "|     450289|Serious blood clo...|PSI_12_POSTOP_PUL...|10.9900|  89.0100|\n",
      "|     330127|Serious blood clo...|PSI_12_POSTOP_PUL...|10.8400|  89.1600|\n",
      "|     100067|Serious blood clo...|PSI_12_POSTOP_PUL...|10.7000|  89.3000|\n",
      "|     300011|Serious blood clo...|PSI_12_POSTOP_PUL...|10.6700|  89.3300|\n",
      "|     450730|Serious blood clo...|PSI_12_POSTOP_PUL...|10.5900|  89.4100|\n",
      "|     390321|Serious blood clo...|PSI_12_POSTOP_PUL...|10.5300|  89.4700|\n",
      "|     140281|Serious blood clo...|PSI_12_POSTOP_PUL...|10.3900|  89.6100|\n",
      "|     230053|Serious blood clo...|PSI_12_POSTOP_PUL...|10.3800|  89.6200|\n",
      "|     170182|Serious blood clo...|PSI_12_POSTOP_PUL...|10.3400|  89.6600|\n",
      "+-----------+--------------------+--------------------+-------+---------+\n",
      "only showing top 20 rows\n",
      "\n"
     ]
    }
   ],
   "source": [
    "# select data from complications (measure_id != PSI_4_SURG_COMP)\n",
    "sql = \"\"\"\n",
    "select provider_id, measure_name,\n",
    "measure_id, score\n",
    "from my_complications\n",
    "where measure_id != 'PSI_4_SURG_COMP'\n",
    "\"\"\"\n",
    "comp_df = sqlContext.sql(sql)\n",
    "print(comp_df.count())\n",
    "\n",
    "# convert scores to new_score so that higher is better\n",
    "comp_df = comp_df.withColumn('new_score', comp_df.score)\n",
    "comp_df = comp_df.withColumn('new_score', 100 - comp_df.new_score)\n",
    "comp_df.sort('score', ascending=False).show()"
   ]
  },
  {
   "cell_type": "code",
   "execution_count": 7,
   "metadata": {
    "collapsed": false
   },
   "outputs": [
    {
     "name": "stdout",
     "output_type": "stream",
     "text": [
      "27936\n",
      "+-----------+--------------------+----------+------+---------+\n",
      "|provider_id|        measure_name|measure_id| score|new_score|\n",
      "+-----------+--------------------+----------+------+---------+\n",
      "|     100181|Methicillin-resis...| HAI_5_SIR|9.9890|  90.0110|\n",
      "|     390270|Surgical Site Inf...| HAI_4_SIR|8.2870|  91.7130|\n",
      "|     330233|Methicillin-resis...| HAI_5_SIR|7.3070|  92.6930|\n",
      "|     230297|Methicillin-resis...| HAI_5_SIR|7.0380|  92.9620|\n",
      "|     050008|Catheter-Associat...| HAI_2_SIR|6.7800|  93.2200|\n",
      "|     480001|Catheter-Associat...| HAI_2_SIR|5.9170|  94.0830|\n",
      "|     430012|Surgical Site Inf...| HAI_3_SIR|5.6540|  94.3460|\n",
      "|     140095|Central line-asso...| HAI_1_SIR|5.6040|  94.3960|\n",
      "|     110128|Catheter-Associat...| HAI_2_SIR|5.3480|  94.6520|\n",
      "|     190005|Surgical Site Inf...| HAI_4_SIR|5.2360|  94.7640|\n",
      "|     450039|Surgical Site Inf...| HAI_4_SIR|5.1280|  94.8720|\n",
      "|     160047|Surgical Site Inf...| HAI_3_SIR|4.8660|  95.1340|\n",
      "|     050425|Catheter-Associat...| HAI_2_SIR|4.8120|  95.1880|\n",
      "|     380056|Clostridium diffi...| HAI_6_SIR|4.7990|  95.2010|\n",
      "|     040088|Surgical Site Inf...| HAI_3_SIR|4.7790|  95.2210|\n",
      "|     230141|Surgical Site Inf...| HAI_4_SIR|4.6080|  95.3920|\n",
      "|     180011|Methicillin-resis...| HAI_5_SIR|4.5780|  95.4220|\n",
      "|     180048|Catheter-Associat...| HAI_2_SIR|4.5080|  95.4920|\n",
      "|     050663|Methicillin-resis...| HAI_5_SIR|4.5070|  95.4930|\n",
      "|     370094|Methicillin-resis...| HAI_5_SIR|4.4880|  95.5120|\n",
      "+-----------+--------------------+----------+------+---------+\n",
      "only showing top 20 rows\n",
      "\n"
     ]
    }
   ],
   "source": [
    "# select data from infections only use Standardized Infections Ratios (SIR) for calculations\n",
    "sql = \"\"\"\n",
    "select provider_id, measure_name,\n",
    "measure_id, score\n",
    "from my_infections\n",
    "where measure_id like '%SIR%'\n",
    "\"\"\"\n",
    "infect_df = sqlContext.sql(sql)\n",
    "print(infect_df.count())\n",
    "\n",
    "# convert scores to new_score so that higher is better\n",
    "infect_df = infect_df.withColumn('new_score', infect_df.score)\n",
    "infect_df = infect_df.withColumn('new_score', 100 - infect_df.new_score)\n",
    "infect_df.sort('score', ascending=False).show()"
   ]
  },
  {
   "cell_type": "code",
   "execution_count": 8,
   "metadata": {
    "collapsed": false
   },
   "outputs": [
    {
     "data": {
      "text/plain": [
       "306834"
      ]
     },
     "execution_count": 8,
     "metadata": {},
     "output_type": "execute_result"
    }
   ],
   "source": [
    "# combine the all the tables\n",
    "combined_df = care_df.unionAll(read_df).unionAll(comp_df).unionAll(infect_df)\n",
    "combined_df.count()"
   ]
  },
  {
   "cell_type": "code",
   "execution_count": 9,
   "metadata": {
    "collapsed": false
   },
   "outputs": [],
   "source": [
    "# convert null values to 0s\n",
    "combined_df = combined_df.fillna({'new_score': 0})"
   ]
  },
  {
   "cell_type": "code",
   "execution_count": 10,
   "metadata": {
    "collapsed": false
   },
   "outputs": [],
   "source": [
    "# group by hospital, avg new_scores and sum new_scores\n",
    "#combined_df.groupBy('provider_id') \\\n",
    "#    .agg(func.avg('new_score').alias('avg_score'),\n",
    "#         func.sum('new_score').alias('sum_score')) \\\n",
    "#    .sort('avg_score', ascending=False).show()"
   ]
  },
  {
   "cell_type": "code",
   "execution_count": 21,
   "metadata": {
    "collapsed": false
   },
   "outputs": [],
   "source": [
    "from pyspark.sql import DataFrameWriter\n",
    "\n",
    "#combined_df.registerTempTable('temp_care')\n",
    "sqlContext.sql('DROP TABLE IF EXISTS my_combined_procedures')\n",
    "df_writer = DataFrameWriter(combined_df)\n",
    "df_writer.saveAsTable('my_combined_procedures')"
   ]
  },
  {
   "cell_type": "code",
   "execution_count": 22,
   "metadata": {
    "collapsed": false
   },
   "outputs": [
    {
     "name": "stdout",
     "output_type": "stream",
     "text": [
      "+------------+-------------+-------+\n",
      "|    col_name|    data_type|comment|\n",
      "+------------+-------------+-------+\n",
      "| provider_id|       string|       |\n",
      "|measure_name|       string|       |\n",
      "|  measure_id|       string|       |\n",
      "|       score|decimal(16,4)|       |\n",
      "|   new_score|decimal(17,4)|       |\n",
      "+------------+-------------+-------+\n",
      "\n"
     ]
    }
   ],
   "source": [
    "sqlContext.sql(\"describe my_combined_procedures\").show()"
   ]
  },
  {
   "cell_type": "code",
   "execution_count": 11,
   "metadata": {
    "collapsed": false
   },
   "outputs": [
    {
     "name": "stdout",
     "output_type": "stream",
     "text": [
      "+-----------+--------------------+-----------+--------+---------+\n",
      "|provider_id|        measure_name| measure_id|   score|new_score|\n",
      "+-----------+--------------------+-----------+--------+---------+\n",
      "|     010005|Prophylactic anti...| SCIP_INF_1|100.0000| 100.0000|\n",
      "|     010006|Primary PCI Recei...|     AMI_8a|100.0000| 100.0000|\n",
      "|     010005|Surgery Patients ...|SCIP_INF_10|100.0000| 100.0000|\n",
      "|     010001|Prophylactic Anti...|       OP_6|100.0000| 100.0000|\n",
      "|     010005|Prophylactic anti...| SCIP_INF_3|100.0000| 100.0000|\n",
      "|     010001|Surgery Patients ...|SCIP_INF_10|100.0000| 100.0000|\n",
      "|     010005|Surgery Patients ...| SCIP_VTE_2|100.0000| 100.0000|\n",
      "|     010001|Surgery Patients ...| SCIP_VTE_2|100.0000| 100.0000|\n",
      "|     010005|Assessed for Reha...|     STK_10|100.0000| 100.0000|\n",
      "|     010001|Discharged on Ant...|      STK_2|100.0000| 100.0000|\n",
      "|     010005|Anticoagulation T...|      STK_3|100.0000| 100.0000|\n",
      "|     010005|Aspirin prescribe...|      AMI_2|100.0000| 100.0000|\n",
      "|     010005|Anticoagulation o...|      VTE_3|100.0000| 100.0000|\n",
      "|     010005|Prophylactic Anti...|       OP_6|100.0000| 100.0000|\n",
      "|     010005|Unfractionated he...|      VTE_4|100.0000| 100.0000|\n",
      "|     010001|Prophylactic Anti...|       OP_7|100.0000| 100.0000|\n",
      "|     010005|Warfarin therapy ...|      VTE_5|100.0000| 100.0000|\n",
      "|     010001|Assessed for Reha...|     STK_10|100.0000| 100.0000|\n",
      "|     010006| Statin at Discharge|     AMI_10|100.0000| 100.0000|\n",
      "|     010006|Discharge instruc...|       HF_1|100.0000| 100.0000|\n",
      "+-----------+--------------------+-----------+--------+---------+\n",
      "only showing top 20 rows\n",
      "\n"
     ]
    }
   ],
   "source": [
    "sqlContext.sql(\"select * from my_combined_procedures order by score DESC\").show()"
   ]
  },
  {
   "cell_type": "markdown",
   "metadata": {},
   "source": [
    "## Investigating data"
   ]
  },
  {
   "cell_type": "code",
   "execution_count": 8,
   "metadata": {
    "collapsed": false
   },
   "outputs": [
    {
     "name": "stdout",
     "output_type": "stream",
     "text": [
      "+-----------+-----------+---------+------------------+--------------------+------------------+-----+\n",
      "|provider_id|  avg_score|sum_score|           std_dev|                name|              city|state|\n",
      "+-----------+-----------+---------+------------------+--------------------+------------------+-----+\n",
      "|     450388|91.52250000|6223.5300|20.674949430551997|  METHODIST HOSPITAL|       SAN ANTONIO|   TX|\n",
      "|     030036|91.03030769|5916.9700| 20.81949413774214|CHANDLER REGIONAL...|          CHANDLER|   AZ|\n",
      "|     450723|90.92936923|5910.4090|21.152496027706285|METHODIST CHARLTO...|            DALLAS|   TX|\n",
      "|     050231|90.69501538|5895.1760|20.944048846311603|POMONA VALLEY HOS...|            POMONA|   CA|\n",
      "|     050308|90.65812308|5892.7780|21.745274866761417|  EL CAMINO HOSPITAL|     MOUNTAIN VIEW|   CA|\n",
      "|     260065|90.60870769|5889.5660| 20.79683189165938|MERCY HOSPITAL SP...|       SPRINGFIELD|   MO|\n",
      "|     050570|90.52480000|5884.1120|20.972100787768206|FOUNTAIN VALLEY R...|   FOUNTAIN VALLEY|   CA|\n",
      "|     050077|90.45890769|5879.8290| 20.85055615323418|SCRIPPS MERCY HOS...|         SAN DIEGO|   CA|\n",
      "|     340091|90.37229231|5874.1990|21.383274657993137|MOSES H CONE MEMO...|        GREENSBORO|   NC|\n",
      "|     360155|90.36926154|5874.0020|20.984063972656028|SOUTHWEST GENERAL...|MIDDLEBURG HEIGHTS|   OH|\n",
      "+-----------+-----------+---------+------------------+--------------------+------------------+-----+\n",
      "\n"
     ]
    }
   ],
   "source": [
    "# What hospitals are models of high-quality care? \n",
    "# That is, which hospitals have the most consistently \n",
    "# high scores for a variety of procedures.\n",
    "sql = \"\"\"\n",
    "SELECT p.provider_id, avg(new_score) AS avg_score, \n",
    "sum(new_score) AS sum_score,\n",
    "stddev(new_score) AS std_dev,\n",
    "name, city, state\n",
    "FROM my_combined_procedures p INNER JOIN my_hospitals h \n",
    "ON p.provider_id = h.provider_id\n",
    "GROUP BY p.provider_id, name, city, state\n",
    "ORDER BY avg_score DESC \n",
    "LIMIT 10\n",
    "\"\"\"\n",
    "combined_scores_df = sqlContext.sql(sql)\n",
    "combined_scores_df.show()"
   ]
  },
  {
   "cell_type": "code",
   "execution_count": 7,
   "metadata": {
    "collapsed": false
   },
   "outputs": [],
   "source": [
    "#sqlContext.sql(\"SELECT * FROM my_combined_procedures where provider_id = '450388'\").show(n=450388)"
   ]
  },
  {
   "cell_type": "code",
   "execution_count": 9,
   "metadata": {
    "collapsed": false
   },
   "outputs": [
    {
     "name": "stdout",
     "output_type": "stream",
     "text": [
      "+-----+-----------+-----------+------------------+\n",
      "|state|  avg_score|  sum_score|           std_dev|\n",
      "+-----+-----------+-----------+------------------+\n",
      "|   NJ|80.15610979|335854.1000|34.342725071482654|\n",
      "|   DE|80.06332134| 33386.4050| 34.50229093623751|\n",
      "|   CT|73.83223116|145966.3210| 39.39658237877559|\n",
      "|   FL|73.29968334|868747.8470| 39.96398023239047|\n",
      "|   RI|73.28125202| 54374.6890| 39.28783979441245|\n",
      "|   MA|69.39629851|283622.6720| 42.01992836228156|\n",
      "|   DC|68.26902377| 37343.1560| 41.56831749952921|\n",
      "|   VA|67.73025287|366420.6680|43.053910645623695|\n",
      "|   NY|66.36262537|747707.7000| 42.96222685958356|\n",
      "|   PA|66.20132765|722124.0820| 43.49033522646685|\n",
      "+-----+-----------+-----------+------------------+\n",
      "\n"
     ]
    }
   ],
   "source": [
    "# What states are models of high-quality care?\n",
    "sql = \"\"\"\n",
    "SELECT state, avg(new_score) AS avg_score, \n",
    "sum(new_score) AS sum_score,\n",
    "stddev(new_score) AS std_dev\n",
    "FROM my_combined_procedures p INNER JOIN my_hospitals h \n",
    "ON p.provider_id = h.provider_id\n",
    "GROUP BY state\n",
    "ORDER BY avg_score DESC\n",
    "LIMIT 10\n",
    "\"\"\"\n",
    "sqlContext.sql(sql).show()"
   ]
  },
  {
   "cell_type": "code",
   "execution_count": 10,
   "metadata": {
    "collapsed": false
   },
   "outputs": [
    {
     "name": "stdout",
     "output_type": "stream",
     "text": [
      "+-------------------+--------------------+-----------+-----------+------------------+\n",
      "|         measure_id|        measure_name|  avg_score|  sum_score|           std_dev|\n",
      "+-------------------+--------------------+-----------+-----------+------------------+\n",
      "|          HAI_2_SIR|Catheter-Associat...|48.30051912|224887.2170| 49.45932191841454|\n",
      "|              AMI_2|Aspirin prescribe...|46.76739691|217749.0000|49.334403774660466|\n",
      "|          HAI_1_SIR|Central line-asso...|42.76890163|199132.0060| 49.26597269849545|\n",
      "|              VTE_4|Unfractionated he...|43.39819588|202062.0000| 49.17729021645856|\n",
      "|          HAI_3_SIR|Surgical Site Inf...|43.31772380|201687.3220| 49.14184522159113|\n",
      "|             AMI_10| Statin at Discharge|45.86168385|213532.0000| 48.86002194975948|\n",
      "|              STK_2|Discharged on Ant...|56.60674399|263561.0000| 48.84487628252045|\n",
      "|PSI_14_POSTOP_DEHIS|A wound that spli...|54.71919029|254772.5500|48.829550373292854|\n",
      "|          HAI_5_SIR|Methicillin-resis...|40.52777857|188697.3370|48.726715857075924|\n",
      "|              STK_5|Antithrombotic Th...|56.16967354|261526.0000| 48.50840425178849|\n",
      "+-------------------+--------------------+-----------+-----------+------------------+\n",
      "\n"
     ]
    }
   ],
   "source": [
    "# Which procedures have the greatest variability between hospitals?\n",
    "sql = \"\"\"\n",
    "SELECT measure_id, measure_name, avg(new_score) AS avg_score, \n",
    "sum(new_score) AS sum_score,\n",
    "stddev(new_score) AS std_dev\n",
    "FROM my_combined_procedures\n",
    "GROUP BY measure_id, measure_name\n",
    "ORDER BY std_dev DESC\n",
    "LIMIT 10\n",
    "\"\"\"\n",
    "sqlContext.sql(sql).show()"
   ]
  },
  {
   "cell_type": "code",
   "execution_count": 31,
   "metadata": {
    "collapsed": false
   },
   "outputs": [
    {
     "name": "stdout",
     "output_type": "stream",
     "text": [
      "+-----------+-----------+---------+------------------+--------------------+----------------+-----+------------+\n",
      "|provider_id|  avg_score|sum_score|           std_dev|                name|            city|state|survey_score|\n",
      "+-----------+-----------+---------+------------------+--------------------+----------------+-----+------------+\n",
      "|     110229|80.61803077|5240.1720| 33.58515318042929|PIEDMONT NEWNAN H...|          NEWNAN|   GA|          40|\n",
      "|     330045|83.30846154|5415.0500|30.749485314555415| HUNTINGTON HOSPITAL|      HUNTINGTON|   NY|          35|\n",
      "|     360211|84.16970769|5471.0310|28.398505313713574|TRINITY MEDICAL C...|    STEUBENVILLE|   OH|          41|\n",
      "|     360027|88.30530769|5739.8450|23.587604562842277|AKRON GENERAL MED...|           AKRON|   OH|          32|\n",
      "|     100022|84.71827692|5506.6880| 26.61613362519213|JACKSON MEMORIAL ...|           MIAMI|   FL|          12|\n",
      "|     500015|81.26541538|5282.2520| 33.26611564381173|MULTICARE AUBURN ...|          AUBURN|   WA|          10|\n",
      "|     010044|34.99280000|2274.5320| 45.90125591283297|MARION REGIONAL M...|        HAMILTON|   AL|          92|\n",
      "|     060031|83.27967692|5413.1790|30.857668470729728|CENTURA HEALTH-PE...|COLORADO SPRINGS|   CO|          34|\n",
      "|     100087|89.80361538|5837.2350|23.569702965846325|SARASOTA MEMORIAL...|        SARASOTA|   FL|          53|\n",
      "|     500012|75.77144615|4925.1440| 35.08896894819083|YAKIMA REGIONAL M...|          YAKIMA|   WA|          18|\n",
      "|     190090|31.46432308|2045.1810| 42.43176694705828|WINN PARISH MEDIC...|       WINNFIELD|   LA|          65|\n",
      "|     060076|53.18835385|3457.2430| 46.60903591049232|STERLING REGIONAL...|        STERLING|   CO|          69|\n",
      "|     090006|74.40300000|4836.1950| 36.56523621945598| PROVIDENCE HOSPITAL|      WASHINGTON|   DC|          21|\n",
      "|     200063|76.00083077|4940.0540| 38.39200750780107|PENOBSCOT BAY MED...|        ROCKPORT|   ME|          30|\n",
      "|     360082|73.83875385|4799.5190|40.800129832384215|     EUCLID HOSPITAL|          EUCLID|   OH|          58|\n",
      "|     160104|74.75916923|4859.3460| 38.05504885236618|  TRINITY BETTENDORF|      BETTENDORF|   IA|          39|\n",
      "|     190278|28.58569231|1858.0700|43.414804280044336|SPECIALISTS HOSPI...|      SHREVEPORT|   LA|          98|\n",
      "|     100048|25.72615385|1672.2000| 41.75933187987153|        JAY HOSPITAL|             JAY|   FL|          75|\n",
      "|     410013|62.79632308|4081.7610| 43.76388433790783|   WESTERLY HOSPITAL|        WESTERLY|   RI|          46|\n",
      "|     190060|82.76870769|5379.9660|29.036243000627326|LAKE CHARLES MEMO...|    LAKE CHARLES|   LA|          57|\n",
      "+-----------+-----------+---------+------------------+--------------------+----------------+-----+------------+\n",
      "only showing top 20 rows\n",
      "\n"
     ]
    }
   ],
   "source": [
    "# Are average scores for hospital quality or procedural variability correlated with patient survey responses?\n",
    "sql = \"\"\"\n",
    "SELECT p.provider_id, avg(new_score) AS avg_score, \n",
    "sum(new_score) AS sum_score,\n",
    "stddev(new_score) AS std_dev,\n",
    "name, city, state,\n",
    "total_score AS survey_score\n",
    "FROM my_combined_procedures p INNER JOIN my_survey_scores s \n",
    "ON p.provider_id = s.provider_id INNER JOIN my_hospitals h \n",
    "ON p.provider_id = h.provider_id\n",
    "GROUP BY p.provider_id, name, city, state, total_score\n",
    "\"\"\"\n",
    "cor_df = sqlContext.sql(sql)\n",
    "cor_df.show()"
   ]
  },
  {
   "cell_type": "code",
   "execution_count": 32,
   "metadata": {
    "collapsed": false
   },
   "outputs": [],
   "source": [
    "#cor_df = combined_scores_df.join(survey_df, on='provider_id', how='inner')\n",
    "#cor_df.show()"
   ]
  },
  {
   "cell_type": "code",
   "execution_count": 33,
   "metadata": {
    "collapsed": false
   },
   "outputs": [
    {
     "data": {
      "text/plain": [
       "-0.37048241485883027"
      ]
     },
     "execution_count": 33,
     "metadata": {},
     "output_type": "execute_result"
    }
   ],
   "source": [
    "# Are average scores for hospital quality correlated with patient survey scores?\n",
    "cor_df.stat.corr('avg_score', 'survey_score')"
   ]
  },
  {
   "cell_type": "code",
   "execution_count": 34,
   "metadata": {
    "collapsed": false
   },
   "outputs": [
    {
     "data": {
      "text/plain": [
       "0.30409843205406223"
      ]
     },
     "execution_count": 34,
     "metadata": {},
     "output_type": "execute_result"
    }
   ],
   "source": [
    "cor_df.stat.corr('std_dev', 'survey_score')"
   ]
  },
  {
   "cell_type": "code",
   "execution_count": 20,
   "metadata": {
    "collapsed": false
   },
   "outputs": [],
   "source": [
    "# Is procedural variability correlated with patient survey responses?\n",
    "sql = \"\"\"\n",
    "SELECT measure_id, measure_name, avg(new_score) AS avg_score, \n",
    "sum(new_score) AS sum_score,\n",
    "stddev(new_score) AS std_dev,\n",
    "avg(total_score) AS avg_survey_score\n",
    "FROM my_combined_procedures p INNER JOIN my_survey_scores s\n",
    "ON p.provider_id = s.provider_id\n",
    "GROUP BY measure_id, measure_name\n",
    "\"\"\"\n",
    "score_df = sqlContext.sql(sql)"
   ]
  },
  {
   "cell_type": "code",
   "execution_count": 21,
   "metadata": {
    "collapsed": false
   },
   "outputs": [
    {
     "data": {
      "text/plain": [
       "0.052372713236259236"
      ]
     },
     "execution_count": 21,
     "metadata": {},
     "output_type": "execute_result"
    }
   ],
   "source": [
    "score_df.stat.corr('std_dev', 'avg_survey_score')"
   ]
  },
  {
   "cell_type": "code",
   "execution_count": 29,
   "metadata": {
    "collapsed": false
   },
   "outputs": [
    {
     "name": "stdout",
     "output_type": "stream",
     "text": [
      "+-----------+--------------------+-------------------+-----+-----------+---------+------------------+------------+\n",
      "|provider_id|                name|               city|state|  avg_score|sum_score|           std_dev|survey_score|\n",
      "+-----------+--------------------+-------------------+-----+-----------+---------+------------------+------------+\n",
      "|     490143|RIVERSIDE DOCTORS...|       WILLIAMSBURG|   VA|49.72800000|3232.3200|49.080679394708405|          62|\n",
      "|     450766|UT SOUTHWESTERN U...|             DALLAS|   TX|46.76441538|3039.6870| 49.05240542518466|          81|\n",
      "|     450851|BAYLOR HEART AND ...|             DALLAS|   TX|46.39875385|3015.9190|48.731317581527755|          84|\n",
      "|     240006|OLMSTED MEDICAL C...|          ROCHESTER|   MN|44.90315385|2918.7050|48.589780704376594|          65|\n",
      "|     060049|YAMPA VALLEY MEDI...|  STEAMBOAT SPRINGS|   CO|46.09643077|2996.2680| 48.42102750410094|          83|\n",
      "|     460057|PARK CITY MEDICAL...|          PARK CITY|   UT|42.04540000|2732.9510|48.405198199176276|          80|\n",
      "|     670006|THE HOSPITAL AT W...|             AUSTIN|   TX|45.88953846|2982.8200| 48.25759040912295|          54|\n",
      "|     380103|KAISER FOUNDATION...|          HILLSBORO|   OR|56.05155932|3307.0420|48.251101274960355|          70|\n",
      "|     370228|BAILEY MEDICAL CE...|             OWASSO|   OK|47.22815385|3069.8300| 48.15344981306541|          90|\n",
      "|     420037|GHS-HILLCREST MEM...|       SIMPSONVILLE|   SC|50.19303077|3262.5470| 48.11818863716849|          68|\n",
      "|     460017|BRIGHAM CITY COMM...|       BRIGHAM CITY|   UT|43.09830769|2801.3900|48.115841324524965|          23|\n",
      "|     150057|FRANCISCAN ST FRA...|        MOORESVILLE|   IN|50.14960000|3259.7240|48.091290765920476|          75|\n",
      "|     260050|ST FRANCIS HOSPIT...|          MARYVILLE|   MO|45.74323077|2973.3100|48.088796811657694|          69|\n",
      "|     190201|LAKE AREA MEDICAL...|       LAKE CHARLES|   LA|48.56844615|3156.9490| 48.05917276858756|          75|\n",
      "|     460058|   RIVERTON HOSPITAL|           RIVERTON|   UT|53.35704615|3468.2080| 48.04398200765331|          51|\n",
      "|     180128|THREE RIVERS MEDI...|             LOUISA|   KY|46.99053846|3054.3850|  48.0222142356501|          65|\n",
      "|     260214|BELTON REGIONAL M...|             BELTON|   MO|50.04878462|3253.1710| 47.99979829204168|          37|\n",
      "|     240018|MAYO CLINIC HEALT...|           RED WING|   MN|51.61150769|3354.7480| 47.98708146289857|          60|\n",
      "|     050070|KAISER FOUNDATION...|SOUTH SAN FRANCISCO|   CA|59.93908475|3536.4060| 47.97765357948238|          37|\n",
      "|     220088|NEW ENGLAND BAPTI...|             BOSTON|   MA|48.50060000|3152.5390|47.975806476822655|          73|\n",
      "+-----------+--------------------+-------------------+-----+-----------+---------+------------------+------------+\n",
      "only showing top 20 rows\n",
      "\n"
     ]
    }
   ],
   "source": [
    "# Is procedural variability correlated with patient survey responses?\n",
    "# Look at procedure variablity for each hospital\n",
    "\n",
    "sql = \"\"\"\n",
    "SELECT p.provider_id, name, city, state,\n",
    "avg(new_score) AS avg_score, \n",
    "sum(new_score) AS sum_score,\n",
    "stddev(new_score) AS std_dev,\n",
    "total_score AS survey_score\n",
    "FROM my_combined_procedures p INNER JOIN my_survey_scores s\n",
    "ON p.provider_id = s.provider_id INNER JOIN my_hospitals h\n",
    "ON p.provider_id = h.provider_id\n",
    "GROUP BY p.provider_id, name, city, state, total_score\n",
    "ORDER BY std_dev DESC\n",
    "\"\"\"\n",
    "df = sqlContext.sql(sql)\n",
    "df.show()"
   ]
  },
  {
   "cell_type": "code",
   "execution_count": 30,
   "metadata": {
    "collapsed": false
   },
   "outputs": [
    {
     "data": {
      "text/plain": [
       "0.3040984320540629"
      ]
     },
     "execution_count": 30,
     "metadata": {},
     "output_type": "execute_result"
    }
   ],
   "source": [
    "df.stat.corr('std_dev', 'survey_score')"
   ]
  },
  {
   "cell_type": "markdown",
   "metadata": {},
   "source": [
    "\n",
    "## SQL Exploration\n"
   ]
  },
  {
   "cell_type": "code",
   "execution_count": 48,
   "metadata": {
    "collapsed": false
   },
   "outputs": [
    {
     "name": "stdout",
     "output_type": "stream",
     "text": [
      "+-----------+------------+\n",
      "|provider_id|   agg_score|\n",
      "+-----------+------------+\n",
      "|     511321|100.00000000|\n",
      "|     281324|100.00000000|\n",
      "|     111319|100.00000000|\n",
      "|     461302|100.00000000|\n",
      "|     141332|100.00000000|\n",
      "|     210058|100.00000000|\n",
      "|     490144|100.00000000|\n",
      "|     141329|100.00000000|\n",
      "|     531302|100.00000000|\n",
      "|     261333|100.00000000|\n",
      "|     201304|100.00000000|\n",
      "|     351315|100.00000000|\n",
      "|     141326|100.00000000|\n",
      "|     06007F|100.00000000|\n",
      "|     261329|100.00000000|\n",
      "|     201306|100.00000000|\n",
      "|     141328|100.00000000|\n",
      "|     201307|100.00000000|\n",
      "|     231313|100.00000000|\n",
      "|     491303|100.00000000|\n",
      "+-----------+------------+\n",
      "only showing top 20 rows\n",
      "\n"
     ]
    }
   ],
   "source": [
    "# ignore the values with times\n",
    "sql = \"\"\"\n",
    "select provider_id, avg(new_score) as agg_score from my_care \n",
    "where measure_id != 'ED_1b' AND measure_id != 'ED_2b' AND measure_id != 'OP_1'\n",
    "AND measure_id != 'OP_18b' AND measure_id != 'OP_20' AND measure_id != 'OP_21' \n",
    "AND measure_id != 'OP_3b' AND measure_id != 'OP_5'\n",
    "group by provider_id order by agg_score DESC\n",
    "\"\"\"\n",
    "sqlContext.sql(sql).show()"
   ]
  },
  {
   "cell_type": "code",
   "execution_count": 53,
   "metadata": {
    "collapsed": false
   },
   "outputs": [
    {
     "name": "stdout",
     "output_type": "stream",
     "text": [
      "+-----------+--------------------+-------------+------+-----+--------+-----------+------------+--------------------+-----------+--------------------+-------------+-------------+--------------------+------------------+----------------+\n",
      "|provider_id|       hospital_name|      address|  city|state|zip_code|county_name|phone_number|           condition| measure_id|        measure_name|        score|       sample|            footnote|measure_start_date|measure_end_date|\n",
      "+-----------+--------------------+-------------+------+-----+--------+-----------+------------+--------------------+-----------+--------------------+-------------+-------------+--------------------+------------------+----------------+\n",
      "|     281324|NEMAHA COUNTY HOS...|2022  13TH ST|AUBURN|   NE|   68305|     NEMAHA|  4022744366|Heart Attack or C...|     AMI_10| Statin at Discharge|Not Available|Not Available|5 - Results are n...|        10/01/2013|      09/30/2014|\n",
      "|     281324|NEMAHA COUNTY HOS...|2022  13TH ST|AUBURN|   NE|   68305|     NEMAHA|  4022744366|Heart Attack or C...|      AMI_2|Aspirin prescribe...|Not Available|Not Available|5 - Results are n...|        10/01/2013|      09/30/2014|\n",
      "|     281324|NEMAHA COUNTY HOS...|2022  13TH ST|AUBURN|   NE|   68305|     NEMAHA|  4022744366|Heart Attack or C...|     AMI_7a|Fibrinolytic Ther...|Not Available|Not Available|5 - Results are n...|        10/01/2013|      09/30/2014|\n",
      "|     281324|NEMAHA COUNTY HOS...|2022  13TH ST|AUBURN|   NE|   68305|     NEMAHA|  4022744366|Heart Attack or C...|     AMI_8a|Primary PCI Recei...|Not Available|Not Available|5 - Results are n...|        10/01/2013|      09/30/2014|\n",
      "|     281324|NEMAHA COUNTY HOS...|2022  13TH ST|AUBURN|   NE|   68305|     NEMAHA|  4022744366|Emergency Department|        EDV|Emergency departm...|Not Available|             |5 - Results are n...|        01/01/2013|      12/31/2013|\n",
      "|     281324|NEMAHA COUNTY HOS...|2022  13TH ST|AUBURN|   NE|   68305|     NEMAHA|  4022744366|       Heart Failure|       HF_1|Discharge instruc...|Not Available|Not Available|1 - The number of...|        10/01/2013|      09/30/2014|\n",
      "|     281324|NEMAHA COUNTY HOS...|2022  13TH ST|AUBURN|   NE|   68305|     NEMAHA|  4022744366|       Heart Failure|       HF_2|Evaluation of LVS...|Not Available|Not Available|1 - The number of...|        10/01/2013|      09/30/2014|\n",
      "|     281324|NEMAHA COUNTY HOS...|2022  13TH ST|AUBURN|   NE|   68305|     NEMAHA|  4022744366|       Heart Failure|       HF_3|ACEI or ARB for LVSD|Not Available|Not Available|3 - Results are b...|        10/01/2013|      09/30/2014|\n",
      "|     281324|NEMAHA COUNTY HOS...|2022  13TH ST|AUBURN|   NE|   68305|     NEMAHA|  4022744366|     Preventive Care|      IMM_2|Immunization for ...|Not Available|Not Available|5 - Results are n...|        10/01/2013|      03/31/2014|\n",
      "|     281324|NEMAHA COUNTY HOS...|2022  13TH ST|AUBURN|   NE|   68305|     NEMAHA|  4022744366|Heart Attack or C...|       OP_2|Fibrinolytic Ther...|Not Available|Not Available|1 - The number of...|        10/01/2013|      09/30/2014|\n",
      "|     281324|NEMAHA COUNTY HOS...|2022  13TH ST|AUBURN|   NE|   68305|     NEMAHA|  4022744366|Emergency Department|      OP_22|Left before being...|Not Available|Not Available|5 - Results are n...|        01/01/2013|      12/31/2013|\n",
      "|     281324|NEMAHA COUNTY HOS...|2022  13TH ST|AUBURN|   NE|   68305|     NEMAHA|  4022744366|Emergency Department|      OP_23|     Head CT results|Not Available|Not Available|5 - Results are n...|        10/01/2013|      09/30/2014|\n",
      "|     281324|NEMAHA COUNTY HOS...|2022  13TH ST|AUBURN|   NE|   68305|     NEMAHA|  4022744366|Heart Attack or C...|       OP_4|  Aspirin at Arrival|          100|           15|                    |        10/01/2013|      09/30/2014|\n",
      "|     281324|NEMAHA COUNTY HOS...|2022  13TH ST|AUBURN|   NE|   68305|     NEMAHA|  4022744366|Surgical Care Imp...|       OP_6|Prophylactic Anti...|Not Available|Not Available|5 - Results are n...|        10/01/2013|      09/30/2014|\n",
      "|     281324|NEMAHA COUNTY HOS...|2022  13TH ST|AUBURN|   NE|   68305|     NEMAHA|  4022744366|Surgical Care Imp...|       OP_7|Prophylactic Anti...|Not Available|Not Available|5 - Results are n...|        10/01/2013|      09/30/2014|\n",
      "|     281324|NEMAHA COUNTY HOS...|2022  13TH ST|AUBURN|   NE|   68305|     NEMAHA|  4022744366|Pregnancy and Del...|      PC_01|Percent of newbor...|Not Available|Not Available|5 - Results are n...|        10/01/2013|      09/30/2014|\n",
      "|     281324|NEMAHA COUNTY HOS...|2022  13TH ST|AUBURN|   NE|   68305|     NEMAHA|  4022744366|           Pneumonia|       PN_6|Initial antibioti...|Not Available|Not Available|1 - The number of...|        10/01/2013|      09/30/2014|\n",
      "|     281324|NEMAHA COUNTY HOS...|2022  13TH ST|AUBURN|   NE|   68305|     NEMAHA|  4022744366|Surgical Care Imp...|SCIP_CARD_2|Surgery Patients ...|Not Available|Not Available|5 - Results are n...|        10/01/2013|      09/30/2014|\n",
      "|     281324|NEMAHA COUNTY HOS...|2022  13TH ST|AUBURN|   NE|   68305|     NEMAHA|  4022744366|Surgical Care Imp...| SCIP_INF_1|Prophylactic anti...|Not Available|Not Available|5 - Results are n...|        10/01/2013|      09/30/2014|\n",
      "|     281324|NEMAHA COUNTY HOS...|2022  13TH ST|AUBURN|   NE|   68305|     NEMAHA|  4022744366|Surgical Care Imp...|SCIP_INF_10|Surgery Patients ...|Not Available|Not Available|5 - Results are n...|        10/01/2013|      09/30/2014|\n",
      "+-----------+--------------------+-------------+------+-----+--------+-----------+------------+--------------------+-----------+--------------------+-------------+-------------+--------------------+------------------+----------------+\n",
      "only showing top 20 rows\n",
      "\n"
     ]
    }
   ],
   "source": [
    "sql = \"\"\"\n",
    "select * from effective_care \n",
    "where measure_id != 'ED_1b' AND measure_id != 'ED_2b' AND measure_id != 'OP_1'\n",
    "AND measure_id != 'OP_18b' AND measure_id != 'OP_20' AND measure_id != 'OP_21' \n",
    "AND measure_id != 'OP_3b' AND measure_id != 'OP_5'\n",
    "AND provider_id = '281324'\n",
    "\"\"\"\n",
    "sqlContext.sql(sql).show()"
   ]
  },
  {
   "cell_type": "code",
   "execution_count": 52,
   "metadata": {
    "collapsed": false
   },
   "outputs": [
    {
     "name": "stdout",
     "output_type": "stream",
     "text": [
      "+-----------+--------------------+------+-----+--------+--------------------+------------------+\n",
      "|provider_id|                name|  city|state|zip_code|                type|         ownership|\n",
      "+-----------+--------------------+------+-----+--------+--------------------+------------------+\n",
      "|     281324|NEMAHA COUNTY HOS...|AUBURN|   NE|   68305|Critical Access H...|Government - Local|\n",
      "+-----------+--------------------+------+-----+--------+--------------------+------------------+\n",
      "\n"
     ]
    }
   ],
   "source": [
    "sqlContext.sql(\"select * from my_hospitals where provider_id = '281324'\").show()"
   ]
  },
  {
   "cell_type": "code",
   "execution_count": null,
   "metadata": {
    "collapsed": true
   },
   "outputs": [],
   "source": []
  }
 ],
 "metadata": {
  "kernelspec": {
   "display_name": "Python 2",
   "language": "python",
   "name": "python2"
  },
  "language_info": {
   "codemirror_mode": {
    "name": "ipython",
    "version": 2
   },
   "file_extension": ".py",
   "mimetype": "text/x-python",
   "name": "python",
   "nbconvert_exporter": "python",
   "pygments_lexer": "ipython2",
   "version": "2.7.13"
  }
 },
 "nbformat": 4,
 "nbformat_minor": 2
}
