{
 "cells": [
  {
   "cell_type": "code",
   "execution_count": 1,
   "metadata": {
    "collapsed": true
   },
   "outputs": [],
   "source": [
    "from pyspark.sql import HiveContext\n",
    "sqlContext = HiveContext(sc)"
   ]
  },
  {
   "cell_type": "code",
   "execution_count": 2,
   "metadata": {
    "collapsed": false
   },
   "outputs": [
    {
     "name": "stdout",
     "output_type": "stream",
     "text": [
      "+-----------------+-----------+\n",
      "|        tableName|isTemporary|\n",
      "+-----------------+-----------+\n",
      "|    complications|      false|\n",
      "|   effective_care|      false|\n",
      "|              foo|      false|\n",
      "|        hospitals|      false|\n",
      "|  hospital_survey|      false|\n",
      "|       infections|      false|\n",
      "|         measures|      false|\n",
      "|     my_hospitals|      false|\n",
      "|     readmissions|      false|\n",
      "|         stadiums|      false|\n",
      "|surveys_responses|      false|\n",
      "|        user_info|      false|\n",
      "|     weblogs_flat|      false|\n",
      "|  weblogs_parquet|      false|\n",
      "|   weblogs_schema|      false|\n",
      "|  web_session_log|      false|\n",
      "+-----------------+-----------+\n",
      "\n"
     ]
    }
   ],
   "source": [
    "sqlContext.sql(\"show tables\").show()"
   ]
  },
  {
   "cell_type": "code",
   "execution_count": 3,
   "metadata": {
    "collapsed": false
   },
   "outputs": [
    {
     "name": "stdout",
     "output_type": "stream",
     "text": [
      "++\n",
      "||\n",
      "++\n",
      "++\n",
      "\n"
     ]
    }
   ],
   "source": [
    "sqlContext.sql(\"drop table my_hospitals\").show()"
   ]
  },
  {
   "cell_type": "code",
   "execution_count": 67,
   "metadata": {
    "collapsed": false
   },
   "outputs": [
    {
     "name": "stdout",
     "output_type": "stream",
     "text": [
      "+-----------------+-----------+\n",
      "|        tableName|isTemporary|\n",
      "+-----------------+-----------+\n",
      "|    complications|      false|\n",
      "|   effective_care|      false|\n",
      "|              foo|      false|\n",
      "|        hospitals|      false|\n",
      "|  hospital_survey|      false|\n",
      "|       infections|      false|\n",
      "|         measures|      false|\n",
      "|          my_care|      false|\n",
      "| my_complications|      false|\n",
      "|     my_hospitals|      false|\n",
      "|    my_infections|      false|\n",
      "|  my_readmissions|      false|\n",
      "|  my_star_ratings|      false|\n",
      "| my_survey_scores|      false|\n",
      "|     readmissions|      false|\n",
      "|         stadiums|      false|\n",
      "|surveys_responses|      false|\n",
      "|        user_info|      false|\n",
      "|     weblogs_flat|      false|\n",
      "|  weblogs_parquet|      false|\n",
      "+-----------------+-----------+\n",
      "only showing top 20 rows\n",
      "\n"
     ]
    }
   ],
   "source": [
    "sqlContext.sql(\"show tables\").show()"
   ]
  },
  {
   "cell_type": "code",
   "execution_count": 62,
   "metadata": {
    "collapsed": false
   },
   "outputs": [
    {
     "data": {
      "text/plain": [
       "DataFrame[]"
      ]
     },
     "execution_count": 62,
     "metadata": {},
     "output_type": "execute_result"
    }
   ],
   "source": [
    "sqlContext.sql(\"DROP TABLE my_hospitals\")\n",
    "\n",
    "sql = \"\"\"\n",
    "CREATE TABLE my_hospitals AS \n",
    "SELECT \n",
    "provider_id, hospital_name name, city, state, \n",
    "zip_code, hospital_type type, hospital_ownership ownership \n",
    "FROM hospitals\n",
    "\"\"\"\n",
    "sqlContext.sql(sql)"
   ]
  },
  {
   "cell_type": "code",
   "execution_count": 6,
   "metadata": {
    "collapsed": false
   },
   "outputs": [
    {
     "name": "stdout",
     "output_type": "stream",
     "text": [
      "+-----------------+-----------+\n",
      "|        tableName|isTemporary|\n",
      "+-----------------+-----------+\n",
      "|    complications|      false|\n",
      "|   effective_care|      false|\n",
      "|              foo|      false|\n",
      "|        hospitals|      false|\n",
      "|  hospital_survey|      false|\n",
      "|       infections|      false|\n",
      "|         measures|      false|\n",
      "|     my_hospitals|      false|\n",
      "|     readmissions|      false|\n",
      "|         stadiums|      false|\n",
      "|surveys_responses|      false|\n",
      "|        user_info|      false|\n",
      "|     weblogs_flat|      false|\n",
      "|  weblogs_parquet|      false|\n",
      "|   weblogs_schema|      false|\n",
      "|  web_session_log|      false|\n",
      "+-----------------+-----------+\n",
      "\n"
     ]
    }
   ],
   "source": [
    "sqlContext.sql(\"show tables\").show()"
   ]
  },
  {
   "cell_type": "code",
   "execution_count": 8,
   "metadata": {
    "collapsed": false
   },
   "outputs": [
    {
     "name": "stdout",
     "output_type": "stream",
     "text": [
      "+--------------------+---------+-----------------+\n",
      "|            col_name|data_type|          comment|\n",
      "+--------------------+---------+-----------------+\n",
      "|         provider_id|   string|from deserializer|\n",
      "|       hospital_name|   string|from deserializer|\n",
      "|             address|   string|from deserializer|\n",
      "|                city|   string|from deserializer|\n",
      "|               state|   string|from deserializer|\n",
      "|            zip_code|   string|from deserializer|\n",
      "|         county_name|   string|from deserializer|\n",
      "|        phone_number|   string|from deserializer|\n",
      "|   hcahps_measure_id|   string|from deserializer|\n",
      "|     hcahps_question|   string|from deserializer|\n",
      "|hcahps_answer_des...|   string|from deserializer|\n",
      "|patient_survey_st...|   string|from deserializer|\n",
      "|patient_survey_st...|   string|from deserializer|\n",
      "|hcahps_answer_per...|   string|from deserializer|\n",
      "|hcahps_answer_per...|   string|from deserializer|\n",
      "|number_of_complet...|   string|from deserializer|\n",
      "|number_of_complet...|   string|from deserializer|\n",
      "|survey_response_r...|   string|from deserializer|\n",
      "|survey_response_r...|   string|from deserializer|\n",
      "|  measure_start_date|   string|from deserializer|\n",
      "+--------------------+---------+-----------------+\n",
      "only showing top 20 rows\n",
      "\n"
     ]
    }
   ],
   "source": [
    "sqlContext.sql(\"describe hospital_survey\").show()"
   ]
  },
  {
   "cell_type": "code",
   "execution_count": 63,
   "metadata": {
    "collapsed": false
   },
   "outputs": [
    {
     "data": {
      "text/plain": [
       "DataFrame[]"
      ]
     },
     "execution_count": 63,
     "metadata": {},
     "output_type": "execute_result"
    }
   ],
   "source": [
    "sql = \"\"\"DROP TABLE my_star_ratings\"\"\"\n",
    "sqlContext.sql(sql)\n",
    "\n",
    "# create new table\n",
    "sql = \"\"\"\n",
    "CREATE TABLE my_star_ratings AS \n",
    "SELECT \n",
    "provider_id, hcahps_measure_id measure_id, \n",
    "hcahps_question question, hcahps_answer_description answer,\n",
    "cast(patient_survey_star_rating AS INT) star_rating,\n",
    "cast(to_date(from_unixtime(unix_timestamp(measure_start_date, 'MM/dd/yy'))) as date) measure_start,\n",
    "cast(to_date(from_unixtime(unix_timestamp(measure_end_date, 'MM/dd/yy'))) as date) measure_end\n",
    "FROM hospital_survey\n",
    "\"\"\"\n",
    "sqlContext.sql(sql)"
   ]
  },
  {
   "cell_type": "code",
   "execution_count": 65,
   "metadata": {
    "collapsed": false
   },
   "outputs": [
    {
     "name": "stdout",
     "output_type": "stream",
     "text": [
      "+-------------+---------+-------+\n",
      "|     col_name|data_type|comment|\n",
      "+-------------+---------+-------+\n",
      "|  provider_id|   string|   null|\n",
      "|   measure_id|   string|   null|\n",
      "|     question|   string|   null|\n",
      "|       answer|   string|   null|\n",
      "|  star_rating|      int|   null|\n",
      "|measure_start|     date|   null|\n",
      "|  measure_end|     date|   null|\n",
      "+-------------+---------+-------+\n",
      "\n"
     ]
    }
   ],
   "source": [
    "sqlContext.sql('describe my_star_ratings').show()"
   ]
  },
  {
   "cell_type": "code",
   "execution_count": 66,
   "metadata": {
    "collapsed": false
   },
   "outputs": [
    {
     "name": "stdout",
     "output_type": "stream",
     "text": [
      "+-----------+--------------------+--------------------+--------------------+-----------+-------------+-----------+\n",
      "|provider_id|          measure_id|            question|              answer|star_rating|measure_start|measure_end|\n",
      "+-----------+--------------------+--------------------+--------------------+-----------+-------------+-----------+\n",
      "|     010001|       H_STAR_RATING| Summary star rating| Summary star rating|          3|   2013-10-01| 2014-09-30|\n",
      "|     010001|     H_CLEAN_HSP_A_P|Patients who repo...|Room was \"always\"...|       null|   2013-10-01| 2014-09-30|\n",
      "|     010001|    H_CLEAN_HSP_SN_P|Patients who repo...|Room was \"sometim...|       null|   2013-10-01| 2014-09-30|\n",
      "|     010001|     H_CLEAN_HSP_U_P|Patients who repo...|Room was \"usually...|       null|   2013-10-01| 2014-09-30|\n",
      "|     010001| H_CLEAN_STAR_RATING|Cleanliness - sta...|Cleanliness - sta...|          2|   2013-10-01| 2014-09-30|\n",
      "|     010001|        H_COMP_1_A_P|Patients who repo...|Nurses \"always\" c...|       null|   2013-10-01| 2014-09-30|\n",
      "|     010001|       H_COMP_1_SN_P|Patients who repo...|Nurses \"sometimes...|       null|   2013-10-01| 2014-09-30|\n",
      "|     010001|H_COMP_1_STAR_RATING|Nurse communicati...|Nurse communicati...|          3|   2013-10-01| 2014-09-30|\n",
      "|     010001|        H_COMP_1_U_P|Patients who repo...|Nurses \"usually\" ...|       null|   2013-10-01| 2014-09-30|\n",
      "|     010001|        H_COMP_2_A_P|Patients who repo...|Doctors \"always\" ...|       null|   2013-10-01| 2014-09-30|\n",
      "+-----------+--------------------+--------------------+--------------------+-----------+-------------+-----------+\n",
      "\n"
     ]
    }
   ],
   "source": [
    "sqlContext.sql('select * from my_star_ratings limit 10').show()"
   ]
  },
  {
   "cell_type": "code",
   "execution_count": 14,
   "metadata": {
    "collapsed": false
   },
   "outputs": [
    {
     "name": "stdout",
     "output_type": "stream",
     "text": [
      "++\n",
      "||\n",
      "++\n",
      "++\n",
      "\n"
     ]
    }
   ],
   "source": [
    "sql = \"\"\"\n",
    "CREATE TABLE my_survey_scores AS \n",
    "SELECT \n",
    "provider_number provider_id, \n",
    "cast(hcahps_base_score as INT) base_score,\n",
    "cast(hcahps_consistency_score as INT) consistency_score,\n",
    "cast(hcahps_base_score as INT) + cast(hcahps_consistency_score as INT) total_score\n",
    "FROM surveys_responses\n",
    "\"\"\"\n",
    "sqlContext.sql(sql)"
   ]
  },
  {
   "cell_type": "code",
   "execution_count": 15,
   "metadata": {
    "collapsed": false
   },
   "outputs": [
    {
     "name": "stdout",
     "output_type": "stream",
     "text": [
      "+-----------+----------+-----------------+-----------+\n",
      "|provider_id|base_score|consistency_score|total_score|\n",
      "+-----------+----------+-----------------+-----------+\n",
      "|     010001|        17|               16|         33|\n",
      "|     010005|        51|               20|         71|\n",
      "|     010006|         9|               12|         21|\n",
      "|     010007|        40|               17|         57|\n",
      "|     010008|        30|               15|         45|\n",
      "|     010011|        11|               16|         27|\n",
      "|     010012|        31|               20|         51|\n",
      "|     010016|        10|               15|         25|\n",
      "|     010019|        24|               20|         44|\n",
      "|     010021|        34|               19|         53|\n",
      "+-----------+----------+-----------------+-----------+\n",
      "\n"
     ]
    }
   ],
   "source": [
    "sqlContext.sql(\"select * from my_survey_scores limit 10\").show()"
   ]
  },
  {
   "cell_type": "code",
   "execution_count": 17,
   "metadata": {
    "collapsed": false
   },
   "outputs": [
    {
     "name": "stdout",
     "output_type": "stream",
     "text": [
      "+-----------------+---------+-------+\n",
      "|         col_name|data_type|comment|\n",
      "+-----------------+---------+-------+\n",
      "|      provider_id|   string|   null|\n",
      "|       base_score|      int|   null|\n",
      "|consistency_score|      int|   null|\n",
      "|      total_score|      int|   null|\n",
      "+-----------------+---------+-------+\n",
      "\n"
     ]
    }
   ],
   "source": [
    "sqlContext.sql(\"describe my_survey_scores\").show()"
   ]
  },
  {
   "cell_type": "code",
   "execution_count": 35,
   "metadata": {
    "collapsed": false
   },
   "outputs": [
    {
     "data": {
      "text/plain": [
       "DataFrame[]"
      ]
     },
     "execution_count": 35,
     "metadata": {},
     "output_type": "execute_result"
    }
   ],
   "source": [
    "sql = \"\"\"\n",
    "DROP TABLE my_care\n",
    "\"\"\"\n",
    "sqlContext.sql(sql)\n",
    "\n",
    "\n",
    "sql = \"\"\"\n",
    "CREATE TABLE my_care AS \n",
    "SELECT \n",
    "provider_id, condition, measure_id,\n",
    "measure_name,\n",
    "cast(score as INT) score,\n",
    "cast(to_date(from_unixtime(unix_timestamp(measure_start_date, 'MM/dd/yy'))) as date) measure_start,\n",
    "cast(to_date(from_unixtime(unix_timestamp(measure_end_date, 'MM/dd/yy'))) as date) measure_end\n",
    "FROM effective_care\n",
    "\"\"\"\n",
    "sqlContext.sql(sql)"
   ]
  },
  {
   "cell_type": "code",
   "execution_count": 36,
   "metadata": {
    "collapsed": false
   },
   "outputs": [
    {
     "name": "stdout",
     "output_type": "stream",
     "text": [
      "+-------------+---------+-------+\n",
      "|     col_name|data_type|comment|\n",
      "+-------------+---------+-------+\n",
      "|  provider_id|   string|   null|\n",
      "|    condition|   string|   null|\n",
      "|   measure_id|   string|   null|\n",
      "| measure_name|   string|   null|\n",
      "|        score|      int|   null|\n",
      "|measure_start|     date|   null|\n",
      "|  measure_end|     date|   null|\n",
      "+-------------+---------+-------+\n",
      "\n"
     ]
    }
   ],
   "source": [
    "sqlContext.sql(\"describe my_care\").show()"
   ]
  },
  {
   "cell_type": "code",
   "execution_count": 37,
   "metadata": {
    "collapsed": false
   },
   "outputs": [
    {
     "name": "stdout",
     "output_type": "stream",
     "text": [
      "+-----------+--------------------+----------------+--------------------+-----+-------------+-----------+\n",
      "|provider_id|           condition|      measure_id|        measure_name|score|measure_start|measure_end|\n",
      "+-----------+--------------------+----------------+--------------------+-----+-------------+-----------+\n",
      "|     010001|Heart Attack or C...|          AMI_10| Statin at Discharge|   98|   2013-10-01| 2014-09-30|\n",
      "|     010001|Heart Attack or C...|           AMI_2|Aspirin prescribe...|   99|   2013-10-01| 2014-09-30|\n",
      "|     010001|Heart Attack or C...|          AMI_7a|Fibrinolytic Ther...| null|   2013-10-01| 2014-09-30|\n",
      "|     010001|Heart Attack or C...|          AMI_8a|Primary PCI Recei...|   91|   2013-10-01| 2014-09-30|\n",
      "|     010001|Emergency Department|           ED_1b|                 ED1|  286|   2013-10-01| 2014-09-30|\n",
      "|     010001|Emergency Department|           ED_2b|                 ED2|   71|   2013-10-01| 2014-09-30|\n",
      "|     010001|Emergency Department|             EDV|Emergency departm...| null|   2013-01-01| 2013-12-31|\n",
      "|     010001|       Heart Failure|            HF_1|Discharge instruc...|   91|   2013-10-01| 2014-09-30|\n",
      "|     010001|       Heart Failure|            HF_2|Evaluation of LVS...|  100|   2013-10-01| 2014-09-30|\n",
      "|     010001|       Heart Failure|            HF_3|ACEI or ARB for LVSD|   98|   2013-10-01| 2014-09-30|\n",
      "|     010001|     Preventive Care|           IMM_2|Immunization for ...|   94|   2013-10-01| 2014-03-31|\n",
      "|     010001|     Preventive Care|IMM_3_FAC_ADHPCT|Healthcare worker...|   56|   2013-10-01| 2014-03-31|\n",
      "|     010001|Heart Attack or C...|            OP_1|Median Time to Fi...| null|   2013-10-01| 2014-09-30|\n",
      "|     010001|Emergency Department|          OP_18b|               OP 18|  190|   2013-10-01| 2014-09-30|\n",
      "|     010001|Heart Attack or C...|            OP_2|Fibrinolytic Ther...| null|   2013-10-01| 2014-09-30|\n",
      "|     010001|Emergency Department|           OP_20|Door to diagnosti...|   53|   2013-10-01| 2014-09-30|\n",
      "|     010001|Emergency Department|           OP_21|Median time to pa...|   72|   2013-10-01| 2014-09-30|\n",
      "|     010001|Emergency Department|           OP_22|Left before being...|    4|   2013-01-01| 2013-12-31|\n",
      "|     010001|Emergency Department|           OP_23|     Head CT results| null|   2013-10-01| 2014-09-30|\n",
      "|     010001|Heart Attack or C...|           OP_3b|Median Time to Tr...| null|   2013-10-01| 2014-09-30|\n",
      "+-----------+--------------------+----------------+--------------------+-----+-------------+-----------+\n",
      "only showing top 20 rows\n",
      "\n"
     ]
    }
   ],
   "source": [
    "sqlContext.sql(\"select * from my_care\").show()"
   ]
  },
  {
   "cell_type": "code",
   "execution_count": 47,
   "metadata": {
    "collapsed": false
   },
   "outputs": [
    {
     "data": {
      "text/plain": [
       "DataFrame[]"
      ]
     },
     "execution_count": 47,
     "metadata": {},
     "output_type": "execute_result"
    }
   ],
   "source": [
    "sql = \"\"\"\n",
    "DROP TABLE my_infections\n",
    "\"\"\"\n",
    "sqlContext.sql(sql)\n",
    "\n",
    "\n",
    "sql = \"\"\"\n",
    "CREATE TABLE my_infections AS \n",
    "SELECT \n",
    "provider_id, measure_id,\n",
    "measure_name, compared_to_national,\n",
    "cast(score as DECIMAL(16,4)) score,\n",
    "cast(to_date(from_unixtime(unix_timestamp(measure_start_date, 'MM/dd/yy'))) as date) measure_start,\n",
    "cast(to_date(from_unixtime(unix_timestamp(measure_end_date, 'MM/dd/yy'))) as date) measure_end\n",
    "FROM infections\n",
    "\"\"\"\n",
    "sqlContext.sql(sql)"
   ]
  },
  {
   "cell_type": "code",
   "execution_count": 48,
   "metadata": {
    "collapsed": false
   },
   "outputs": [
    {
     "name": "stdout",
     "output_type": "stream",
     "text": [
      "+--------------------+-------------+-------+\n",
      "|            col_name|    data_type|comment|\n",
      "+--------------------+-------------+-------+\n",
      "|         provider_id|       string|   null|\n",
      "|          measure_id|       string|   null|\n",
      "|        measure_name|       string|   null|\n",
      "|compared_to_national|       string|   null|\n",
      "|               score|decimal(16,4)|   null|\n",
      "|       measure_start|         date|   null|\n",
      "|         measure_end|         date|   null|\n",
      "+--------------------+-------------+-------+\n",
      "\n"
     ]
    }
   ],
   "source": [
    "sqlContext.sql(\"describe my_infections\").show()"
   ]
  },
  {
   "cell_type": "code",
   "execution_count": 53,
   "metadata": {
    "collapsed": false
   },
   "outputs": [
    {
     "name": "stdout",
     "output_type": "stream",
     "text": [
      "+-----------+---------------+--------------------+--------------------+---------+-------------+-----------+\n",
      "|provider_id|     measure_id|        measure_name|compared_to_national|    score|measure_start|measure_end|\n",
      "+-----------+---------------+--------------------+--------------------+---------+-------------+-----------+\n",
      "|     010001| HAI_1_CI_LOWER|CLABSI Lower Conf...|No Different than...|   0.7370|   2013-10-01| 2014-09-30|\n",
      "|     010001| HAI_1_CI_UPPER|CLABSI Upper Conf...|No Different than...|   3.7820|   2013-10-01| 2014-09-30|\n",
      "|     010001|HAI_1_DOPC_DAYS|CLABSI Central Li...|No Different than...|2199.0000|   2013-10-01| 2014-09-30|\n",
      "|     010001|HAI_1_ELIGCASES|CLABSI Predicted ...|No Different than...|   3.3000|   2013-10-01| 2014-09-30|\n",
      "|     010001|HAI_1_NUMERATOR|CLABSI Observed C...|No Different than...|   6.0000|   2013-10-01| 2014-09-30|\n",
      "|     010001|      HAI_1_SIR|Central line-asso...|No Different than...|   1.8180|   2013-10-01| 2014-09-30|\n",
      "|     010001| HAI_2_CI_LOWER|CAUTI Lower Confi...|Worse than the Na...|   2.3950|   2013-10-01| 2014-09-30|\n",
      "|     010001| HAI_2_CI_UPPER|CAUTI Upper Confi...|Worse than the Na...|   4.8570|   2013-10-01| 2014-09-30|\n",
      "|     010001|HAI_2_DOPC_DAYS|CAUTI Urinary Cat...|Worse than the Na...|7450.0000|   2013-10-01| 2014-09-30|\n",
      "|     010001|HAI_2_ELIGCASES|CAUTI Predicted C...|Worse than the Na...|   8.9490|   2013-10-01| 2014-09-30|\n",
      "|     010001|HAI_2_NUMERATOR|CAUTI Observed Cases|Worse than the Na...|  31.0000|   2013-10-01| 2014-09-30|\n",
      "|     010001|      HAI_2_SIR|Catheter-Associat...|Worse than the Na...|   3.4640|   2013-10-01| 2014-09-30|\n",
      "|     010001| HAI_3_CI_LOWER|SSI: Colon Lower ...|No Different than...|   0.2170|   2013-10-01| 2014-09-30|\n",
      "|     010001| HAI_3_CI_UPPER|SSI: Colon Upper ...|No Different than...|   1.6440|   2013-10-01| 2014-09-30|\n",
      "|     010001|HAI_3_DOPC_DAYS|SSI: Colon, Numbe...|No Different than...| 171.0000|   2013-10-01| 2014-09-30|\n",
      "|     010001|HAI_3_ELIGCASES|SSI: Colon Predic...|No Different than...|   5.8680|   2013-10-01| 2014-09-30|\n",
      "|     010001|HAI_3_NUMERATOR|SSI: Colon Observ...|No Different than...|   4.0000|   2013-10-01| 2014-09-30|\n",
      "|     010001|      HAI_3_SIR|Surgical Site Inf...|No Different than...|   0.6820|   2013-10-01| 2014-09-30|\n",
      "|     010001| HAI_4_CI_LOWER|SSI: Abdominal Lo...|       Not Available|     null|   2013-10-01| 2014-09-30|\n",
      "|     010001| HAI_4_CI_UPPER|SSI: Abdominal Up...|       Not Available|     null|   2013-10-01| 2014-09-30|\n",
      "+-----------+---------------+--------------------+--------------------+---------+-------------+-----------+\n",
      "only showing top 20 rows\n",
      "\n"
     ]
    }
   ],
   "source": [
    "sqlContext.sql(\"select * from my_infections\").show()"
   ]
  },
  {
   "cell_type": "code",
   "execution_count": 54,
   "metadata": {
    "collapsed": false
   },
   "outputs": [
    {
     "data": {
      "text/plain": [
       "DataFrame[]"
      ]
     },
     "execution_count": 54,
     "metadata": {},
     "output_type": "execute_result"
    }
   ],
   "source": [
    "sql = \"\"\"\n",
    "DROP TABLE my_readmissions\n",
    "\"\"\"\n",
    "sqlContext.sql(sql)\n",
    "\n",
    "\n",
    "sql = \"\"\"\n",
    "CREATE TABLE my_readmissions AS \n",
    "SELECT \n",
    "provider_id, measure_id,\n",
    "measure_name, compared_to_national,\n",
    "cast(score as DECIMAL(16,4)) score,\n",
    "cast(to_date(from_unixtime(unix_timestamp(measure_start_date, 'MM/dd/yy'))) as date) measure_start,\n",
    "cast(to_date(from_unixtime(unix_timestamp(measure_end_date, 'MM/dd/yy'))) as date) measure_end\n",
    "FROM readmissions\n",
    "\"\"\"\n",
    "sqlContext.sql(sql)"
   ]
  },
  {
   "cell_type": "code",
   "execution_count": 55,
   "metadata": {
    "collapsed": false
   },
   "outputs": [
    {
     "name": "stdout",
     "output_type": "stream",
     "text": [
      "+--------------------+-------------+-------+\n",
      "|            col_name|    data_type|comment|\n",
      "+--------------------+-------------+-------+\n",
      "|         provider_id|       string|   null|\n",
      "|          measure_id|       string|   null|\n",
      "|        measure_name|       string|   null|\n",
      "|compared_to_national|       string|   null|\n",
      "|               score|decimal(16,4)|   null|\n",
      "|       measure_start|         date|   null|\n",
      "|         measure_end|         date|   null|\n",
      "+--------------------+-------------+-------+\n",
      "\n"
     ]
    }
   ],
   "source": [
    "sqlContext.sql(\"describe my_readmissions\").show()"
   ]
  },
  {
   "cell_type": "code",
   "execution_count": 56,
   "metadata": {
    "collapsed": false
   },
   "outputs": [
    {
     "name": "stdout",
     "output_type": "stream",
     "text": [
      "+-----------+------------------+--------------------+--------------------+-------+-------------+-----------+\n",
      "|provider_id|        measure_id|        measure_name|compared_to_national|  score|measure_start|measure_end|\n",
      "+-----------+------------------+--------------------+--------------------+-------+-------------+-----------+\n",
      "|     010001|       MORT_30_AMI|Acute Myocardial ...|No different than...|12.2000|   2011-07-01| 2014-06-30|\n",
      "|     010001|      MORT_30_CABG| Death rate for CABG|No different than...| 3.7000|   2011-07-01| 2014-06-30|\n",
      "|     010001|      MORT_30_COPD|Death rate for ch...|No different than...| 8.8000|   2011-07-01| 2014-06-30|\n",
      "|     010001|        MORT_30_HF|Heart failure (HF...|No different than...|12.6000|   2011-07-01| 2014-06-30|\n",
      "|     010001|        MORT_30_PN|Pneumonia (PN) 30...|No different than...|11.6000|   2011-07-01| 2014-06-30|\n",
      "|     010001|       MORT_30_STK|Death rate for st...|No different than...|15.3000|   2011-07-01| 2014-06-30|\n",
      "|     010001|      READM_30_AMI|Acute Myocardial ...|No different than...|17.4000|   2011-07-01| 2014-06-30|\n",
      "|     010001|     READM_30_CABG|Rate of unplanned...|No different than...|15.9000|   2011-07-01| 2014-06-30|\n",
      "|     010001|     READM_30_COPD|Rate of unplanned...|No different than...|22.0000|   2011-07-01| 2014-06-30|\n",
      "|     010001|       READM_30_HF|Heart failure (HF...|No different than...|21.0000|   2011-07-01| 2014-06-30|\n",
      "|     010001| READM_30_HIP_KNEE|Rate of readmissi...|No different than...| 5.2000|   2011-07-01| 2014-06-30|\n",
      "|     010001|READM_30_HOSP_WIDE|Rate of readmissi...|No different than...|14.8000|   2013-07-01| 2014-06-30|\n",
      "|     010001|       READM_30_PN|Pneumonia (PN) 30...|No different than...|18.2000|   2011-07-01| 2014-06-30|\n",
      "|     010001|      READM_30_STK|Rate of unplanned...|No different than...|13.0000|   2011-07-01| 2014-06-30|\n",
      "|     010005|       MORT_30_AMI|Acute Myocardial ...|No different than...|16.9000|   2011-07-01| 2014-06-30|\n",
      "|     010005|      MORT_30_CABG| Death rate for CABG|       Not Available|   null|   2011-07-01| 2014-06-30|\n",
      "|     010005|      MORT_30_COPD|Death rate for ch...|No different than...| 7.5000|   2011-07-01| 2014-06-30|\n",
      "|     010005|        MORT_30_HF|Heart failure (HF...|Worse than the Na...|16.3000|   2011-07-01| 2014-06-30|\n",
      "|     010005|        MORT_30_PN|Pneumonia (PN) 30...|Worse than the Na...|13.9000|   2011-07-01| 2014-06-30|\n",
      "|     010005|       MORT_30_STK|Death rate for st...|No different than...|14.8000|   2011-07-01| 2014-06-30|\n",
      "+-----------+------------------+--------------------+--------------------+-------+-------------+-----------+\n",
      "only showing top 20 rows\n",
      "\n"
     ]
    }
   ],
   "source": [
    "sqlContext.sql(\"select * from my_readmissions\").show()"
   ]
  },
  {
   "cell_type": "code",
   "execution_count": 57,
   "metadata": {
    "collapsed": false
   },
   "outputs": [
    {
     "data": {
      "text/plain": [
       "DataFrame[]"
      ]
     },
     "execution_count": 57,
     "metadata": {},
     "output_type": "execute_result"
    }
   ],
   "source": [
    "sql = \"\"\"\n",
    "DROP TABLE my_complications\n",
    "\"\"\"\n",
    "sqlContext.sql(sql)\n",
    "\n",
    "\n",
    "sql = \"\"\"\n",
    "CREATE TABLE my_complications AS \n",
    "SELECT \n",
    "provider_id, measure_id,\n",
    "measure_name, compared_to_national,\n",
    "cast(score as DECIMAL(16,4)) score,\n",
    "cast(to_date(from_unixtime(unix_timestamp(measure_start_date, 'MM/dd/yy'))) as date) measure_start,\n",
    "cast(to_date(from_unixtime(unix_timestamp(measure_end_date, 'MM/dd/yy'))) as date) measure_end\n",
    "FROM complications\n",
    "\"\"\"\n",
    "sqlContext.sql(sql)"
   ]
  },
  {
   "cell_type": "code",
   "execution_count": 59,
   "metadata": {
    "collapsed": false
   },
   "outputs": [
    {
     "name": "stdout",
     "output_type": "stream",
     "text": [
      "+--------------------+-------------+-------+\n",
      "|            col_name|    data_type|comment|\n",
      "+--------------------+-------------+-------+\n",
      "|         provider_id|       string|   null|\n",
      "|          measure_id|       string|   null|\n",
      "|        measure_name|       string|   null|\n",
      "|compared_to_national|       string|   null|\n",
      "|               score|decimal(16,4)|   null|\n",
      "|       measure_start|         date|   null|\n",
      "|         measure_end|         date|   null|\n",
      "+--------------------+-------------+-------+\n",
      "\n"
     ]
    }
   ],
   "source": [
    "sqlContext.sql(\"describe my_complications\").show()"
   ]
  },
  {
   "cell_type": "code",
   "execution_count": 60,
   "metadata": {
    "collapsed": false
   },
   "outputs": [
    {
     "name": "stdout",
     "output_type": "stream",
     "text": [
      "+-----------+--------------------+--------------------+--------------------+--------+-------------+-----------+\n",
      "|provider_id|          measure_id|        measure_name|compared_to_national|   score|measure_start|measure_end|\n",
      "+-----------+--------------------+--------------------+--------------------+--------+-------------+-----------+\n",
      "|     010001|       COMP_HIP_KNEE|Rate of complicat...|No different than...|  3.9000|   2011-04-01| 2014-03-31|\n",
      "|     010001|PSI_12_POSTOP_PUL...|Serious blood clo...|Better than the N...|  2.1600|   2012-07-01| 2014-06-30|\n",
      "|     010001| PSI_14_POSTOP_DEHIS|A wound that spli...|No different than...|  1.6700|   2012-07-01| 2014-06-30|\n",
      "|     010001|      PSI_15_ACC_LAC|Accidental cuts a...|No different than...|  1.5200|   2012-07-01| 2014-06-30|\n",
      "|     010001|     PSI_4_SURG_COMP|Deaths among Pati...|No different than...|138.3000|   2012-07-01| 2014-06-30|\n",
      "|     010001|       PSI_6_IAT_PTX|Collapsed lung du...|No different than...|  0.3100|   2012-07-01| 2014-06-30|\n",
      "|     010001|       PSI_90_SAFETY|Serious complicat...|Better than the N...|  0.5700|   2012-07-01| 2014-06-30|\n",
      "|     010005|       COMP_HIP_KNEE|Rate of complicat...|No different than...|  2.8000|   2011-04-01| 2014-03-31|\n",
      "|     010005|PSI_12_POSTOP_PUL...|Serious blood clo...|No different than...|  3.7000|   2012-07-01| 2014-06-30|\n",
      "|     010005| PSI_14_POSTOP_DEHIS|A wound that spli...|No different than...|  2.4200|   2012-07-01| 2014-06-30|\n",
      "|     010005|      PSI_15_ACC_LAC|Accidental cuts a...|No different than...|  1.3500|   2012-07-01| 2014-06-30|\n",
      "|     010005|     PSI_4_SURG_COMP|Deaths among Pati...|No different than...|141.4200|   2012-07-01| 2014-06-30|\n",
      "|     010005|       PSI_6_IAT_PTX|Collapsed lung du...|No different than...|  0.3800|   2012-07-01| 2014-06-30|\n",
      "|     010005|       PSI_90_SAFETY|Serious complicat...|No different than...|  0.6800|   2012-07-01| 2014-06-30|\n",
      "|     010006|       COMP_HIP_KNEE|Rate of complicat...|No different than...|  3.0000|   2011-04-01| 2014-03-31|\n",
      "|     010006|PSI_12_POSTOP_PUL...|Serious blood clo...|No different than...|  3.0600|   2012-07-01| 2014-06-30|\n",
      "|     010006| PSI_14_POSTOP_DEHIS|A wound that spli...|No different than...|  1.4100|   2012-07-01| 2014-06-30|\n",
      "|     010006|      PSI_15_ACC_LAC|Accidental cuts a...|No different than...|  2.0700|   2012-07-01| 2014-06-30|\n",
      "|     010006|     PSI_4_SURG_COMP|Deaths among Pati...|Worse than the Na...|168.4200|   2012-07-01| 2014-06-30|\n",
      "|     010006|       PSI_6_IAT_PTX|Collapsed lung du...|No different than...|  0.3600|   2012-07-01| 2014-06-30|\n",
      "+-----------+--------------------+--------------------+--------------------+--------+-------------+-----------+\n",
      "only showing top 20 rows\n",
      "\n"
     ]
    }
   ],
   "source": [
    "sqlContext.sql(\"select * from my_complications\").show()"
   ]
  },
  {
   "cell_type": "code",
   "execution_count": 61,
   "metadata": {
    "collapsed": false
   },
   "outputs": [
    {
     "name": "stdout",
     "output_type": "stream",
     "text": [
      "+-----------------+-----------+\n",
      "|        tableName|isTemporary|\n",
      "+-----------------+-----------+\n",
      "|    complications|      false|\n",
      "|   effective_care|      false|\n",
      "|              foo|      false|\n",
      "|        hospitals|      false|\n",
      "|  hospital_survey|      false|\n",
      "|       infections|      false|\n",
      "|         measures|      false|\n",
      "|          my_care|      false|\n",
      "| my_complications|      false|\n",
      "|     my_hospitals|      false|\n",
      "|    my_infections|      false|\n",
      "|  my_readmissions|      false|\n",
      "|   my_star_rating|      false|\n",
      "| my_survey_scores|      false|\n",
      "|     readmissions|      false|\n",
      "|         stadiums|      false|\n",
      "|surveys_responses|      false|\n",
      "|        user_info|      false|\n",
      "|     weblogs_flat|      false|\n",
      "|  weblogs_parquet|      false|\n",
      "+-----------------+-----------+\n",
      "only showing top 20 rows\n",
      "\n"
     ]
    }
   ],
   "source": [
    "sqlContext.sql(\"show tables\").show()"
   ]
  },
  {
   "cell_type": "code",
   "execution_count": null,
   "metadata": {
    "collapsed": true
   },
   "outputs": [],
   "source": []
  }
 ],
 "metadata": {
  "kernelspec": {
   "display_name": "Python 2",
   "language": "python",
   "name": "python2"
  },
  "language_info": {
   "codemirror_mode": {
    "name": "ipython",
    "version": 2
   },
   "file_extension": ".py",
   "mimetype": "text/x-python",
   "name": "python",
   "nbconvert_exporter": "python",
   "pygments_lexer": "ipython2",
   "version": "2.7.13"
  }
 },
 "nbformat": 4,
 "nbformat_minor": 2
}
