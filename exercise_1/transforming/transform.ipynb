{
 "cells": [
  {
   "cell_type": "code",
   "execution_count": 1,
   "metadata": {
    "collapsed": true
   },
   "outputs": [],
   "source": [
    "from pyspark.sql import HiveContext\n",
    "sqlContext = HiveContext(sc)"
   ]
  },
  {
   "cell_type": "code",
   "execution_count": 2,
   "metadata": {
    "collapsed": false
   },
   "outputs": [
    {
     "name": "stdout",
     "output_type": "stream",
     "text": [
      "+-----------------+-----------+\n",
      "|        tableName|isTemporary|\n",
      "+-----------------+-----------+\n",
      "|    complications|      false|\n",
      "|   effective_care|      false|\n",
      "|              foo|      false|\n",
      "|        hospitals|      false|\n",
      "|  hospital_survey|      false|\n",
      "|       infections|      false|\n",
      "|         measures|      false|\n",
      "|          my_care|      false|\n",
      "| my_complications|      false|\n",
      "|     my_hospitals|      false|\n",
      "|    my_infections|      false|\n",
      "|  my_readmissions|      false|\n",
      "|  my_star_ratings|      false|\n",
      "| my_survey_scores|      false|\n",
      "|     readmissions|      false|\n",
      "|         stadiums|      false|\n",
      "|surveys_responses|      false|\n",
      "|        user_info|      false|\n",
      "|     weblogs_flat|      false|\n",
      "|  weblogs_parquet|      false|\n",
      "+-----------------+-----------+\n",
      "only showing top 20 rows\n",
      "\n"
     ]
    }
   ],
   "source": [
    "sqlContext.sql(\"show tables\").show()"
   ]
  },
  {
   "cell_type": "code",
   "execution_count": 3,
   "metadata": {
    "collapsed": false
   },
   "outputs": [
    {
     "name": "stdout",
     "output_type": "stream",
     "text": [
      "++\n",
      "||\n",
      "++\n",
      "++\n",
      "\n"
     ]
    }
   ],
   "source": [
    "sqlContext.sql(\"drop table my_hospitals\").show()"
   ]
  },
  {
   "cell_type": "code",
   "execution_count": 67,
   "metadata": {
    "collapsed": false
   },
   "outputs": [
    {
     "name": "stdout",
     "output_type": "stream",
     "text": [
      "+-----------------+-----------+\n",
      "|        tableName|isTemporary|\n",
      "+-----------------+-----------+\n",
      "|    complications|      false|\n",
      "|   effective_care|      false|\n",
      "|              foo|      false|\n",
      "|        hospitals|      false|\n",
      "|  hospital_survey|      false|\n",
      "|       infections|      false|\n",
      "|         measures|      false|\n",
      "|          my_care|      false|\n",
      "| my_complications|      false|\n",
      "|     my_hospitals|      false|\n",
      "|    my_infections|      false|\n",
      "|  my_readmissions|      false|\n",
      "|  my_star_ratings|      false|\n",
      "| my_survey_scores|      false|\n",
      "|     readmissions|      false|\n",
      "|         stadiums|      false|\n",
      "|surveys_responses|      false|\n",
      "|        user_info|      false|\n",
      "|     weblogs_flat|      false|\n",
      "|  weblogs_parquet|      false|\n",
      "+-----------------+-----------+\n",
      "only showing top 20 rows\n",
      "\n"
     ]
    }
   ],
   "source": [
    "sqlContext.sql(\"show tables\").show()"
   ]
  },
  {
   "cell_type": "code",
   "execution_count": 62,
   "metadata": {
    "collapsed": false
   },
   "outputs": [
    {
     "data": {
      "text/plain": [
       "DataFrame[]"
      ]
     },
     "execution_count": 62,
     "metadata": {},
     "output_type": "execute_result"
    }
   ],
   "source": [
    "sqlContext.sql(\"DROP TABLE my_hospitals\")\n",
    "\n",
    "sql = \"\"\"\n",
    "CREATE TABLE my_hospitals AS \n",
    "SELECT \n",
    "provider_id, hospital_name name, city, state, \n",
    "zip_code, hospital_type type, hospital_ownership ownership \n",
    "FROM hospitals\n",
    "\"\"\"\n",
    "sqlContext.sql(sql)"
   ]
  },
  {
   "cell_type": "code",
   "execution_count": 6,
   "metadata": {
    "collapsed": false
   },
   "outputs": [
    {
     "name": "stdout",
     "output_type": "stream",
     "text": [
      "+-----------------+-----------+\n",
      "|        tableName|isTemporary|\n",
      "+-----------------+-----------+\n",
      "|    complications|      false|\n",
      "|   effective_care|      false|\n",
      "|              foo|      false|\n",
      "|        hospitals|      false|\n",
      "|  hospital_survey|      false|\n",
      "|       infections|      false|\n",
      "|         measures|      false|\n",
      "|     my_hospitals|      false|\n",
      "|     readmissions|      false|\n",
      "|         stadiums|      false|\n",
      "|surveys_responses|      false|\n",
      "|        user_info|      false|\n",
      "|     weblogs_flat|      false|\n",
      "|  weblogs_parquet|      false|\n",
      "|   weblogs_schema|      false|\n",
      "|  web_session_log|      false|\n",
      "+-----------------+-----------+\n",
      "\n"
     ]
    }
   ],
   "source": [
    "sqlContext.sql(\"show tables\").show()"
   ]
  },
  {
   "cell_type": "code",
   "execution_count": 8,
   "metadata": {
    "collapsed": false
   },
   "outputs": [
    {
     "name": "stdout",
     "output_type": "stream",
     "text": [
      "+--------------------+---------+-----------------+\n",
      "|            col_name|data_type|          comment|\n",
      "+--------------------+---------+-----------------+\n",
      "|         provider_id|   string|from deserializer|\n",
      "|       hospital_name|   string|from deserializer|\n",
      "|             address|   string|from deserializer|\n",
      "|                city|   string|from deserializer|\n",
      "|               state|   string|from deserializer|\n",
      "|            zip_code|   string|from deserializer|\n",
      "|         county_name|   string|from deserializer|\n",
      "|        phone_number|   string|from deserializer|\n",
      "|   hcahps_measure_id|   string|from deserializer|\n",
      "|     hcahps_question|   string|from deserializer|\n",
      "|hcahps_answer_des...|   string|from deserializer|\n",
      "|patient_survey_st...|   string|from deserializer|\n",
      "|patient_survey_st...|   string|from deserializer|\n",
      "|hcahps_answer_per...|   string|from deserializer|\n",
      "|hcahps_answer_per...|   string|from deserializer|\n",
      "|number_of_complet...|   string|from deserializer|\n",
      "|number_of_complet...|   string|from deserializer|\n",
      "|survey_response_r...|   string|from deserializer|\n",
      "|survey_response_r...|   string|from deserializer|\n",
      "|  measure_start_date|   string|from deserializer|\n",
      "+--------------------+---------+-----------------+\n",
      "only showing top 20 rows\n",
      "\n"
     ]
    }
   ],
   "source": [
    "sqlContext.sql(\"describe hospital_survey\").show()"
   ]
  },
  {
   "cell_type": "code",
   "execution_count": 63,
   "metadata": {
    "collapsed": false
   },
   "outputs": [
    {
     "data": {
      "text/plain": [
       "DataFrame[]"
      ]
     },
     "execution_count": 63,
     "metadata": {},
     "output_type": "execute_result"
    }
   ],
   "source": [
    "sql = \"\"\"DROP TABLE my_star_ratings\"\"\"\n",
    "sqlContext.sql(sql)\n",
    "\n",
    "# create new table\n",
    "sql = \"\"\"\n",
    "CREATE TABLE my_star_ratings AS \n",
    "SELECT \n",
    "provider_id, hcahps_measure_id measure_id, \n",
    "hcahps_question question, hcahps_answer_description answer,\n",
    "cast(patient_survey_star_rating AS INT) star_rating,\n",
    "cast(to_date(from_unixtime(unix_timestamp(measure_start_date, 'MM/dd/yy'))) as date) measure_start,\n",
    "cast(to_date(from_unixtime(unix_timestamp(measure_end_date, 'MM/dd/yy'))) as date) measure_end\n",
    "FROM hospital_survey\n",
    "\"\"\"\n",
    "sqlContext.sql(sql)"
   ]
  },
  {
   "cell_type": "code",
   "execution_count": 65,
   "metadata": {
    "collapsed": false
   },
   "outputs": [
    {
     "name": "stdout",
     "output_type": "stream",
     "text": [
      "+-------------+---------+-------+\n",
      "|     col_name|data_type|comment|\n",
      "+-------------+---------+-------+\n",
      "|  provider_id|   string|   null|\n",
      "|   measure_id|   string|   null|\n",
      "|     question|   string|   null|\n",
      "|       answer|   string|   null|\n",
      "|  star_rating|      int|   null|\n",
      "|measure_start|     date|   null|\n",
      "|  measure_end|     date|   null|\n",
      "+-------------+---------+-------+\n",
      "\n"
     ]
    }
   ],
   "source": [
    "sqlContext.sql('describe my_star_ratings').show()"
   ]
  },
  {
   "cell_type": "code",
   "execution_count": 66,
   "metadata": {
    "collapsed": false
   },
   "outputs": [
    {
     "name": "stdout",
     "output_type": "stream",
     "text": [
      "+-----------+--------------------+--------------------+--------------------+-----------+-------------+-----------+\n",
      "|provider_id|          measure_id|            question|              answer|star_rating|measure_start|measure_end|\n",
      "+-----------+--------------------+--------------------+--------------------+-----------+-------------+-----------+\n",
      "|     010001|       H_STAR_RATING| Summary star rating| Summary star rating|          3|   2013-10-01| 2014-09-30|\n",
      "|     010001|     H_CLEAN_HSP_A_P|Patients who repo...|Room was \"always\"...|       null|   2013-10-01| 2014-09-30|\n",
      "|     010001|    H_CLEAN_HSP_SN_P|Patients who repo...|Room was \"sometim...|       null|   2013-10-01| 2014-09-30|\n",
      "|     010001|     H_CLEAN_HSP_U_P|Patients who repo...|Room was \"usually...|       null|   2013-10-01| 2014-09-30|\n",
      "|     010001| H_CLEAN_STAR_RATING|Cleanliness - sta...|Cleanliness - sta...|          2|   2013-10-01| 2014-09-30|\n",
      "|     010001|        H_COMP_1_A_P|Patients who repo...|Nurses \"always\" c...|       null|   2013-10-01| 2014-09-30|\n",
      "|     010001|       H_COMP_1_SN_P|Patients who repo...|Nurses \"sometimes...|       null|   2013-10-01| 2014-09-30|\n",
      "|     010001|H_COMP_1_STAR_RATING|Nurse communicati...|Nurse communicati...|          3|   2013-10-01| 2014-09-30|\n",
      "|     010001|        H_COMP_1_U_P|Patients who repo...|Nurses \"usually\" ...|       null|   2013-10-01| 2014-09-30|\n",
      "|     010001|        H_COMP_2_A_P|Patients who repo...|Doctors \"always\" ...|       null|   2013-10-01| 2014-09-30|\n",
      "+-----------+--------------------+--------------------+--------------------+-----------+-------------+-----------+\n",
      "\n"
     ]
    }
   ],
   "source": [
    "sqlContext.sql('select * from my_star_ratings limit 10').show()"
   ]
  },
  {
   "cell_type": "code",
   "execution_count": 14,
   "metadata": {
    "collapsed": false
   },
   "outputs": [
    {
     "name": "stdout",
     "output_type": "stream",
     "text": [
      "++\n",
      "||\n",
      "++\n",
      "++\n",
      "\n"
     ]
    }
   ],
   "source": [
    "sql = \"\"\"\n",
    "CREATE TABLE my_survey_scores AS \n",
    "SELECT \n",
    "provider_number provider_id, \n",
    "cast(hcahps_base_score as INT) base_score,\n",
    "cast(hcahps_consistency_score as INT) consistency_score,\n",
    "cast(hcahps_base_score as INT) + cast(hcahps_consistency_score as INT) total_score\n",
    "FROM surveys_responses\n",
    "\"\"\"\n",
    "sqlContext.sql(sql)"
   ]
  },
  {
   "cell_type": "code",
   "execution_count": 15,
   "metadata": {
    "collapsed": false
   },
   "outputs": [
    {
     "name": "stdout",
     "output_type": "stream",
     "text": [
      "+-----------+----------+-----------------+-----------+\n",
      "|provider_id|base_score|consistency_score|total_score|\n",
      "+-----------+----------+-----------------+-----------+\n",
      "|     010001|        17|               16|         33|\n",
      "|     010005|        51|               20|         71|\n",
      "|     010006|         9|               12|         21|\n",
      "|     010007|        40|               17|         57|\n",
      "|     010008|        30|               15|         45|\n",
      "|     010011|        11|               16|         27|\n",
      "|     010012|        31|               20|         51|\n",
      "|     010016|        10|               15|         25|\n",
      "|     010019|        24|               20|         44|\n",
      "|     010021|        34|               19|         53|\n",
      "+-----------+----------+-----------------+-----------+\n",
      "\n"
     ]
    }
   ],
   "source": [
    "sqlContext.sql(\"select * from my_survey_scores limit 10\").show()"
   ]
  },
  {
   "cell_type": "code",
   "execution_count": 17,
   "metadata": {
    "collapsed": false
   },
   "outputs": [
    {
     "name": "stdout",
     "output_type": "stream",
     "text": [
      "+-----------------+---------+-------+\n",
      "|         col_name|data_type|comment|\n",
      "+-----------------+---------+-------+\n",
      "|      provider_id|   string|   null|\n",
      "|       base_score|      int|   null|\n",
      "|consistency_score|      int|   null|\n",
      "|      total_score|      int|   null|\n",
      "+-----------------+---------+-------+\n",
      "\n"
     ]
    }
   ],
   "source": [
    "sqlContext.sql(\"describe my_survey_scores\").show()"
   ]
  },
  {
   "cell_type": "code",
   "execution_count": 21,
   "metadata": {
    "collapsed": false
   },
   "outputs": [
    {
     "data": {
      "text/plain": [
       "DataFrame[]"
      ]
     },
     "execution_count": 21,
     "metadata": {},
     "output_type": "execute_result"
    }
   ],
   "source": [
    "sql = \"\"\"\n",
    "DROP TABLE my_care\n",
    "\"\"\"\n",
    "sqlContext.sql(sql)\n",
    "\n",
    "\n",
    "sql = \"\"\"\n",
    "CREATE TABLE my_care AS \n",
    "SELECT \n",
    "provider_id, condition, measure_id,\n",
    "measure_name,\n",
    "cast(score as INT) score,\n",
    "100 - cast(score as DECIMAL(16,4)) new_score,\n",
    "cast(to_date(from_unixtime(unix_timestamp(measure_start_date, 'MM/dd/yy'))) as date) measure_start,\n",
    "cast(to_date(from_unixtime(unix_timestamp(measure_end_date, 'MM/dd/yy'))) as date) measure_end\n",
    "FROM effective_care\n",
    "WHERE\n",
    "measure_id = 'OP_22' OR measure_id = 'PC_01' OR measure_id = 'VTE_6'\n",
    "\"\"\"\n",
    "sqlContext.sql(sql)\n",
    "\n"
   ]
  },
  {
   "cell_type": "code",
   "execution_count": 23,
   "metadata": {
    "collapsed": false
   },
   "outputs": [
    {
     "data": {
      "text/plain": [
       "DataFrame[]"
      ]
     },
     "execution_count": 23,
     "metadata": {},
     "output_type": "execute_result"
    }
   ],
   "source": [
    "sql = \"\"\"\n",
    "INSERT INTO TABLE my_care\n",
    "SELECT \n",
    "provider_id, condition, measure_id,\n",
    "measure_name,\n",
    "cast(score as INT) score,\n",
    "cast(score as DECIMAL(16,4)) new_score,\n",
    "cast(to_date(from_unixtime(unix_timestamp(measure_start_date, 'MM/dd/yy'))) as date) measure_start,\n",
    "cast(to_date(from_unixtime(unix_timestamp(measure_end_date, 'MM/dd/yy'))) as date) measure_end\n",
    "FROM effective_care\n",
    "WHERE\n",
    "measure_id != 'OP_22' AND measure_id != 'PC_01' AND measure_id != 'VTE_6'\n",
    "\"\"\"\n",
    "sqlContext.sql(sql)"
   ]
  },
  {
   "cell_type": "code",
   "execution_count": 26,
   "metadata": {
    "collapsed": false
   },
   "outputs": [
    {
     "name": "stdout",
     "output_type": "stream",
     "text": [
      "+-------------+-------------+-------+\n",
      "|     col_name|    data_type|comment|\n",
      "+-------------+-------------+-------+\n",
      "|  provider_id|       string|   null|\n",
      "|    condition|       string|   null|\n",
      "|   measure_id|       string|   null|\n",
      "| measure_name|       string|   null|\n",
      "|        score|          int|   null|\n",
      "|    new_score|decimal(17,4)|   null|\n",
      "|measure_start|         date|   null|\n",
      "|  measure_end|         date|   null|\n",
      "+-------------+-------------+-------+\n",
      "\n"
     ]
    }
   ],
   "source": [
    "sqlContext.sql(\"describe my_care\").show()"
   ]
  },
  {
   "cell_type": "code",
   "execution_count": 31,
   "metadata": {
    "collapsed": false
   },
   "outputs": [
    {
     "name": "stdout",
     "output_type": "stream",
     "text": [
      "+-----------+--------------------+----------+-------------------+-----+---------+-------------+-----------+\n",
      "|provider_id|           condition|measure_id|       measure_name|score|new_score|measure_start|measure_end|\n",
      "+-----------+--------------------+----------+-------------------+-----+---------+-------------+-----------+\n",
      "|     010001|Heart Attack or C...|    AMI_10|Statin at Discharge|   98|  98.0000|   2013-10-01| 2014-09-30|\n",
      "|     010005|Heart Attack or C...|    AMI_10|Statin at Discharge|  100| 100.0000|   2013-10-01| 2014-09-30|\n",
      "|     010006|Heart Attack or C...|    AMI_10|Statin at Discharge|  100| 100.0000|   2013-10-01| 2014-09-30|\n",
      "|     010007|Heart Attack or C...|    AMI_10|Statin at Discharge| null|     null|   2013-10-01| 2014-09-30|\n",
      "|     010008|Heart Attack or C...|    AMI_10|Statin at Discharge| null|     null|   2013-10-01| 2014-09-30|\n",
      "|     010011|Heart Attack or C...|    AMI_10|Statin at Discharge|  100| 100.0000|   2013-10-01| 2014-09-30|\n",
      "|     010012|Heart Attack or C...|    AMI_10|Statin at Discharge|  100| 100.0000|   2013-10-01| 2014-09-30|\n",
      "|     010016|Heart Attack or C...|    AMI_10|Statin at Discharge|   98|  98.0000|   2013-10-01| 2014-09-30|\n",
      "|     010018|Heart Attack or C...|    AMI_10|Statin at Discharge| null|     null|   2013-10-01| 2014-09-30|\n",
      "|     010019|Heart Attack or C...|    AMI_10|Statin at Discharge| null|     null|   2013-10-01| 2014-09-30|\n",
      "|     010021|Heart Attack or C...|    AMI_10|Statin at Discharge| null|     null|   2013-10-01| 2014-09-30|\n",
      "|     010022|Heart Attack or C...|    AMI_10|Statin at Discharge| null|     null|   2013-10-01| 2014-09-30|\n",
      "|     010023|Heart Attack or C...|    AMI_10|Statin at Discharge|   99|  99.0000|   2013-10-01| 2014-09-30|\n",
      "|     010024|Heart Attack or C...|    AMI_10|Statin at Discharge|   98|  98.0000|   2013-10-01| 2014-09-30|\n",
      "|     010029|Heart Attack or C...|    AMI_10|Statin at Discharge|  100| 100.0000|   2013-10-01| 2014-09-30|\n",
      "|     010032|Heart Attack or C...|    AMI_10|Statin at Discharge| null|     null|   2013-10-01| 2014-09-30|\n",
      "|     010033|Heart Attack or C...|    AMI_10|Statin at Discharge|   99|  99.0000|   2013-10-01| 2014-09-30|\n",
      "|     010034|Heart Attack or C...|    AMI_10|Statin at Discharge| null|     null|   2013-10-01| 2014-09-30|\n",
      "|     010035|Heart Attack or C...|    AMI_10|Statin at Discharge|  100| 100.0000|   2013-10-01| 2014-09-30|\n",
      "|     010036|Heart Attack or C...|    AMI_10|Statin at Discharge| null|     null|   2013-10-01| 2014-09-30|\n",
      "+-----------+--------------------+----------+-------------------+-----+---------+-------------+-----------+\n",
      "only showing top 20 rows\n",
      "\n"
     ]
    }
   ],
   "source": [
    "sqlContext.sql(\"select * from my_care WHERE measure_id == 'AMI_10'\").show()"
   ]
  },
  {
   "cell_type": "code",
   "execution_count": null,
   "metadata": {
    "collapsed": false
   },
   "outputs": [],
   "source": []
  },
  {
   "cell_type": "code",
   "execution_count": null,
   "metadata": {
    "collapsed": true
   },
   "outputs": [],
   "source": []
  },
  {
   "cell_type": "code",
   "execution_count": 47,
   "metadata": {
    "collapsed": false
   },
   "outputs": [
    {
     "data": {
      "text/plain": [
       "DataFrame[]"
      ]
     },
     "execution_count": 47,
     "metadata": {},
     "output_type": "execute_result"
    }
   ],
   "source": [
    "sql = \"\"\"\n",
    "DROP TABLE my_infections\n",
    "\"\"\"\n",
    "sqlContext.sql(sql)\n",
    "\n",
    "\n",
    "sql = \"\"\"\n",
    "CREATE TABLE my_infections AS \n",
    "SELECT \n",
    "provider_id, measure_id,\n",
    "measure_name, compared_to_national,\n",
    "cast(score as DECIMAL(16,4)) score,\n",
    "cast(to_date(from_unixtime(unix_timestamp(measure_start_date, 'MM/dd/yy'))) as date) measure_start,\n",
    "cast(to_date(from_unixtime(unix_timestamp(measure_end_date, 'MM/dd/yy'))) as date) measure_end\n",
    "FROM infections\n",
    "\"\"\"\n",
    "sqlContext.sql(sql)"
   ]
  },
  {
   "cell_type": "code",
   "execution_count": 48,
   "metadata": {
    "collapsed": false
   },
   "outputs": [
    {
     "name": "stdout",
     "output_type": "stream",
     "text": [
      "+--------------------+-------------+-------+\n",
      "|            col_name|    data_type|comment|\n",
      "+--------------------+-------------+-------+\n",
      "|         provider_id|       string|   null|\n",
      "|          measure_id|       string|   null|\n",
      "|        measure_name|       string|   null|\n",
      "|compared_to_national|       string|   null|\n",
      "|               score|decimal(16,4)|   null|\n",
      "|       measure_start|         date|   null|\n",
      "|         measure_end|         date|   null|\n",
      "+--------------------+-------------+-------+\n",
      "\n"
     ]
    }
   ],
   "source": [
    "sqlContext.sql(\"describe my_infections\").show()"
   ]
  },
  {
   "cell_type": "code",
   "execution_count": 53,
   "metadata": {
    "collapsed": false
   },
   "outputs": [
    {
     "name": "stdout",
     "output_type": "stream",
     "text": [
      "+-----------+---------------+--------------------+--------------------+---------+-------------+-----------+\n",
      "|provider_id|     measure_id|        measure_name|compared_to_national|    score|measure_start|measure_end|\n",
      "+-----------+---------------+--------------------+--------------------+---------+-------------+-----------+\n",
      "|     010001| HAI_1_CI_LOWER|CLABSI Lower Conf...|No Different than...|   0.7370|   2013-10-01| 2014-09-30|\n",
      "|     010001| HAI_1_CI_UPPER|CLABSI Upper Conf...|No Different than...|   3.7820|   2013-10-01| 2014-09-30|\n",
      "|     010001|HAI_1_DOPC_DAYS|CLABSI Central Li...|No Different than...|2199.0000|   2013-10-01| 2014-09-30|\n",
      "|     010001|HAI_1_ELIGCASES|CLABSI Predicted ...|No Different than...|   3.3000|   2013-10-01| 2014-09-30|\n",
      "|     010001|HAI_1_NUMERATOR|CLABSI Observed C...|No Different than...|   6.0000|   2013-10-01| 2014-09-30|\n",
      "|     010001|      HAI_1_SIR|Central line-asso...|No Different than...|   1.8180|   2013-10-01| 2014-09-30|\n",
      "|     010001| HAI_2_CI_LOWER|CAUTI Lower Confi...|Worse than the Na...|   2.3950|   2013-10-01| 2014-09-30|\n",
      "|     010001| HAI_2_CI_UPPER|CAUTI Upper Confi...|Worse than the Na...|   4.8570|   2013-10-01| 2014-09-30|\n",
      "|     010001|HAI_2_DOPC_DAYS|CAUTI Urinary Cat...|Worse than the Na...|7450.0000|   2013-10-01| 2014-09-30|\n",
      "|     010001|HAI_2_ELIGCASES|CAUTI Predicted C...|Worse than the Na...|   8.9490|   2013-10-01| 2014-09-30|\n",
      "|     010001|HAI_2_NUMERATOR|CAUTI Observed Cases|Worse than the Na...|  31.0000|   2013-10-01| 2014-09-30|\n",
      "|     010001|      HAI_2_SIR|Catheter-Associat...|Worse than the Na...|   3.4640|   2013-10-01| 2014-09-30|\n",
      "|     010001| HAI_3_CI_LOWER|SSI: Colon Lower ...|No Different than...|   0.2170|   2013-10-01| 2014-09-30|\n",
      "|     010001| HAI_3_CI_UPPER|SSI: Colon Upper ...|No Different than...|   1.6440|   2013-10-01| 2014-09-30|\n",
      "|     010001|HAI_3_DOPC_DAYS|SSI: Colon, Numbe...|No Different than...| 171.0000|   2013-10-01| 2014-09-30|\n",
      "|     010001|HAI_3_ELIGCASES|SSI: Colon Predic...|No Different than...|   5.8680|   2013-10-01| 2014-09-30|\n",
      "|     010001|HAI_3_NUMERATOR|SSI: Colon Observ...|No Different than...|   4.0000|   2013-10-01| 2014-09-30|\n",
      "|     010001|      HAI_3_SIR|Surgical Site Inf...|No Different than...|   0.6820|   2013-10-01| 2014-09-30|\n",
      "|     010001| HAI_4_CI_LOWER|SSI: Abdominal Lo...|       Not Available|     null|   2013-10-01| 2014-09-30|\n",
      "|     010001| HAI_4_CI_UPPER|SSI: Abdominal Up...|       Not Available|     null|   2013-10-01| 2014-09-30|\n",
      "+-----------+---------------+--------------------+--------------------+---------+-------------+-----------+\n",
      "only showing top 20 rows\n",
      "\n"
     ]
    }
   ],
   "source": [
    "sqlContext.sql(\"select * from my_infections\").show()"
   ]
  },
  {
   "cell_type": "code",
   "execution_count": 54,
   "metadata": {
    "collapsed": false
   },
   "outputs": [
    {
     "data": {
      "text/plain": [
       "DataFrame[]"
      ]
     },
     "execution_count": 54,
     "metadata": {},
     "output_type": "execute_result"
    }
   ],
   "source": [
    "sql = \"\"\"\n",
    "DROP TABLE my_readmissions\n",
    "\"\"\"\n",
    "sqlContext.sql(sql)\n",
    "\n",
    "\n",
    "sql = \"\"\"\n",
    "CREATE TABLE my_readmissions AS \n",
    "SELECT \n",
    "provider_id, measure_id,\n",
    "measure_name, compared_to_national,\n",
    "cast(score as DECIMAL(16,4)) score,\n",
    "cast(to_date(from_unixtime(unix_timestamp(measure_start_date, 'MM/dd/yy'))) as date) measure_start,\n",
    "cast(to_date(from_unixtime(unix_timestamp(measure_end_date, 'MM/dd/yy'))) as date) measure_end\n",
    "FROM readmissions\n",
    "\"\"\"\n",
    "sqlContext.sql(sql)"
   ]
  },
  {
   "cell_type": "code",
   "execution_count": 55,
   "metadata": {
    "collapsed": false
   },
   "outputs": [
    {
     "name": "stdout",
     "output_type": "stream",
     "text": [
      "+--------------------+-------------+-------+\n",
      "|            col_name|    data_type|comment|\n",
      "+--------------------+-------------+-------+\n",
      "|         provider_id|       string|   null|\n",
      "|          measure_id|       string|   null|\n",
      "|        measure_name|       string|   null|\n",
      "|compared_to_national|       string|   null|\n",
      "|               score|decimal(16,4)|   null|\n",
      "|       measure_start|         date|   null|\n",
      "|         measure_end|         date|   null|\n",
      "+--------------------+-------------+-------+\n",
      "\n"
     ]
    }
   ],
   "source": [
    "sqlContext.sql(\"describe my_readmissions\").show()"
   ]
  },
  {
   "cell_type": "code",
   "execution_count": 56,
   "metadata": {
    "collapsed": false
   },
   "outputs": [
    {
     "name": "stdout",
     "output_type": "stream",
     "text": [
      "+-----------+------------------+--------------------+--------------------+-------+-------------+-----------+\n",
      "|provider_id|        measure_id|        measure_name|compared_to_national|  score|measure_start|measure_end|\n",
      "+-----------+------------------+--------------------+--------------------+-------+-------------+-----------+\n",
      "|     010001|       MORT_30_AMI|Acute Myocardial ...|No different than...|12.2000|   2011-07-01| 2014-06-30|\n",
      "|     010001|      MORT_30_CABG| Death rate for CABG|No different than...| 3.7000|   2011-07-01| 2014-06-30|\n",
      "|     010001|      MORT_30_COPD|Death rate for ch...|No different than...| 8.8000|   2011-07-01| 2014-06-30|\n",
      "|     010001|        MORT_30_HF|Heart failure (HF...|No different than...|12.6000|   2011-07-01| 2014-06-30|\n",
      "|     010001|        MORT_30_PN|Pneumonia (PN) 30...|No different than...|11.6000|   2011-07-01| 2014-06-30|\n",
      "|     010001|       MORT_30_STK|Death rate for st...|No different than...|15.3000|   2011-07-01| 2014-06-30|\n",
      "|     010001|      READM_30_AMI|Acute Myocardial ...|No different than...|17.4000|   2011-07-01| 2014-06-30|\n",
      "|     010001|     READM_30_CABG|Rate of unplanned...|No different than...|15.9000|   2011-07-01| 2014-06-30|\n",
      "|     010001|     READM_30_COPD|Rate of unplanned...|No different than...|22.0000|   2011-07-01| 2014-06-30|\n",
      "|     010001|       READM_30_HF|Heart failure (HF...|No different than...|21.0000|   2011-07-01| 2014-06-30|\n",
      "|     010001| READM_30_HIP_KNEE|Rate of readmissi...|No different than...| 5.2000|   2011-07-01| 2014-06-30|\n",
      "|     010001|READM_30_HOSP_WIDE|Rate of readmissi...|No different than...|14.8000|   2013-07-01| 2014-06-30|\n",
      "|     010001|       READM_30_PN|Pneumonia (PN) 30...|No different than...|18.2000|   2011-07-01| 2014-06-30|\n",
      "|     010001|      READM_30_STK|Rate of unplanned...|No different than...|13.0000|   2011-07-01| 2014-06-30|\n",
      "|     010005|       MORT_30_AMI|Acute Myocardial ...|No different than...|16.9000|   2011-07-01| 2014-06-30|\n",
      "|     010005|      MORT_30_CABG| Death rate for CABG|       Not Available|   null|   2011-07-01| 2014-06-30|\n",
      "|     010005|      MORT_30_COPD|Death rate for ch...|No different than...| 7.5000|   2011-07-01| 2014-06-30|\n",
      "|     010005|        MORT_30_HF|Heart failure (HF...|Worse than the Na...|16.3000|   2011-07-01| 2014-06-30|\n",
      "|     010005|        MORT_30_PN|Pneumonia (PN) 30...|Worse than the Na...|13.9000|   2011-07-01| 2014-06-30|\n",
      "|     010005|       MORT_30_STK|Death rate for st...|No different than...|14.8000|   2011-07-01| 2014-06-30|\n",
      "+-----------+------------------+--------------------+--------------------+-------+-------------+-----------+\n",
      "only showing top 20 rows\n",
      "\n"
     ]
    }
   ],
   "source": [
    "sqlContext.sql(\"select * from my_readmissions\").show()"
   ]
  },
  {
   "cell_type": "code",
   "execution_count": 57,
   "metadata": {
    "collapsed": false
   },
   "outputs": [
    {
     "data": {
      "text/plain": [
       "DataFrame[]"
      ]
     },
     "execution_count": 57,
     "metadata": {},
     "output_type": "execute_result"
    }
   ],
   "source": [
    "sql = \"\"\"\n",
    "DROP TABLE my_complications\n",
    "\"\"\"\n",
    "sqlContext.sql(sql)\n",
    "\n",
    "\n",
    "sql = \"\"\"\n",
    "CREATE TABLE my_complications AS \n",
    "SELECT \n",
    "provider_id, measure_id,\n",
    "measure_name, compared_to_national,\n",
    "cast(score as DECIMAL(16,4)) score,\n",
    "cast(to_date(from_unixtime(unix_timestamp(measure_start_date, 'MM/dd/yy'))) as date) measure_start,\n",
    "cast(to_date(from_unixtime(unix_timestamp(measure_end_date, 'MM/dd/yy'))) as date) measure_end\n",
    "FROM complications\n",
    "\"\"\"\n",
    "sqlContext.sql(sql)"
   ]
  },
  {
   "cell_type": "code",
   "execution_count": 59,
   "metadata": {
    "collapsed": false
   },
   "outputs": [
    {
     "name": "stdout",
     "output_type": "stream",
     "text": [
      "+--------------------+-------------+-------+\n",
      "|            col_name|    data_type|comment|\n",
      "+--------------------+-------------+-------+\n",
      "|         provider_id|       string|   null|\n",
      "|          measure_id|       string|   null|\n",
      "|        measure_name|       string|   null|\n",
      "|compared_to_national|       string|   null|\n",
      "|               score|decimal(16,4)|   null|\n",
      "|       measure_start|         date|   null|\n",
      "|         measure_end|         date|   null|\n",
      "+--------------------+-------------+-------+\n",
      "\n"
     ]
    }
   ],
   "source": [
    "sqlContext.sql(\"describe my_complications\").show()"
   ]
  },
  {
   "cell_type": "code",
   "execution_count": 60,
   "metadata": {
    "collapsed": false
   },
   "outputs": [
    {
     "name": "stdout",
     "output_type": "stream",
     "text": [
      "+-----------+--------------------+--------------------+--------------------+--------+-------------+-----------+\n",
      "|provider_id|          measure_id|        measure_name|compared_to_national|   score|measure_start|measure_end|\n",
      "+-----------+--------------------+--------------------+--------------------+--------+-------------+-----------+\n",
      "|     010001|       COMP_HIP_KNEE|Rate of complicat...|No different than...|  3.9000|   2011-04-01| 2014-03-31|\n",
      "|     010001|PSI_12_POSTOP_PUL...|Serious blood clo...|Better than the N...|  2.1600|   2012-07-01| 2014-06-30|\n",
      "|     010001| PSI_14_POSTOP_DEHIS|A wound that spli...|No different than...|  1.6700|   2012-07-01| 2014-06-30|\n",
      "|     010001|      PSI_15_ACC_LAC|Accidental cuts a...|No different than...|  1.5200|   2012-07-01| 2014-06-30|\n",
      "|     010001|     PSI_4_SURG_COMP|Deaths among Pati...|No different than...|138.3000|   2012-07-01| 2014-06-30|\n",
      "|     010001|       PSI_6_IAT_PTX|Collapsed lung du...|No different than...|  0.3100|   2012-07-01| 2014-06-30|\n",
      "|     010001|       PSI_90_SAFETY|Serious complicat...|Better than the N...|  0.5700|   2012-07-01| 2014-06-30|\n",
      "|     010005|       COMP_HIP_KNEE|Rate of complicat...|No different than...|  2.8000|   2011-04-01| 2014-03-31|\n",
      "|     010005|PSI_12_POSTOP_PUL...|Serious blood clo...|No different than...|  3.7000|   2012-07-01| 2014-06-30|\n",
      "|     010005| PSI_14_POSTOP_DEHIS|A wound that spli...|No different than...|  2.4200|   2012-07-01| 2014-06-30|\n",
      "|     010005|      PSI_15_ACC_LAC|Accidental cuts a...|No different than...|  1.3500|   2012-07-01| 2014-06-30|\n",
      "|     010005|     PSI_4_SURG_COMP|Deaths among Pati...|No different than...|141.4200|   2012-07-01| 2014-06-30|\n",
      "|     010005|       PSI_6_IAT_PTX|Collapsed lung du...|No different than...|  0.3800|   2012-07-01| 2014-06-30|\n",
      "|     010005|       PSI_90_SAFETY|Serious complicat...|No different than...|  0.6800|   2012-07-01| 2014-06-30|\n",
      "|     010006|       COMP_HIP_KNEE|Rate of complicat...|No different than...|  3.0000|   2011-04-01| 2014-03-31|\n",
      "|     010006|PSI_12_POSTOP_PUL...|Serious blood clo...|No different than...|  3.0600|   2012-07-01| 2014-06-30|\n",
      "|     010006| PSI_14_POSTOP_DEHIS|A wound that spli...|No different than...|  1.4100|   2012-07-01| 2014-06-30|\n",
      "|     010006|      PSI_15_ACC_LAC|Accidental cuts a...|No different than...|  2.0700|   2012-07-01| 2014-06-30|\n",
      "|     010006|     PSI_4_SURG_COMP|Deaths among Pati...|Worse than the Na...|168.4200|   2012-07-01| 2014-06-30|\n",
      "|     010006|       PSI_6_IAT_PTX|Collapsed lung du...|No different than...|  0.3600|   2012-07-01| 2014-06-30|\n",
      "+-----------+--------------------+--------------------+--------------------+--------+-------------+-----------+\n",
      "only showing top 20 rows\n",
      "\n"
     ]
    }
   ],
   "source": [
    "sqlContext.sql(\"select * from my_complications\").show()"
   ]
  },
  {
   "cell_type": "code",
   "execution_count": 61,
   "metadata": {
    "collapsed": false
   },
   "outputs": [
    {
     "name": "stdout",
     "output_type": "stream",
     "text": [
      "+-----------------+-----------+\n",
      "|        tableName|isTemporary|\n",
      "+-----------------+-----------+\n",
      "|    complications|      false|\n",
      "|   effective_care|      false|\n",
      "|              foo|      false|\n",
      "|        hospitals|      false|\n",
      "|  hospital_survey|      false|\n",
      "|       infections|      false|\n",
      "|         measures|      false|\n",
      "|          my_care|      false|\n",
      "| my_complications|      false|\n",
      "|     my_hospitals|      false|\n",
      "|    my_infections|      false|\n",
      "|  my_readmissions|      false|\n",
      "|   my_star_rating|      false|\n",
      "| my_survey_scores|      false|\n",
      "|     readmissions|      false|\n",
      "|         stadiums|      false|\n",
      "|surveys_responses|      false|\n",
      "|        user_info|      false|\n",
      "|     weblogs_flat|      false|\n",
      "|  weblogs_parquet|      false|\n",
      "+-----------------+-----------+\n",
      "only showing top 20 rows\n",
      "\n"
     ]
    }
   ],
   "source": [
    "sqlContext.sql(\"show tables\").show()"
   ]
  },
  {
   "cell_type": "code",
   "execution_count": 29,
   "metadata": {
    "collapsed": false
   },
   "outputs": [
    {
     "name": "stdout",
     "output_type": "stream",
     "text": [
      "+----------------+-----------+\n",
      "|       tableName|isTemporary|\n",
      "+----------------+-----------+\n",
      "|       my_tables|       true|\n",
      "|         my_care|      false|\n",
      "|my_complications|      false|\n",
      "|    my_hospitals|      false|\n",
      "|   my_infections|      false|\n",
      "| my_readmissions|      false|\n",
      "| my_star_ratings|      false|\n",
      "|my_survey_scores|      false|\n",
      "+----------------+-----------+\n",
      "\n"
     ]
    }
   ],
   "source": [
    "df = sqlContext.sql(\"show tables\")\n",
    "df.registerTempTable('temp_tables')\n",
    "query = \"\"\"SELECT * FROM temp_tables WHERE tableName LIKE '%my%'\"\"\"\n",
    "sqlContext.sql(query).show()"
   ]
  },
  {
   "cell_type": "code",
   "execution_count": 28,
   "metadata": {
    "collapsed": false
   },
   "outputs": [
    {
     "name": "stdout",
     "output_type": "stream",
     "text": [
      "+-----------------+-----------+\n",
      "|        tableName|isTemporary|\n",
      "+-----------------+-----------+\n",
      "|        my_tables|       true|\n",
      "|    complications|      false|\n",
      "|   effective_care|      false|\n",
      "|              foo|      false|\n",
      "|        hospitals|      false|\n",
      "|  hospital_survey|      false|\n",
      "|       infections|      false|\n",
      "|         measures|      false|\n",
      "|          my_care|      false|\n",
      "| my_complications|      false|\n",
      "|     my_hospitals|      false|\n",
      "|    my_infections|      false|\n",
      "|  my_readmissions|      false|\n",
      "|  my_star_ratings|      false|\n",
      "| my_survey_scores|      false|\n",
      "|     readmissions|      false|\n",
      "|         stadiums|      false|\n",
      "|surveys_responses|      false|\n",
      "|        user_info|      false|\n",
      "|     weblogs_flat|      false|\n",
      "+-----------------+-----------+\n",
      "only showing top 20 rows\n",
      "\n"
     ]
    }
   ],
   "source": [
    "sqlContext.sql(\"show tables\").show()"
   ]
  },
  {
   "cell_type": "markdown",
   "metadata": {
    "collapsed": true
   },
   "source": [
    "## Exploring data frames"
   ]
  },
  {
   "cell_type": "code",
   "execution_count": 64,
   "metadata": {
    "collapsed": true
   },
   "outputs": [],
   "source": [
    "#rdd = sqlContext.sql(\"select * from my_care\")\n",
    "\n",
    "# ignore the values with times\n",
    "sql = \"\"\"\n",
    "select * from my_care \n",
    "where measure_id != 'ED_1b' AND measure_id != 'ED_2b' AND measure_id != 'OP_1'\n",
    "AND measure_id != 'OP_18b' AND measure_id != 'OP_20' AND measure_id != 'OP_21' \n",
    "AND measure_id != 'OP_3b' AND measure_id != 'OP_5'\n",
    "\"\"\"\n",
    "rdd = sqlContext.sql(sql)"
   ]
  },
  {
   "cell_type": "code",
   "execution_count": 65,
   "metadata": {
    "collapsed": false
   },
   "outputs": [
    {
     "data": {
      "text/plain": [
       "pyspark.sql.dataframe.DataFrame"
      ]
     },
     "execution_count": 65,
     "metadata": {},
     "output_type": "execute_result"
    }
   ],
   "source": [
    "type(rdd)"
   ]
  },
  {
   "cell_type": "code",
   "execution_count": 66,
   "metadata": {
    "collapsed": false
   },
   "outputs": [],
   "source": [
    "rdd = rdd.fillna({'new_score': 0})"
   ]
  },
  {
   "cell_type": "code",
   "execution_count": 76,
   "metadata": {
    "collapsed": false
   },
   "outputs": [
    {
     "name": "stdout",
     "output_type": "stream",
     "text": [
      "+-----------+-----------+---------+\n",
      "|provider_id|  avg_score|sum_score|\n",
      "+-----------+-----------+---------+\n",
      "|     050071|90.26470588|3069.0000|\n",
      "|     050604|90.23529412|3068.0000|\n",
      "|     050674|90.05882353|3062.0000|\n",
      "|     050772|90.00000000|3060.0000|\n",
      "|     050072|89.26470588|3035.0000|\n",
      "|     050076|89.23529412|3034.0000|\n",
      "|     050512|89.20588235|3033.0000|\n",
      "|     230072|89.17500000|3567.0000|\n",
      "|     450388|89.02325581|3828.0000|\n",
      "|     060100|88.77500000|3551.0000|\n",
      "|     050503|88.70000000|3548.0000|\n",
      "|     380091|88.44117647|3007.0000|\n",
      "|     390168|88.27500000|3531.0000|\n",
      "|     500079|88.00000000|3520.0000|\n",
      "|     450723|87.87500000|3515.0000|\n",
      "|     220100|87.72500000|3509.0000|\n",
      "|     490075|87.62500000|3505.0000|\n",
      "|     030036|87.62500000|3505.0000|\n",
      "|     050107|87.37500000|3495.0000|\n",
      "|     050231|87.35000000|3494.0000|\n",
      "+-----------+-----------+---------+\n",
      "only showing top 20 rows\n",
      "\n"
     ]
    }
   ],
   "source": [
    "from pyspark.sql import functions as func\n",
    "rdd.groupBy('provider_id') \\\n",
    "    .agg(func.avg('new_score').alias('avg_score'),\n",
    "         func.sum('new_score').alias('sum_score')) \\\n",
    "    .sort('avg_score', ascending=False).show()"
   ]
  },
  {
   "cell_type": "code",
   "execution_count": null,
   "metadata": {
    "collapsed": true
   },
   "outputs": [],
   "source": []
  },
  {
   "cell_type": "markdown",
   "metadata": {},
   "source": [
    "\n",
    "## SQL Exploration\n"
   ]
  },
  {
   "cell_type": "code",
   "execution_count": 48,
   "metadata": {
    "collapsed": false
   },
   "outputs": [
    {
     "name": "stdout",
     "output_type": "stream",
     "text": [
      "+-----------+------------+\n",
      "|provider_id|   agg_score|\n",
      "+-----------+------------+\n",
      "|     511321|100.00000000|\n",
      "|     281324|100.00000000|\n",
      "|     111319|100.00000000|\n",
      "|     461302|100.00000000|\n",
      "|     141332|100.00000000|\n",
      "|     210058|100.00000000|\n",
      "|     490144|100.00000000|\n",
      "|     141329|100.00000000|\n",
      "|     531302|100.00000000|\n",
      "|     261333|100.00000000|\n",
      "|     201304|100.00000000|\n",
      "|     351315|100.00000000|\n",
      "|     141326|100.00000000|\n",
      "|     06007F|100.00000000|\n",
      "|     261329|100.00000000|\n",
      "|     201306|100.00000000|\n",
      "|     141328|100.00000000|\n",
      "|     201307|100.00000000|\n",
      "|     231313|100.00000000|\n",
      "|     491303|100.00000000|\n",
      "+-----------+------------+\n",
      "only showing top 20 rows\n",
      "\n"
     ]
    }
   ],
   "source": [
    "# ignore the values with times\n",
    "sql = \"\"\"\n",
    "select provider_id, avg(new_score) as agg_score from my_care \n",
    "where measure_id != 'ED_1b' AND measure_id != 'ED_2b' AND measure_id != 'OP_1'\n",
    "AND measure_id != 'OP_18b' AND measure_id != 'OP_20' AND measure_id != 'OP_21' \n",
    "AND measure_id != 'OP_3b' AND measure_id != 'OP_5'\n",
    "group by provider_id order by agg_score DESC\n",
    "\"\"\"\n",
    "sqlContext.sql(sql).show()"
   ]
  },
  {
   "cell_type": "code",
   "execution_count": 53,
   "metadata": {
    "collapsed": false
   },
   "outputs": [
    {
     "name": "stdout",
     "output_type": "stream",
     "text": [
      "+-----------+--------------------+-------------+------+-----+--------+-----------+------------+--------------------+-----------+--------------------+-------------+-------------+--------------------+------------------+----------------+\n",
      "|provider_id|       hospital_name|      address|  city|state|zip_code|county_name|phone_number|           condition| measure_id|        measure_name|        score|       sample|            footnote|measure_start_date|measure_end_date|\n",
      "+-----------+--------------------+-------------+------+-----+--------+-----------+------------+--------------------+-----------+--------------------+-------------+-------------+--------------------+------------------+----------------+\n",
      "|     281324|NEMAHA COUNTY HOS...|2022  13TH ST|AUBURN|   NE|   68305|     NEMAHA|  4022744366|Heart Attack or C...|     AMI_10| Statin at Discharge|Not Available|Not Available|5 - Results are n...|        10/01/2013|      09/30/2014|\n",
      "|     281324|NEMAHA COUNTY HOS...|2022  13TH ST|AUBURN|   NE|   68305|     NEMAHA|  4022744366|Heart Attack or C...|      AMI_2|Aspirin prescribe...|Not Available|Not Available|5 - Results are n...|        10/01/2013|      09/30/2014|\n",
      "|     281324|NEMAHA COUNTY HOS...|2022  13TH ST|AUBURN|   NE|   68305|     NEMAHA|  4022744366|Heart Attack or C...|     AMI_7a|Fibrinolytic Ther...|Not Available|Not Available|5 - Results are n...|        10/01/2013|      09/30/2014|\n",
      "|     281324|NEMAHA COUNTY HOS...|2022  13TH ST|AUBURN|   NE|   68305|     NEMAHA|  4022744366|Heart Attack or C...|     AMI_8a|Primary PCI Recei...|Not Available|Not Available|5 - Results are n...|        10/01/2013|      09/30/2014|\n",
      "|     281324|NEMAHA COUNTY HOS...|2022  13TH ST|AUBURN|   NE|   68305|     NEMAHA|  4022744366|Emergency Department|        EDV|Emergency departm...|Not Available|             |5 - Results are n...|        01/01/2013|      12/31/2013|\n",
      "|     281324|NEMAHA COUNTY HOS...|2022  13TH ST|AUBURN|   NE|   68305|     NEMAHA|  4022744366|       Heart Failure|       HF_1|Discharge instruc...|Not Available|Not Available|1 - The number of...|        10/01/2013|      09/30/2014|\n",
      "|     281324|NEMAHA COUNTY HOS...|2022  13TH ST|AUBURN|   NE|   68305|     NEMAHA|  4022744366|       Heart Failure|       HF_2|Evaluation of LVS...|Not Available|Not Available|1 - The number of...|        10/01/2013|      09/30/2014|\n",
      "|     281324|NEMAHA COUNTY HOS...|2022  13TH ST|AUBURN|   NE|   68305|     NEMAHA|  4022744366|       Heart Failure|       HF_3|ACEI or ARB for LVSD|Not Available|Not Available|3 - Results are b...|        10/01/2013|      09/30/2014|\n",
      "|     281324|NEMAHA COUNTY HOS...|2022  13TH ST|AUBURN|   NE|   68305|     NEMAHA|  4022744366|     Preventive Care|      IMM_2|Immunization for ...|Not Available|Not Available|5 - Results are n...|        10/01/2013|      03/31/2014|\n",
      "|     281324|NEMAHA COUNTY HOS...|2022  13TH ST|AUBURN|   NE|   68305|     NEMAHA|  4022744366|Heart Attack or C...|       OP_2|Fibrinolytic Ther...|Not Available|Not Available|1 - The number of...|        10/01/2013|      09/30/2014|\n",
      "|     281324|NEMAHA COUNTY HOS...|2022  13TH ST|AUBURN|   NE|   68305|     NEMAHA|  4022744366|Emergency Department|      OP_22|Left before being...|Not Available|Not Available|5 - Results are n...|        01/01/2013|      12/31/2013|\n",
      "|     281324|NEMAHA COUNTY HOS...|2022  13TH ST|AUBURN|   NE|   68305|     NEMAHA|  4022744366|Emergency Department|      OP_23|     Head CT results|Not Available|Not Available|5 - Results are n...|        10/01/2013|      09/30/2014|\n",
      "|     281324|NEMAHA COUNTY HOS...|2022  13TH ST|AUBURN|   NE|   68305|     NEMAHA|  4022744366|Heart Attack or C...|       OP_4|  Aspirin at Arrival|          100|           15|                    |        10/01/2013|      09/30/2014|\n",
      "|     281324|NEMAHA COUNTY HOS...|2022  13TH ST|AUBURN|   NE|   68305|     NEMAHA|  4022744366|Surgical Care Imp...|       OP_6|Prophylactic Anti...|Not Available|Not Available|5 - Results are n...|        10/01/2013|      09/30/2014|\n",
      "|     281324|NEMAHA COUNTY HOS...|2022  13TH ST|AUBURN|   NE|   68305|     NEMAHA|  4022744366|Surgical Care Imp...|       OP_7|Prophylactic Anti...|Not Available|Not Available|5 - Results are n...|        10/01/2013|      09/30/2014|\n",
      "|     281324|NEMAHA COUNTY HOS...|2022  13TH ST|AUBURN|   NE|   68305|     NEMAHA|  4022744366|Pregnancy and Del...|      PC_01|Percent of newbor...|Not Available|Not Available|5 - Results are n...|        10/01/2013|      09/30/2014|\n",
      "|     281324|NEMAHA COUNTY HOS...|2022  13TH ST|AUBURN|   NE|   68305|     NEMAHA|  4022744366|           Pneumonia|       PN_6|Initial antibioti...|Not Available|Not Available|1 - The number of...|        10/01/2013|      09/30/2014|\n",
      "|     281324|NEMAHA COUNTY HOS...|2022  13TH ST|AUBURN|   NE|   68305|     NEMAHA|  4022744366|Surgical Care Imp...|SCIP_CARD_2|Surgery Patients ...|Not Available|Not Available|5 - Results are n...|        10/01/2013|      09/30/2014|\n",
      "|     281324|NEMAHA COUNTY HOS...|2022  13TH ST|AUBURN|   NE|   68305|     NEMAHA|  4022744366|Surgical Care Imp...| SCIP_INF_1|Prophylactic anti...|Not Available|Not Available|5 - Results are n...|        10/01/2013|      09/30/2014|\n",
      "|     281324|NEMAHA COUNTY HOS...|2022  13TH ST|AUBURN|   NE|   68305|     NEMAHA|  4022744366|Surgical Care Imp...|SCIP_INF_10|Surgery Patients ...|Not Available|Not Available|5 - Results are n...|        10/01/2013|      09/30/2014|\n",
      "+-----------+--------------------+-------------+------+-----+--------+-----------+------------+--------------------+-----------+--------------------+-------------+-------------+--------------------+------------------+----------------+\n",
      "only showing top 20 rows\n",
      "\n"
     ]
    }
   ],
   "source": [
    "sql = \"\"\"\n",
    "select * from effective_care \n",
    "where measure_id != 'ED_1b' AND measure_id != 'ED_2b' AND measure_id != 'OP_1'\n",
    "AND measure_id != 'OP_18b' AND measure_id != 'OP_20' AND measure_id != 'OP_21' \n",
    "AND measure_id != 'OP_3b' AND measure_id != 'OP_5'\n",
    "AND provider_id = '281324'\n",
    "\"\"\"\n",
    "sqlContext.sql(sql).show()"
   ]
  },
  {
   "cell_type": "code",
   "execution_count": 52,
   "metadata": {
    "collapsed": false
   },
   "outputs": [
    {
     "name": "stdout",
     "output_type": "stream",
     "text": [
      "+-----------+--------------------+------+-----+--------+--------------------+------------------+\n",
      "|provider_id|                name|  city|state|zip_code|                type|         ownership|\n",
      "+-----------+--------------------+------+-----+--------+--------------------+------------------+\n",
      "|     281324|NEMAHA COUNTY HOS...|AUBURN|   NE|   68305|Critical Access H...|Government - Local|\n",
      "+-----------+--------------------+------+-----+--------+--------------------+------------------+\n",
      "\n"
     ]
    }
   ],
   "source": [
    "sqlContext.sql(\"select * from my_hospitals where provider_id = '281324'\").show()"
   ]
  },
  {
   "cell_type": "code",
   "execution_count": null,
   "metadata": {
    "collapsed": true
   },
   "outputs": [],
   "source": []
  }
 ],
 "metadata": {
  "kernelspec": {
   "display_name": "Python 2",
   "language": "python",
   "name": "python2"
  },
  "language_info": {
   "codemirror_mode": {
    "name": "ipython",
    "version": 2
   },
   "file_extension": ".py",
   "mimetype": "text/x-python",
   "name": "python",
   "nbconvert_exporter": "python",
   "pygments_lexer": "ipython2",
   "version": "2.7.13"
  }
 },
 "nbformat": 4,
 "nbformat_minor": 2
}
