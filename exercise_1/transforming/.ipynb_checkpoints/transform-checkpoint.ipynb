{
 "cells": [
  {
   "cell_type": "code",
   "execution_count": 1,
   "metadata": {
    "collapsed": true
   },
   "outputs": [],
   "source": [
    "from pyspark.sql import HiveContext\n",
    "sqlContext = HiveContext(sc)"
   ]
  },
  {
   "cell_type": "code",
   "execution_count": 2,
   "metadata": {
    "collapsed": false
   },
   "outputs": [
    {
     "name": "stdout",
     "output_type": "stream",
     "text": [
      "+-----------------+-----------+\n",
      "|        tableName|isTemporary|\n",
      "+-----------------+-----------+\n",
      "|     bike_seasons|      false|\n",
      "|   bike_share_raw|      false|\n",
      "|    complications|      false|\n",
      "|   effective_care|      false|\n",
      "|              foo|      false|\n",
      "|        hospitals|      false|\n",
      "|  hospital_survey|      false|\n",
      "|       infections|      false|\n",
      "|         measures|      false|\n",
      "|          my_care|      false|\n",
      "| my_complications|      false|\n",
      "|     my_hospitals|      false|\n",
      "|    my_infections|      false|\n",
      "|  my_readmissions|      false|\n",
      "|  my_star_ratings|      false|\n",
      "| my_survey_scores|      false|\n",
      "|     readmissions|      false|\n",
      "|          seasons|      false|\n",
      "|         stadiums|      false|\n",
      "|surveys_responses|      false|\n",
      "+-----------------+-----------+\n",
      "only showing top 20 rows\n",
      "\n"
     ]
    }
   ],
   "source": [
    "sqlContext.sql(\"show tables\").show()"
   ]
  },
  {
   "cell_type": "code",
   "execution_count": 3,
   "metadata": {
    "collapsed": false
   },
   "outputs": [
    {
     "name": "stdout",
     "output_type": "stream",
     "text": [
      "++\n",
      "||\n",
      "++\n",
      "++\n",
      "\n"
     ]
    }
   ],
   "source": [
    "sqlContext.sql(\"drop table my_hospitals\").show()"
   ]
  },
  {
   "cell_type": "code",
   "execution_count": 67,
   "metadata": {
    "collapsed": false
   },
   "outputs": [
    {
     "name": "stdout",
     "output_type": "stream",
     "text": [
      "+-----------------+-----------+\n",
      "|        tableName|isTemporary|\n",
      "+-----------------+-----------+\n",
      "|    complications|      false|\n",
      "|   effective_care|      false|\n",
      "|              foo|      false|\n",
      "|        hospitals|      false|\n",
      "|  hospital_survey|      false|\n",
      "|       infections|      false|\n",
      "|         measures|      false|\n",
      "|          my_care|      false|\n",
      "| my_complications|      false|\n",
      "|     my_hospitals|      false|\n",
      "|    my_infections|      false|\n",
      "|  my_readmissions|      false|\n",
      "|  my_star_ratings|      false|\n",
      "| my_survey_scores|      false|\n",
      "|     readmissions|      false|\n",
      "|         stadiums|      false|\n",
      "|surveys_responses|      false|\n",
      "|        user_info|      false|\n",
      "|     weblogs_flat|      false|\n",
      "|  weblogs_parquet|      false|\n",
      "+-----------------+-----------+\n",
      "only showing top 20 rows\n",
      "\n"
     ]
    }
   ],
   "source": [
    "sqlContext.sql(\"show tables\").show()"
   ]
  },
  {
   "cell_type": "code",
   "execution_count": 62,
   "metadata": {
    "collapsed": false
   },
   "outputs": [
    {
     "data": {
      "text/plain": [
       "DataFrame[]"
      ]
     },
     "execution_count": 62,
     "metadata": {},
     "output_type": "execute_result"
    }
   ],
   "source": [
    "sqlContext.sql(\"DROP TABLE my_hospitals\")\n",
    "\n",
    "sql = \"\"\"\n",
    "CREATE TABLE my_hospitals AS \n",
    "SELECT \n",
    "provider_id, hospital_name name, city, state, \n",
    "zip_code, hospital_type type, hospital_ownership ownership \n",
    "FROM hospitals\n",
    "\"\"\"\n",
    "sqlContext.sql(sql)"
   ]
  },
  {
   "cell_type": "code",
   "execution_count": 6,
   "metadata": {
    "collapsed": false
   },
   "outputs": [
    {
     "name": "stdout",
     "output_type": "stream",
     "text": [
      "+-----------------+-----------+\n",
      "|        tableName|isTemporary|\n",
      "+-----------------+-----------+\n",
      "|    complications|      false|\n",
      "|   effective_care|      false|\n",
      "|              foo|      false|\n",
      "|        hospitals|      false|\n",
      "|  hospital_survey|      false|\n",
      "|       infections|      false|\n",
      "|         measures|      false|\n",
      "|     my_hospitals|      false|\n",
      "|     readmissions|      false|\n",
      "|         stadiums|      false|\n",
      "|surveys_responses|      false|\n",
      "|        user_info|      false|\n",
      "|     weblogs_flat|      false|\n",
      "|  weblogs_parquet|      false|\n",
      "|   weblogs_schema|      false|\n",
      "|  web_session_log|      false|\n",
      "+-----------------+-----------+\n",
      "\n"
     ]
    }
   ],
   "source": [
    "sqlContext.sql(\"show tables\").show()"
   ]
  },
  {
   "cell_type": "code",
   "execution_count": 8,
   "metadata": {
    "collapsed": false
   },
   "outputs": [
    {
     "name": "stdout",
     "output_type": "stream",
     "text": [
      "+--------------------+---------+-----------------+\n",
      "|            col_name|data_type|          comment|\n",
      "+--------------------+---------+-----------------+\n",
      "|         provider_id|   string|from deserializer|\n",
      "|       hospital_name|   string|from deserializer|\n",
      "|             address|   string|from deserializer|\n",
      "|                city|   string|from deserializer|\n",
      "|               state|   string|from deserializer|\n",
      "|            zip_code|   string|from deserializer|\n",
      "|         county_name|   string|from deserializer|\n",
      "|        phone_number|   string|from deserializer|\n",
      "|   hcahps_measure_id|   string|from deserializer|\n",
      "|     hcahps_question|   string|from deserializer|\n",
      "|hcahps_answer_des...|   string|from deserializer|\n",
      "|patient_survey_st...|   string|from deserializer|\n",
      "|patient_survey_st...|   string|from deserializer|\n",
      "|hcahps_answer_per...|   string|from deserializer|\n",
      "|hcahps_answer_per...|   string|from deserializer|\n",
      "|number_of_complet...|   string|from deserializer|\n",
      "|number_of_complet...|   string|from deserializer|\n",
      "|survey_response_r...|   string|from deserializer|\n",
      "|survey_response_r...|   string|from deserializer|\n",
      "|  measure_start_date|   string|from deserializer|\n",
      "+--------------------+---------+-----------------+\n",
      "only showing top 20 rows\n",
      "\n"
     ]
    }
   ],
   "source": [
    "sqlContext.sql(\"describe hospital_survey\").show()"
   ]
  },
  {
   "cell_type": "code",
   "execution_count": 63,
   "metadata": {
    "collapsed": false
   },
   "outputs": [
    {
     "data": {
      "text/plain": [
       "DataFrame[]"
      ]
     },
     "execution_count": 63,
     "metadata": {},
     "output_type": "execute_result"
    }
   ],
   "source": [
    "sql = \"\"\"DROP TABLE my_star_ratings\"\"\"\n",
    "sqlContext.sql(sql)\n",
    "\n",
    "# create new table\n",
    "sql = \"\"\"\n",
    "CREATE TABLE my_star_ratings AS \n",
    "SELECT \n",
    "provider_id, hcahps_measure_id measure_id, \n",
    "hcahps_question question, hcahps_answer_description answer,\n",
    "cast(patient_survey_star_rating AS INT) star_rating,\n",
    "cast(to_date(from_unixtime(unix_timestamp(measure_start_date, 'MM/dd/yy'))) as date) measure_start,\n",
    "cast(to_date(from_unixtime(unix_timestamp(measure_end_date, 'MM/dd/yy'))) as date) measure_end\n",
    "FROM hospital_survey\n",
    "\"\"\"\n",
    "sqlContext.sql(sql)"
   ]
  },
  {
   "cell_type": "code",
   "execution_count": 65,
   "metadata": {
    "collapsed": false
   },
   "outputs": [
    {
     "name": "stdout",
     "output_type": "stream",
     "text": [
      "+-------------+---------+-------+\n",
      "|     col_name|data_type|comment|\n",
      "+-------------+---------+-------+\n",
      "|  provider_id|   string|   null|\n",
      "|   measure_id|   string|   null|\n",
      "|     question|   string|   null|\n",
      "|       answer|   string|   null|\n",
      "|  star_rating|      int|   null|\n",
      "|measure_start|     date|   null|\n",
      "|  measure_end|     date|   null|\n",
      "+-------------+---------+-------+\n",
      "\n"
     ]
    }
   ],
   "source": [
    "sqlContext.sql('describe my_star_ratings').show()"
   ]
  },
  {
   "cell_type": "code",
   "execution_count": 66,
   "metadata": {
    "collapsed": false
   },
   "outputs": [
    {
     "name": "stdout",
     "output_type": "stream",
     "text": [
      "+-----------+--------------------+--------------------+--------------------+-----------+-------------+-----------+\n",
      "|provider_id|          measure_id|            question|              answer|star_rating|measure_start|measure_end|\n",
      "+-----------+--------------------+--------------------+--------------------+-----------+-------------+-----------+\n",
      "|     010001|       H_STAR_RATING| Summary star rating| Summary star rating|          3|   2013-10-01| 2014-09-30|\n",
      "|     010001|     H_CLEAN_HSP_A_P|Patients who repo...|Room was \"always\"...|       null|   2013-10-01| 2014-09-30|\n",
      "|     010001|    H_CLEAN_HSP_SN_P|Patients who repo...|Room was \"sometim...|       null|   2013-10-01| 2014-09-30|\n",
      "|     010001|     H_CLEAN_HSP_U_P|Patients who repo...|Room was \"usually...|       null|   2013-10-01| 2014-09-30|\n",
      "|     010001| H_CLEAN_STAR_RATING|Cleanliness - sta...|Cleanliness - sta...|          2|   2013-10-01| 2014-09-30|\n",
      "|     010001|        H_COMP_1_A_P|Patients who repo...|Nurses \"always\" c...|       null|   2013-10-01| 2014-09-30|\n",
      "|     010001|       H_COMP_1_SN_P|Patients who repo...|Nurses \"sometimes...|       null|   2013-10-01| 2014-09-30|\n",
      "|     010001|H_COMP_1_STAR_RATING|Nurse communicati...|Nurse communicati...|          3|   2013-10-01| 2014-09-30|\n",
      "|     010001|        H_COMP_1_U_P|Patients who repo...|Nurses \"usually\" ...|       null|   2013-10-01| 2014-09-30|\n",
      "|     010001|        H_COMP_2_A_P|Patients who repo...|Doctors \"always\" ...|       null|   2013-10-01| 2014-09-30|\n",
      "+-----------+--------------------+--------------------+--------------------+-----------+-------------+-----------+\n",
      "\n"
     ]
    }
   ],
   "source": [
    "sqlContext.sql('select * from my_star_ratings limit 10').show()"
   ]
  },
  {
   "cell_type": "code",
   "execution_count": 14,
   "metadata": {
    "collapsed": false
   },
   "outputs": [
    {
     "name": "stdout",
     "output_type": "stream",
     "text": [
      "++\n",
      "||\n",
      "++\n",
      "++\n",
      "\n"
     ]
    }
   ],
   "source": [
    "sql = \"\"\"\n",
    "CREATE TABLE my_survey_scores AS \n",
    "SELECT \n",
    "provider_number provider_id, \n",
    "cast(hcahps_base_score as INT) base_score,\n",
    "cast(hcahps_consistency_score as INT) consistency_score,\n",
    "cast(hcahps_base_score as INT) + cast(hcahps_consistency_score as INT) total_score\n",
    "FROM surveys_responses\n",
    "\"\"\"\n",
    "sqlContext.sql(sql)"
   ]
  },
  {
   "cell_type": "code",
   "execution_count": 15,
   "metadata": {
    "collapsed": false
   },
   "outputs": [
    {
     "name": "stdout",
     "output_type": "stream",
     "text": [
      "+-----------+----------+-----------------+-----------+\n",
      "|provider_id|base_score|consistency_score|total_score|\n",
      "+-----------+----------+-----------------+-----------+\n",
      "|     010001|        17|               16|         33|\n",
      "|     010005|        51|               20|         71|\n",
      "|     010006|         9|               12|         21|\n",
      "|     010007|        40|               17|         57|\n",
      "|     010008|        30|               15|         45|\n",
      "|     010011|        11|               16|         27|\n",
      "|     010012|        31|               20|         51|\n",
      "|     010016|        10|               15|         25|\n",
      "|     010019|        24|               20|         44|\n",
      "|     010021|        34|               19|         53|\n",
      "+-----------+----------+-----------------+-----------+\n",
      "\n"
     ]
    }
   ],
   "source": [
    "sqlContext.sql(\"select * from my_survey_scores limit 10\").show()"
   ]
  },
  {
   "cell_type": "code",
   "execution_count": 17,
   "metadata": {
    "collapsed": false
   },
   "outputs": [
    {
     "name": "stdout",
     "output_type": "stream",
     "text": [
      "+-----------------+---------+-------+\n",
      "|         col_name|data_type|comment|\n",
      "+-----------------+---------+-------+\n",
      "|      provider_id|   string|   null|\n",
      "|       base_score|      int|   null|\n",
      "|consistency_score|      int|   null|\n",
      "|      total_score|      int|   null|\n",
      "+-----------------+---------+-------+\n",
      "\n"
     ]
    }
   ],
   "source": [
    "sqlContext.sql(\"describe my_survey_scores\").show()"
   ]
  },
  {
   "cell_type": "code",
   "execution_count": 21,
   "metadata": {
    "collapsed": false
   },
   "outputs": [
    {
     "data": {
      "text/plain": [
       "DataFrame[]"
      ]
     },
     "execution_count": 21,
     "metadata": {},
     "output_type": "execute_result"
    }
   ],
   "source": [
    "sql = \"\"\"\n",
    "DROP TABLE my_care\n",
    "\"\"\"\n",
    "sqlContext.sql(sql)\n",
    "\n",
    "\n",
    "sql = \"\"\"\n",
    "CREATE TABLE my_care AS \n",
    "SELECT \n",
    "provider_id, condition, measure_id,\n",
    "measure_name,\n",
    "cast(score as INT) score,\n",
    "100 - cast(score as DECIMAL(16,4)) new_score,\n",
    "cast(to_date(from_unixtime(unix_timestamp(measure_start_date, 'MM/dd/yy'))) as date) measure_start,\n",
    "cast(to_date(from_unixtime(unix_timestamp(measure_end_date, 'MM/dd/yy'))) as date) measure_end\n",
    "FROM effective_care\n",
    "WHERE\n",
    "measure_id = 'OP_22' OR measure_id = 'PC_01' OR measure_id = 'VTE_6'\n",
    "\"\"\"\n",
    "sqlContext.sql(sql)\n",
    "\n"
   ]
  },
  {
   "cell_type": "code",
   "execution_count": 23,
   "metadata": {
    "collapsed": false
   },
   "outputs": [
    {
     "data": {
      "text/plain": [
       "DataFrame[]"
      ]
     },
     "execution_count": 23,
     "metadata": {},
     "output_type": "execute_result"
    }
   ],
   "source": [
    "sql = \"\"\"\n",
    "INSERT INTO TABLE my_care\n",
    "SELECT \n",
    "provider_id, condition, measure_id,\n",
    "measure_name,\n",
    "cast(score as INT) score,\n",
    "cast(score as DECIMAL(16,4)) new_score,\n",
    "cast(to_date(from_unixtime(unix_timestamp(measure_start_date, 'MM/dd/yy'))) as date) measure_start,\n",
    "cast(to_date(from_unixtime(unix_timestamp(measure_end_date, 'MM/dd/yy'))) as date) measure_end\n",
    "FROM effective_care\n",
    "WHERE\n",
    "measure_id != 'OP_22' AND measure_id != 'PC_01' AND measure_id != 'VTE_6'\n",
    "\"\"\"\n",
    "sqlContext.sql(sql)"
   ]
  },
  {
   "cell_type": "code",
   "execution_count": 26,
   "metadata": {
    "collapsed": false
   },
   "outputs": [
    {
     "name": "stdout",
     "output_type": "stream",
     "text": [
      "+-------------+-------------+-------+\n",
      "|     col_name|    data_type|comment|\n",
      "+-------------+-------------+-------+\n",
      "|  provider_id|       string|   null|\n",
      "|    condition|       string|   null|\n",
      "|   measure_id|       string|   null|\n",
      "| measure_name|       string|   null|\n",
      "|        score|          int|   null|\n",
      "|    new_score|decimal(17,4)|   null|\n",
      "|measure_start|         date|   null|\n",
      "|  measure_end|         date|   null|\n",
      "+-------------+-------------+-------+\n",
      "\n"
     ]
    }
   ],
   "source": [
    "sqlContext.sql(\"describe my_care\").show()"
   ]
  },
  {
   "cell_type": "code",
   "execution_count": 31,
   "metadata": {
    "collapsed": false
   },
   "outputs": [
    {
     "name": "stdout",
     "output_type": "stream",
     "text": [
      "+-----------+--------------------+----------+-------------------+-----+---------+-------------+-----------+\n",
      "|provider_id|           condition|measure_id|       measure_name|score|new_score|measure_start|measure_end|\n",
      "+-----------+--------------------+----------+-------------------+-----+---------+-------------+-----------+\n",
      "|     010001|Heart Attack or C...|    AMI_10|Statin at Discharge|   98|  98.0000|   2013-10-01| 2014-09-30|\n",
      "|     010005|Heart Attack or C...|    AMI_10|Statin at Discharge|  100| 100.0000|   2013-10-01| 2014-09-30|\n",
      "|     010006|Heart Attack or C...|    AMI_10|Statin at Discharge|  100| 100.0000|   2013-10-01| 2014-09-30|\n",
      "|     010007|Heart Attack or C...|    AMI_10|Statin at Discharge| null|     null|   2013-10-01| 2014-09-30|\n",
      "|     010008|Heart Attack or C...|    AMI_10|Statin at Discharge| null|     null|   2013-10-01| 2014-09-30|\n",
      "|     010011|Heart Attack or C...|    AMI_10|Statin at Discharge|  100| 100.0000|   2013-10-01| 2014-09-30|\n",
      "|     010012|Heart Attack or C...|    AMI_10|Statin at Discharge|  100| 100.0000|   2013-10-01| 2014-09-30|\n",
      "|     010016|Heart Attack or C...|    AMI_10|Statin at Discharge|   98|  98.0000|   2013-10-01| 2014-09-30|\n",
      "|     010018|Heart Attack or C...|    AMI_10|Statin at Discharge| null|     null|   2013-10-01| 2014-09-30|\n",
      "|     010019|Heart Attack or C...|    AMI_10|Statin at Discharge| null|     null|   2013-10-01| 2014-09-30|\n",
      "|     010021|Heart Attack or C...|    AMI_10|Statin at Discharge| null|     null|   2013-10-01| 2014-09-30|\n",
      "|     010022|Heart Attack or C...|    AMI_10|Statin at Discharge| null|     null|   2013-10-01| 2014-09-30|\n",
      "|     010023|Heart Attack or C...|    AMI_10|Statin at Discharge|   99|  99.0000|   2013-10-01| 2014-09-30|\n",
      "|     010024|Heart Attack or C...|    AMI_10|Statin at Discharge|   98|  98.0000|   2013-10-01| 2014-09-30|\n",
      "|     010029|Heart Attack or C...|    AMI_10|Statin at Discharge|  100| 100.0000|   2013-10-01| 2014-09-30|\n",
      "|     010032|Heart Attack or C...|    AMI_10|Statin at Discharge| null|     null|   2013-10-01| 2014-09-30|\n",
      "|     010033|Heart Attack or C...|    AMI_10|Statin at Discharge|   99|  99.0000|   2013-10-01| 2014-09-30|\n",
      "|     010034|Heart Attack or C...|    AMI_10|Statin at Discharge| null|     null|   2013-10-01| 2014-09-30|\n",
      "|     010035|Heart Attack or C...|    AMI_10|Statin at Discharge|  100| 100.0000|   2013-10-01| 2014-09-30|\n",
      "|     010036|Heart Attack or C...|    AMI_10|Statin at Discharge| null|     null|   2013-10-01| 2014-09-30|\n",
      "+-----------+--------------------+----------+-------------------+-----+---------+-------------+-----------+\n",
      "only showing top 20 rows\n",
      "\n"
     ]
    }
   ],
   "source": [
    "sqlContext.sql(\"select * from my_care WHERE measure_id == 'AMI_10'\").show()"
   ]
  },
  {
   "cell_type": "code",
   "execution_count": null,
   "metadata": {
    "collapsed": false
   },
   "outputs": [],
   "source": []
  },
  {
   "cell_type": "code",
   "execution_count": null,
   "metadata": {
    "collapsed": true
   },
   "outputs": [],
   "source": []
  },
  {
   "cell_type": "code",
   "execution_count": 47,
   "metadata": {
    "collapsed": false
   },
   "outputs": [
    {
     "data": {
      "text/plain": [
       "DataFrame[]"
      ]
     },
     "execution_count": 47,
     "metadata": {},
     "output_type": "execute_result"
    }
   ],
   "source": [
    "sql = \"\"\"\n",
    "DROP TABLE my_infections\n",
    "\"\"\"\n",
    "sqlContext.sql(sql)\n",
    "\n",
    "\n",
    "sql = \"\"\"\n",
    "CREATE TABLE my_infections AS \n",
    "SELECT \n",
    "provider_id, measure_id,\n",
    "measure_name, compared_to_national,\n",
    "cast(score as DECIMAL(16,4)) score,\n",
    "cast(to_date(from_unixtime(unix_timestamp(measure_start_date, 'MM/dd/yy'))) as date) measure_start,\n",
    "cast(to_date(from_unixtime(unix_timestamp(measure_end_date, 'MM/dd/yy'))) as date) measure_end\n",
    "FROM infections\n",
    "\"\"\"\n",
    "sqlContext.sql(sql)"
   ]
  },
  {
   "cell_type": "code",
   "execution_count": 48,
   "metadata": {
    "collapsed": false
   },
   "outputs": [
    {
     "name": "stdout",
     "output_type": "stream",
     "text": [
      "+--------------------+-------------+-------+\n",
      "|            col_name|    data_type|comment|\n",
      "+--------------------+-------------+-------+\n",
      "|         provider_id|       string|   null|\n",
      "|          measure_id|       string|   null|\n",
      "|        measure_name|       string|   null|\n",
      "|compared_to_national|       string|   null|\n",
      "|               score|decimal(16,4)|   null|\n",
      "|       measure_start|         date|   null|\n",
      "|         measure_end|         date|   null|\n",
      "+--------------------+-------------+-------+\n",
      "\n"
     ]
    }
   ],
   "source": [
    "sqlContext.sql(\"describe my_infections\").show()"
   ]
  },
  {
   "cell_type": "code",
   "execution_count": 53,
   "metadata": {
    "collapsed": false
   },
   "outputs": [
    {
     "name": "stdout",
     "output_type": "stream",
     "text": [
      "+-----------+---------------+--------------------+--------------------+---------+-------------+-----------+\n",
      "|provider_id|     measure_id|        measure_name|compared_to_national|    score|measure_start|measure_end|\n",
      "+-----------+---------------+--------------------+--------------------+---------+-------------+-----------+\n",
      "|     010001| HAI_1_CI_LOWER|CLABSI Lower Conf...|No Different than...|   0.7370|   2013-10-01| 2014-09-30|\n",
      "|     010001| HAI_1_CI_UPPER|CLABSI Upper Conf...|No Different than...|   3.7820|   2013-10-01| 2014-09-30|\n",
      "|     010001|HAI_1_DOPC_DAYS|CLABSI Central Li...|No Different than...|2199.0000|   2013-10-01| 2014-09-30|\n",
      "|     010001|HAI_1_ELIGCASES|CLABSI Predicted ...|No Different than...|   3.3000|   2013-10-01| 2014-09-30|\n",
      "|     010001|HAI_1_NUMERATOR|CLABSI Observed C...|No Different than...|   6.0000|   2013-10-01| 2014-09-30|\n",
      "|     010001|      HAI_1_SIR|Central line-asso...|No Different than...|   1.8180|   2013-10-01| 2014-09-30|\n",
      "|     010001| HAI_2_CI_LOWER|CAUTI Lower Confi...|Worse than the Na...|   2.3950|   2013-10-01| 2014-09-30|\n",
      "|     010001| HAI_2_CI_UPPER|CAUTI Upper Confi...|Worse than the Na...|   4.8570|   2013-10-01| 2014-09-30|\n",
      "|     010001|HAI_2_DOPC_DAYS|CAUTI Urinary Cat...|Worse than the Na...|7450.0000|   2013-10-01| 2014-09-30|\n",
      "|     010001|HAI_2_ELIGCASES|CAUTI Predicted C...|Worse than the Na...|   8.9490|   2013-10-01| 2014-09-30|\n",
      "|     010001|HAI_2_NUMERATOR|CAUTI Observed Cases|Worse than the Na...|  31.0000|   2013-10-01| 2014-09-30|\n",
      "|     010001|      HAI_2_SIR|Catheter-Associat...|Worse than the Na...|   3.4640|   2013-10-01| 2014-09-30|\n",
      "|     010001| HAI_3_CI_LOWER|SSI: Colon Lower ...|No Different than...|   0.2170|   2013-10-01| 2014-09-30|\n",
      "|     010001| HAI_3_CI_UPPER|SSI: Colon Upper ...|No Different than...|   1.6440|   2013-10-01| 2014-09-30|\n",
      "|     010001|HAI_3_DOPC_DAYS|SSI: Colon, Numbe...|No Different than...| 171.0000|   2013-10-01| 2014-09-30|\n",
      "|     010001|HAI_3_ELIGCASES|SSI: Colon Predic...|No Different than...|   5.8680|   2013-10-01| 2014-09-30|\n",
      "|     010001|HAI_3_NUMERATOR|SSI: Colon Observ...|No Different than...|   4.0000|   2013-10-01| 2014-09-30|\n",
      "|     010001|      HAI_3_SIR|Surgical Site Inf...|No Different than...|   0.6820|   2013-10-01| 2014-09-30|\n",
      "|     010001| HAI_4_CI_LOWER|SSI: Abdominal Lo...|       Not Available|     null|   2013-10-01| 2014-09-30|\n",
      "|     010001| HAI_4_CI_UPPER|SSI: Abdominal Up...|       Not Available|     null|   2013-10-01| 2014-09-30|\n",
      "+-----------+---------------+--------------------+--------------------+---------+-------------+-----------+\n",
      "only showing top 20 rows\n",
      "\n"
     ]
    }
   ],
   "source": [
    "sqlContext.sql(\"select * from my_infections\").show()"
   ]
  },
  {
   "cell_type": "code",
   "execution_count": 54,
   "metadata": {
    "collapsed": false
   },
   "outputs": [
    {
     "data": {
      "text/plain": [
       "DataFrame[]"
      ]
     },
     "execution_count": 54,
     "metadata": {},
     "output_type": "execute_result"
    }
   ],
   "source": [
    "sql = \"\"\"\n",
    "DROP TABLE my_readmissions\n",
    "\"\"\"\n",
    "sqlContext.sql(sql)\n",
    "\n",
    "\n",
    "sql = \"\"\"\n",
    "CREATE TABLE my_readmissions AS \n",
    "SELECT \n",
    "provider_id, measure_id,\n",
    "measure_name, compared_to_national,\n",
    "cast(score as DECIMAL(16,4)) score,\n",
    "cast(to_date(from_unixtime(unix_timestamp(measure_start_date, 'MM/dd/yy'))) as date) measure_start,\n",
    "cast(to_date(from_unixtime(unix_timestamp(measure_end_date, 'MM/dd/yy'))) as date) measure_end\n",
    "FROM readmissions\n",
    "\"\"\"\n",
    "sqlContext.sql(sql)"
   ]
  },
  {
   "cell_type": "code",
   "execution_count": 55,
   "metadata": {
    "collapsed": false
   },
   "outputs": [
    {
     "name": "stdout",
     "output_type": "stream",
     "text": [
      "+--------------------+-------------+-------+\n",
      "|            col_name|    data_type|comment|\n",
      "+--------------------+-------------+-------+\n",
      "|         provider_id|       string|   null|\n",
      "|          measure_id|       string|   null|\n",
      "|        measure_name|       string|   null|\n",
      "|compared_to_national|       string|   null|\n",
      "|               score|decimal(16,4)|   null|\n",
      "|       measure_start|         date|   null|\n",
      "|         measure_end|         date|   null|\n",
      "+--------------------+-------------+-------+\n",
      "\n"
     ]
    }
   ],
   "source": [
    "sqlContext.sql(\"describe my_readmissions\").show()"
   ]
  },
  {
   "cell_type": "code",
   "execution_count": 56,
   "metadata": {
    "collapsed": false
   },
   "outputs": [
    {
     "name": "stdout",
     "output_type": "stream",
     "text": [
      "+-----------+------------------+--------------------+--------------------+-------+-------------+-----------+\n",
      "|provider_id|        measure_id|        measure_name|compared_to_national|  score|measure_start|measure_end|\n",
      "+-----------+------------------+--------------------+--------------------+-------+-------------+-----------+\n",
      "|     010001|       MORT_30_AMI|Acute Myocardial ...|No different than...|12.2000|   2011-07-01| 2014-06-30|\n",
      "|     010001|      MORT_30_CABG| Death rate for CABG|No different than...| 3.7000|   2011-07-01| 2014-06-30|\n",
      "|     010001|      MORT_30_COPD|Death rate for ch...|No different than...| 8.8000|   2011-07-01| 2014-06-30|\n",
      "|     010001|        MORT_30_HF|Heart failure (HF...|No different than...|12.6000|   2011-07-01| 2014-06-30|\n",
      "|     010001|        MORT_30_PN|Pneumonia (PN) 30...|No different than...|11.6000|   2011-07-01| 2014-06-30|\n",
      "|     010001|       MORT_30_STK|Death rate for st...|No different than...|15.3000|   2011-07-01| 2014-06-30|\n",
      "|     010001|      READM_30_AMI|Acute Myocardial ...|No different than...|17.4000|   2011-07-01| 2014-06-30|\n",
      "|     010001|     READM_30_CABG|Rate of unplanned...|No different than...|15.9000|   2011-07-01| 2014-06-30|\n",
      "|     010001|     READM_30_COPD|Rate of unplanned...|No different than...|22.0000|   2011-07-01| 2014-06-30|\n",
      "|     010001|       READM_30_HF|Heart failure (HF...|No different than...|21.0000|   2011-07-01| 2014-06-30|\n",
      "|     010001| READM_30_HIP_KNEE|Rate of readmissi...|No different than...| 5.2000|   2011-07-01| 2014-06-30|\n",
      "|     010001|READM_30_HOSP_WIDE|Rate of readmissi...|No different than...|14.8000|   2013-07-01| 2014-06-30|\n",
      "|     010001|       READM_30_PN|Pneumonia (PN) 30...|No different than...|18.2000|   2011-07-01| 2014-06-30|\n",
      "|     010001|      READM_30_STK|Rate of unplanned...|No different than...|13.0000|   2011-07-01| 2014-06-30|\n",
      "|     010005|       MORT_30_AMI|Acute Myocardial ...|No different than...|16.9000|   2011-07-01| 2014-06-30|\n",
      "|     010005|      MORT_30_CABG| Death rate for CABG|       Not Available|   null|   2011-07-01| 2014-06-30|\n",
      "|     010005|      MORT_30_COPD|Death rate for ch...|No different than...| 7.5000|   2011-07-01| 2014-06-30|\n",
      "|     010005|        MORT_30_HF|Heart failure (HF...|Worse than the Na...|16.3000|   2011-07-01| 2014-06-30|\n",
      "|     010005|        MORT_30_PN|Pneumonia (PN) 30...|Worse than the Na...|13.9000|   2011-07-01| 2014-06-30|\n",
      "|     010005|       MORT_30_STK|Death rate for st...|No different than...|14.8000|   2011-07-01| 2014-06-30|\n",
      "+-----------+------------------+--------------------+--------------------+-------+-------------+-----------+\n",
      "only showing top 20 rows\n",
      "\n"
     ]
    }
   ],
   "source": [
    "sqlContext.sql(\"select * from my_readmissions\").show()"
   ]
  },
  {
   "cell_type": "code",
   "execution_count": 57,
   "metadata": {
    "collapsed": false
   },
   "outputs": [
    {
     "data": {
      "text/plain": [
       "DataFrame[]"
      ]
     },
     "execution_count": 57,
     "metadata": {},
     "output_type": "execute_result"
    }
   ],
   "source": [
    "sql = \"\"\"\n",
    "DROP TABLE my_complications\n",
    "\"\"\"\n",
    "sqlContext.sql(sql)\n",
    "\n",
    "\n",
    "sql = \"\"\"\n",
    "CREATE TABLE my_complications AS \n",
    "SELECT \n",
    "provider_id, measure_id,\n",
    "measure_name, compared_to_national,\n",
    "cast(score as DECIMAL(16,4)) score,\n",
    "cast(to_date(from_unixtime(unix_timestamp(measure_start_date, 'MM/dd/yy'))) as date) measure_start,\n",
    "cast(to_date(from_unixtime(unix_timestamp(measure_end_date, 'MM/dd/yy'))) as date) measure_end\n",
    "FROM complications\n",
    "\"\"\"\n",
    "sqlContext.sql(sql)"
   ]
  },
  {
   "cell_type": "code",
   "execution_count": 59,
   "metadata": {
    "collapsed": false
   },
   "outputs": [
    {
     "name": "stdout",
     "output_type": "stream",
     "text": [
      "+--------------------+-------------+-------+\n",
      "|            col_name|    data_type|comment|\n",
      "+--------------------+-------------+-------+\n",
      "|         provider_id|       string|   null|\n",
      "|          measure_id|       string|   null|\n",
      "|        measure_name|       string|   null|\n",
      "|compared_to_national|       string|   null|\n",
      "|               score|decimal(16,4)|   null|\n",
      "|       measure_start|         date|   null|\n",
      "|         measure_end|         date|   null|\n",
      "+--------------------+-------------+-------+\n",
      "\n"
     ]
    }
   ],
   "source": [
    "sqlContext.sql(\"describe my_complications\").show()"
   ]
  },
  {
   "cell_type": "code",
   "execution_count": 60,
   "metadata": {
    "collapsed": false
   },
   "outputs": [
    {
     "name": "stdout",
     "output_type": "stream",
     "text": [
      "+-----------+--------------------+--------------------+--------------------+--------+-------------+-----------+\n",
      "|provider_id|          measure_id|        measure_name|compared_to_national|   score|measure_start|measure_end|\n",
      "+-----------+--------------------+--------------------+--------------------+--------+-------------+-----------+\n",
      "|     010001|       COMP_HIP_KNEE|Rate of complicat...|No different than...|  3.9000|   2011-04-01| 2014-03-31|\n",
      "|     010001|PSI_12_POSTOP_PUL...|Serious blood clo...|Better than the N...|  2.1600|   2012-07-01| 2014-06-30|\n",
      "|     010001| PSI_14_POSTOP_DEHIS|A wound that spli...|No different than...|  1.6700|   2012-07-01| 2014-06-30|\n",
      "|     010001|      PSI_15_ACC_LAC|Accidental cuts a...|No different than...|  1.5200|   2012-07-01| 2014-06-30|\n",
      "|     010001|     PSI_4_SURG_COMP|Deaths among Pati...|No different than...|138.3000|   2012-07-01| 2014-06-30|\n",
      "|     010001|       PSI_6_IAT_PTX|Collapsed lung du...|No different than...|  0.3100|   2012-07-01| 2014-06-30|\n",
      "|     010001|       PSI_90_SAFETY|Serious complicat...|Better than the N...|  0.5700|   2012-07-01| 2014-06-30|\n",
      "|     010005|       COMP_HIP_KNEE|Rate of complicat...|No different than...|  2.8000|   2011-04-01| 2014-03-31|\n",
      "|     010005|PSI_12_POSTOP_PUL...|Serious blood clo...|No different than...|  3.7000|   2012-07-01| 2014-06-30|\n",
      "|     010005| PSI_14_POSTOP_DEHIS|A wound that spli...|No different than...|  2.4200|   2012-07-01| 2014-06-30|\n",
      "|     010005|      PSI_15_ACC_LAC|Accidental cuts a...|No different than...|  1.3500|   2012-07-01| 2014-06-30|\n",
      "|     010005|     PSI_4_SURG_COMP|Deaths among Pati...|No different than...|141.4200|   2012-07-01| 2014-06-30|\n",
      "|     010005|       PSI_6_IAT_PTX|Collapsed lung du...|No different than...|  0.3800|   2012-07-01| 2014-06-30|\n",
      "|     010005|       PSI_90_SAFETY|Serious complicat...|No different than...|  0.6800|   2012-07-01| 2014-06-30|\n",
      "|     010006|       COMP_HIP_KNEE|Rate of complicat...|No different than...|  3.0000|   2011-04-01| 2014-03-31|\n",
      "|     010006|PSI_12_POSTOP_PUL...|Serious blood clo...|No different than...|  3.0600|   2012-07-01| 2014-06-30|\n",
      "|     010006| PSI_14_POSTOP_DEHIS|A wound that spli...|No different than...|  1.4100|   2012-07-01| 2014-06-30|\n",
      "|     010006|      PSI_15_ACC_LAC|Accidental cuts a...|No different than...|  2.0700|   2012-07-01| 2014-06-30|\n",
      "|     010006|     PSI_4_SURG_COMP|Deaths among Pati...|Worse than the Na...|168.4200|   2012-07-01| 2014-06-30|\n",
      "|     010006|       PSI_6_IAT_PTX|Collapsed lung du...|No different than...|  0.3600|   2012-07-01| 2014-06-30|\n",
      "+-----------+--------------------+--------------------+--------------------+--------+-------------+-----------+\n",
      "only showing top 20 rows\n",
      "\n"
     ]
    }
   ],
   "source": [
    "sqlContext.sql(\"select * from my_complications\").show()"
   ]
  },
  {
   "cell_type": "code",
   "execution_count": 61,
   "metadata": {
    "collapsed": false
   },
   "outputs": [
    {
     "name": "stdout",
     "output_type": "stream",
     "text": [
      "+-----------------+-----------+\n",
      "|        tableName|isTemporary|\n",
      "+-----------------+-----------+\n",
      "|    complications|      false|\n",
      "|   effective_care|      false|\n",
      "|              foo|      false|\n",
      "|        hospitals|      false|\n",
      "|  hospital_survey|      false|\n",
      "|       infections|      false|\n",
      "|         measures|      false|\n",
      "|          my_care|      false|\n",
      "| my_complications|      false|\n",
      "|     my_hospitals|      false|\n",
      "|    my_infections|      false|\n",
      "|  my_readmissions|      false|\n",
      "|   my_star_rating|      false|\n",
      "| my_survey_scores|      false|\n",
      "|     readmissions|      false|\n",
      "|         stadiums|      false|\n",
      "|surveys_responses|      false|\n",
      "|        user_info|      false|\n",
      "|     weblogs_flat|      false|\n",
      "|  weblogs_parquet|      false|\n",
      "+-----------------+-----------+\n",
      "only showing top 20 rows\n",
      "\n"
     ]
    }
   ],
   "source": [
    "sqlContext.sql(\"show tables\").show()"
   ]
  },
  {
   "cell_type": "code",
   "execution_count": 29,
   "metadata": {
    "collapsed": false
   },
   "outputs": [
    {
     "name": "stdout",
     "output_type": "stream",
     "text": [
      "+----------------+-----------+\n",
      "|       tableName|isTemporary|\n",
      "+----------------+-----------+\n",
      "|       my_tables|       true|\n",
      "|         my_care|      false|\n",
      "|my_complications|      false|\n",
      "|    my_hospitals|      false|\n",
      "|   my_infections|      false|\n",
      "| my_readmissions|      false|\n",
      "| my_star_ratings|      false|\n",
      "|my_survey_scores|      false|\n",
      "+----------------+-----------+\n",
      "\n"
     ]
    }
   ],
   "source": [
    "df = sqlContext.sql(\"show tables\")\n",
    "df.registerTempTable('temp_tables')\n",
    "query = \"\"\"SELECT * FROM temp_tables WHERE tableName LIKE '%my%'\"\"\"\n",
    "sqlContext.sql(query).show()"
   ]
  },
  {
   "cell_type": "code",
   "execution_count": 28,
   "metadata": {
    "collapsed": false
   },
   "outputs": [
    {
     "name": "stdout",
     "output_type": "stream",
     "text": [
      "+-----------------+-----------+\n",
      "|        tableName|isTemporary|\n",
      "+-----------------+-----------+\n",
      "|        my_tables|       true|\n",
      "|    complications|      false|\n",
      "|   effective_care|      false|\n",
      "|              foo|      false|\n",
      "|        hospitals|      false|\n",
      "|  hospital_survey|      false|\n",
      "|       infections|      false|\n",
      "|         measures|      false|\n",
      "|          my_care|      false|\n",
      "| my_complications|      false|\n",
      "|     my_hospitals|      false|\n",
      "|    my_infections|      false|\n",
      "|  my_readmissions|      false|\n",
      "|  my_star_ratings|      false|\n",
      "| my_survey_scores|      false|\n",
      "|     readmissions|      false|\n",
      "|         stadiums|      false|\n",
      "|surveys_responses|      false|\n",
      "|        user_info|      false|\n",
      "|     weblogs_flat|      false|\n",
      "+-----------------+-----------+\n",
      "only showing top 20 rows\n",
      "\n"
     ]
    }
   ],
   "source": [
    "sqlContext.sql(\"show tables\").show()"
   ]
  },
  {
   "cell_type": "markdown",
   "metadata": {
    "collapsed": true
   },
   "source": [
    "## Exploring data frames"
   ]
  },
  {
   "cell_type": "code",
   "execution_count": 3,
   "metadata": {
    "collapsed": false
   },
   "outputs": [
    {
     "data": {
      "text/plain": [
       "183843"
      ]
     },
     "execution_count": 3,
     "metadata": {},
     "output_type": "execute_result"
    }
   ],
   "source": [
    "from pyspark.sql import functions as func\n",
    "#rdd = sqlContext.sql(\"select * from my_care\")\n",
    "\n",
    "# ignore the values with times\n",
    "sql = \"\"\"\n",
    "select provider_id, measure_name,\n",
    "measure_id, measure_name, score\n",
    "from my_care \n",
    "where measure_id != 'ED_1b' AND measure_id != 'ED_2b' AND measure_id != 'OP_1'\n",
    "AND measure_id != 'OP_18b' AND measure_id != 'OP_20' AND measure_id != 'OP_21' \n",
    "AND measure_id != 'OP_3b' AND measure_id != 'OP_5'\n",
    "\"\"\"\n",
    "rdd = sqlContext.sql(sql)\n",
    "rdd.count()"
   ]
  },
  {
   "cell_type": "code",
   "execution_count": 4,
   "metadata": {
    "collapsed": false
   },
   "outputs": [
    {
     "name": "stdout",
     "output_type": "stream",
     "text": [
      "+-----------+--------------------+----------------+--------------------+-----+---------+\n",
      "|provider_id|        measure_name|      measure_id|        measure_name|score|new_score|\n",
      "+-----------+--------------------+----------------+--------------------+-----+---------+\n",
      "|     010001| Statin at Discharge|          AMI_10| Statin at Discharge|   98|       98|\n",
      "|     010001|Aspirin prescribe...|           AMI_2|Aspirin prescribe...|   99|       99|\n",
      "|     010001|Fibrinolytic Ther...|          AMI_7a|Fibrinolytic Ther...| null|     null|\n",
      "|     010001|Primary PCI Recei...|          AMI_8a|Primary PCI Recei...|   91|       91|\n",
      "|     010001|Emergency departm...|             EDV|Emergency departm...| null|     null|\n",
      "|     010001|Discharge instruc...|            HF_1|Discharge instruc...|   91|       91|\n",
      "|     010001|Evaluation of LVS...|            HF_2|Evaluation of LVS...|  100|      100|\n",
      "|     010001|ACEI or ARB for LVSD|            HF_3|ACEI or ARB for LVSD|   98|       98|\n",
      "|     010001|Immunization for ...|           IMM_2|Immunization for ...|   94|       94|\n",
      "|     010001|Healthcare worker...|IMM_3_FAC_ADHPCT|Healthcare worker...|   56|       56|\n",
      "|     010001|Fibrinolytic Ther...|            OP_2|Fibrinolytic Ther...| null|     null|\n",
      "|     010001|Left before being...|           OP_22|Left before being...|    4|       96|\n",
      "|     010001|     Head CT results|           OP_23|     Head CT results| null|     null|\n",
      "|     010001|  Aspirin at Arrival|            OP_4|  Aspirin at Arrival| null|     null|\n",
      "|     010001|Prophylactic Anti...|            OP_6|Prophylactic Anti...|  100|      100|\n",
      "|     010001|Prophylactic Anti...|            OP_7|Prophylactic Anti...|  100|      100|\n",
      "|     010001|Percent of newbor...|           PC_01|Percent of newbor...|    0|      100|\n",
      "|     010001|Initial antibioti...|            PN_6|Initial antibioti...|   99|       99|\n",
      "|     010001|Surgery Patients ...|     SCIP_CARD_2|Surgery Patients ...|   97|       97|\n",
      "|     010001|Prophylactic anti...|      SCIP_INF_1|Prophylactic anti...|   99|       99|\n",
      "+-----------+--------------------+----------------+--------------------+-----+---------+\n",
      "only showing top 20 rows\n",
      "\n"
     ]
    }
   ],
   "source": [
    "# add new column for transformed score\n",
    "rdd = rdd.withColumn('new_score', rdd.score)\n",
    "\n",
    "# convert measure_id = 'OP_22' OR measure_id = 'PC_01' OR measure_id = 'VTE_6' to 100 - new_score\n",
    "rdd = rdd.withColumn('new_score', func.when(rdd.measure_id == 'OP_22', 100 - rdd.new_score).otherwise(rdd.new_score))\n",
    "rdd = rdd.withColumn('new_score', func.when(rdd.measure_id == 'PC_01', 100 - rdd.new_score).otherwise(rdd.new_score))\n",
    "rdd = rdd.withColumn('new_score', func.when(rdd.measure_id == 'VTE_6', 100 - rdd.new_score).otherwise(rdd.new_score))\n",
    "#rdd_new = rdd_new[rdd_new.measure_id == 'PC_01'].withColumn('new_score', 100 - rdd.score)\n",
    "#rdd_new = rdd_new[rdd_new.measure_id == 'VTE_6'].withColumn('new_score', 100 - rdd.score)\n",
    "rdd.count()\n",
    "rdd.show()"
   ]
  },
  {
   "cell_type": "code",
   "execution_count": 5,
   "metadata": {
    "collapsed": false
   },
   "outputs": [
    {
     "name": "stdout",
     "output_type": "stream",
     "text": [
      "+-----------+--------------------+----------+--------------------+-----+---------+\n",
      "|provider_id|        measure_name|measure_id|        measure_name|score|new_score|\n",
      "+-----------+--------------------+----------+--------------------+-----+---------+\n",
      "|     010001|Incidence of pote...|     VTE_6|Incidence of pote...|    0|      100|\n",
      "|     010005|Incidence of pote...|     VTE_6|Incidence of pote...|   29|       71|\n",
      "|     010006|Incidence of pote...|     VTE_6|Incidence of pote...|    8|       92|\n",
      "|     010007|Incidence of pote...|     VTE_6|Incidence of pote...| null|     null|\n",
      "|     010008|Incidence of pote...|     VTE_6|Incidence of pote...| null|     null|\n",
      "|     010011|Incidence of pote...|     VTE_6|Incidence of pote...|   19|       81|\n",
      "|     010012|Incidence of pote...|     VTE_6|Incidence of pote...| null|     null|\n",
      "|     010016|Incidence of pote...|     VTE_6|Incidence of pote...|    0|      100|\n",
      "|     010018|Incidence of pote...|     VTE_6|Incidence of pote...| null|     null|\n",
      "|     010019|Incidence of pote...|     VTE_6|Incidence of pote...| null|     null|\n",
      "|     010021|Incidence of pote...|     VTE_6|Incidence of pote...| null|     null|\n",
      "|     010022|Incidence of pote...|     VTE_6|Incidence of pote...| null|     null|\n",
      "|     010023|Incidence of pote...|     VTE_6|Incidence of pote...|    0|      100|\n",
      "|     010024|Incidence of pote...|     VTE_6|Incidence of pote...|   12|       88|\n",
      "|     010029|Incidence of pote...|     VTE_6|Incidence of pote...|   19|       81|\n",
      "|     010032|Incidence of pote...|     VTE_6|Incidence of pote...| null|     null|\n",
      "|     010033|Incidence of pote...|     VTE_6|Incidence of pote...|   10|       90|\n",
      "|     010034|Incidence of pote...|     VTE_6|Incidence of pote...| null|     null|\n",
      "|     010035|Incidence of pote...|     VTE_6|Incidence of pote...| null|     null|\n",
      "|     010036|Incidence of pote...|     VTE_6|Incidence of pote...| null|     null|\n",
      "+-----------+--------------------+----------+--------------------+-----+---------+\n",
      "only showing top 20 rows\n",
      "\n"
     ]
    }
   ],
   "source": [
    "rdd[rdd.measure_id == 'VTE_6'].show()"
   ]
  },
  {
   "cell_type": "code",
   "execution_count": 6,
   "metadata": {
    "collapsed": false
   },
   "outputs": [
    {
     "name": "stdout",
     "output_type": "stream",
     "text": [
      "66990\n",
      "+-----------+--------------------+------------------+--------------------+-------+---------+\n",
      "|provider_id|        measure_name|        measure_id|        measure_name|  score|new_score|\n",
      "+-----------+--------------------+------------------+--------------------+-------+---------+\n",
      "|     010001|Acute Myocardial ...|       MORT_30_AMI|Acute Myocardial ...|12.2000|  87.8000|\n",
      "|     010001| Death rate for CABG|      MORT_30_CABG| Death rate for CABG| 3.7000|  96.3000|\n",
      "|     010001|Death rate for ch...|      MORT_30_COPD|Death rate for ch...| 8.8000|  91.2000|\n",
      "|     010001|Heart failure (HF...|        MORT_30_HF|Heart failure (HF...|12.6000|  87.4000|\n",
      "|     010001|Pneumonia (PN) 30...|        MORT_30_PN|Pneumonia (PN) 30...|11.6000|  88.4000|\n",
      "|     010001|Death rate for st...|       MORT_30_STK|Death rate for st...|15.3000|  84.7000|\n",
      "|     010001|Acute Myocardial ...|      READM_30_AMI|Acute Myocardial ...|17.4000|  82.6000|\n",
      "|     010001|Rate of unplanned...|     READM_30_CABG|Rate of unplanned...|15.9000|  84.1000|\n",
      "|     010001|Rate of unplanned...|     READM_30_COPD|Rate of unplanned...|22.0000|  78.0000|\n",
      "|     010001|Heart failure (HF...|       READM_30_HF|Heart failure (HF...|21.0000|  79.0000|\n",
      "|     010001|Rate of readmissi...| READM_30_HIP_KNEE|Rate of readmissi...| 5.2000|  94.8000|\n",
      "|     010001|Rate of readmissi...|READM_30_HOSP_WIDE|Rate of readmissi...|14.8000|  85.2000|\n",
      "|     010001|Pneumonia (PN) 30...|       READM_30_PN|Pneumonia (PN) 30...|18.2000|  81.8000|\n",
      "|     010001|Rate of unplanned...|      READM_30_STK|Rate of unplanned...|13.0000|  87.0000|\n",
      "|     010005|Acute Myocardial ...|       MORT_30_AMI|Acute Myocardial ...|16.9000|  83.1000|\n",
      "|     010005| Death rate for CABG|      MORT_30_CABG| Death rate for CABG|   null|     null|\n",
      "|     010005|Death rate for ch...|      MORT_30_COPD|Death rate for ch...| 7.5000|  92.5000|\n",
      "|     010005|Heart failure (HF...|        MORT_30_HF|Heart failure (HF...|16.3000|  83.7000|\n",
      "|     010005|Pneumonia (PN) 30...|        MORT_30_PN|Pneumonia (PN) 30...|13.9000|  86.1000|\n",
      "|     010005|Death rate for st...|       MORT_30_STK|Death rate for st...|14.8000|  85.2000|\n",
      "+-----------+--------------------+------------------+--------------------+-------+---------+\n",
      "only showing top 20 rows\n",
      "\n"
     ]
    }
   ],
   "source": [
    "# select data from readmissions and deaths\n",
    "sql = \"\"\"\n",
    "select provider_id, measure_name,\n",
    "measure_id, measure_name, score\n",
    "from my_readmissions\n",
    "\"\"\"\n",
    "read_df = sqlContext.sql(sql)\n",
    "print(read_df.count())\n",
    "\n",
    "# convert scores to new_score so that higher is better\n",
    "read_df = read_df.withColumn('new_score', read_df.score)\n",
    "read_df = read_df.withColumn('new_score', 100 - read_df.new_score)\n",
    "read_df.show()"
   ]
  },
  {
   "cell_type": "code",
   "execution_count": 7,
   "metadata": {
    "collapsed": false
   },
   "outputs": [
    {
     "name": "stdout",
     "output_type": "stream",
     "text": [
      "28065\n",
      "+-----------+--------------------+--------------------+--------------------+-------+---------+\n",
      "|provider_id|        measure_name|          measure_id|        measure_name|  score|new_score|\n",
      "+-----------+--------------------+--------------------+--------------------+-------+---------+\n",
      "|     140010|Serious blood clo...|PSI_12_POSTOP_PUL...|Serious blood clo...|15.2000|  84.8000|\n",
      "|     370093|Serious blood clo...|PSI_12_POSTOP_PUL...|Serious blood clo...|14.6700|  85.3300|\n",
      "|     330160|Serious blood clo...|PSI_12_POSTOP_PUL...|Serious blood clo...|13.9900|  86.0100|\n",
      "|     170027|Serious blood clo...|PSI_12_POSTOP_PUL...|Serious blood clo...|13.7400|  86.2600|\n",
      "|     310076|Serious blood clo...|PSI_12_POSTOP_PUL...|Serious blood clo...|12.5400|  87.4600|\n",
      "|     110083|Serious blood clo...|PSI_12_POSTOP_PUL...|Serious blood clo...|12.1700|  87.8300|\n",
      "|     140150|Serious blood clo...|PSI_12_POSTOP_PUL...|Serious blood clo...|12.1100|  87.8900|\n",
      "|     260105|Serious blood clo...|PSI_12_POSTOP_PUL...|Serious blood clo...|11.9200|  88.0800|\n",
      "|     260032|Serious blood clo...|PSI_12_POSTOP_PUL...|Serious blood clo...|11.7300|  88.2700|\n",
      "|     110161|Serious blood clo...|PSI_12_POSTOP_PUL...|Serious blood clo...|11.3700|  88.6300|\n",
      "|     390110|Serious blood clo...|PSI_12_POSTOP_PUL...|Serious blood clo...|11.1800|  88.8200|\n",
      "|     450289|Serious blood clo...|PSI_12_POSTOP_PUL...|Serious blood clo...|10.9900|  89.0100|\n",
      "|     330127|Serious blood clo...|PSI_12_POSTOP_PUL...|Serious blood clo...|10.8400|  89.1600|\n",
      "|     100067|Serious blood clo...|PSI_12_POSTOP_PUL...|Serious blood clo...|10.7000|  89.3000|\n",
      "|     300011|Serious blood clo...|PSI_12_POSTOP_PUL...|Serious blood clo...|10.6700|  89.3300|\n",
      "|     450730|Serious blood clo...|PSI_12_POSTOP_PUL...|Serious blood clo...|10.5900|  89.4100|\n",
      "|     390321|Serious blood clo...|PSI_12_POSTOP_PUL...|Serious blood clo...|10.5300|  89.4700|\n",
      "|     140281|Serious blood clo...|PSI_12_POSTOP_PUL...|Serious blood clo...|10.3900|  89.6100|\n",
      "|     230053|Serious blood clo...|PSI_12_POSTOP_PUL...|Serious blood clo...|10.3800|  89.6200|\n",
      "|     170182|Serious blood clo...|PSI_12_POSTOP_PUL...|Serious blood clo...|10.3400|  89.6600|\n",
      "+-----------+--------------------+--------------------+--------------------+-------+---------+\n",
      "only showing top 20 rows\n",
      "\n"
     ]
    }
   ],
   "source": [
    "# select data from complications (measure_id != PSI_4_SURG_COMP)\n",
    "sql = \"\"\"\n",
    "select provider_id, measure_name,\n",
    "measure_id, measure_name, score\n",
    "from my_complications\n",
    "where measure_id != 'PSI_4_SURG_COMP'\n",
    "\"\"\"\n",
    "comp_df = sqlContext.sql(sql)\n",
    "print(comp_df.count())\n",
    "\n",
    "# convert scores to new_score so that higher is better\n",
    "comp_df = comp_df.withColumn('new_score', comp_df.score)\n",
    "comp_df = comp_df.withColumn('new_score', 100 - comp_df.new_score)\n",
    "comp_df.sort('score', ascending=False).show()"
   ]
  },
  {
   "cell_type": "code",
   "execution_count": 8,
   "metadata": {
    "collapsed": false
   },
   "outputs": [
    {
     "name": "stdout",
     "output_type": "stream",
     "text": [
      "27936\n",
      "+-----------+--------------------+----------+--------------------+------+---------+\n",
      "|provider_id|        measure_name|measure_id|        measure_name| score|new_score|\n",
      "+-----------+--------------------+----------+--------------------+------+---------+\n",
      "|     100181|Methicillin-resis...| HAI_5_SIR|Methicillin-resis...|9.9890|  90.0110|\n",
      "|     390270|Surgical Site Inf...| HAI_4_SIR|Surgical Site Inf...|8.2870|  91.7130|\n",
      "|     330233|Methicillin-resis...| HAI_5_SIR|Methicillin-resis...|7.3070|  92.6930|\n",
      "|     230297|Methicillin-resis...| HAI_5_SIR|Methicillin-resis...|7.0380|  92.9620|\n",
      "|     050008|Catheter-Associat...| HAI_2_SIR|Catheter-Associat...|6.7800|  93.2200|\n",
      "|     480001|Catheter-Associat...| HAI_2_SIR|Catheter-Associat...|5.9170|  94.0830|\n",
      "|     430012|Surgical Site Inf...| HAI_3_SIR|Surgical Site Inf...|5.6540|  94.3460|\n",
      "|     140095|Central line-asso...| HAI_1_SIR|Central line-asso...|5.6040|  94.3960|\n",
      "|     110128|Catheter-Associat...| HAI_2_SIR|Catheter-Associat...|5.3480|  94.6520|\n",
      "|     190005|Surgical Site Inf...| HAI_4_SIR|Surgical Site Inf...|5.2360|  94.7640|\n",
      "|     450039|Surgical Site Inf...| HAI_4_SIR|Surgical Site Inf...|5.1280|  94.8720|\n",
      "|     160047|Surgical Site Inf...| HAI_3_SIR|Surgical Site Inf...|4.8660|  95.1340|\n",
      "|     050425|Catheter-Associat...| HAI_2_SIR|Catheter-Associat...|4.8120|  95.1880|\n",
      "|     380056|Clostridium diffi...| HAI_6_SIR|Clostridium diffi...|4.7990|  95.2010|\n",
      "|     040088|Surgical Site Inf...| HAI_3_SIR|Surgical Site Inf...|4.7790|  95.2210|\n",
      "|     230141|Surgical Site Inf...| HAI_4_SIR|Surgical Site Inf...|4.6080|  95.3920|\n",
      "|     180011|Methicillin-resis...| HAI_5_SIR|Methicillin-resis...|4.5780|  95.4220|\n",
      "|     180048|Catheter-Associat...| HAI_2_SIR|Catheter-Associat...|4.5080|  95.4920|\n",
      "|     050663|Methicillin-resis...| HAI_5_SIR|Methicillin-resis...|4.5070|  95.4930|\n",
      "|     370094|Methicillin-resis...| HAI_5_SIR|Methicillin-resis...|4.4880|  95.5120|\n",
      "+-----------+--------------------+----------+--------------------+------+---------+\n",
      "only showing top 20 rows\n",
      "\n"
     ]
    }
   ],
   "source": [
    "# select data from infections only use Standardized Infections Ratios (SIR) for calculations\n",
    "sql = \"\"\"\n",
    "select provider_id, measure_name,\n",
    "measure_id, measure_name, score\n",
    "from my_infections\n",
    "where measure_id like '%SIR%'\n",
    "\"\"\"\n",
    "infect_df = sqlContext.sql(sql)\n",
    "print(infect_df.count())\n",
    "\n",
    "# convert scores to new_score so that higher is better\n",
    "infect_df = infect_df.withColumn('new_score', infect_df.score)\n",
    "infect_df = infect_df.withColumn('new_score', 100 - infect_df.new_score)\n",
    "infect_df.sort('score', ascending=False).show()"
   ]
  },
  {
   "cell_type": "code",
   "execution_count": 18,
   "metadata": {
    "collapsed": false
   },
   "outputs": [
    {
     "data": {
      "text/plain": [
       "306834"
      ]
     },
     "execution_count": 18,
     "metadata": {},
     "output_type": "execute_result"
    }
   ],
   "source": [
    "# combine the all the tables\n",
    "combined_df = rdd.unionAll(read_df).unionAll(comp_df).unionAll(infect_df)\n",
    "combined_df.count()"
   ]
  },
  {
   "cell_type": "code",
   "execution_count": 19,
   "metadata": {
    "collapsed": false
   },
   "outputs": [],
   "source": [
    "# convert null values to 0s\n",
    "combined_df = combined_df.fillna({'new_score': 0})"
   ]
  },
  {
   "cell_type": "code",
   "execution_count": 11,
   "metadata": {
    "collapsed": false
   },
   "outputs": [
    {
     "name": "stdout",
     "output_type": "stream",
     "text": [
      "+-----------+-----------+---------+\n",
      "|provider_id|  avg_score|sum_score|\n",
      "+-----------+-----------+---------+\n",
      "|     450388|90.19608696|6223.5300|\n",
      "|     030036|89.65106061|5916.9700|\n",
      "|     450723|89.55165152|5910.4090|\n",
      "|     050231|89.32084848|5895.1760|\n",
      "|     050308|89.28451515|5892.7780|\n",
      "|     260065|89.23584848|5889.5660|\n",
      "|     050570|89.15321212|5884.1120|\n",
      "|     050077|89.08831818|5879.8290|\n",
      "|     340091|89.00301515|5874.1990|\n",
      "|     360155|89.00003030|5874.0020|\n",
      "|     340098|88.99462121|5873.6450|\n",
      "|     450431|88.96757576|5871.8600|\n",
      "|     050169|88.95774242|5871.2110|\n",
      "|     050017|88.91571212|5868.4370|\n",
      "|     050168|88.87221212|5865.5660|\n",
      "|     330101|88.86157971|6131.4490|\n",
      "|     340069|88.85698485|5864.5610|\n",
      "|     450184|88.85028788|5864.1190|\n",
      "|     050324|88.83356061|5863.0150|\n",
      "|     330024|88.78101515|5859.5470|\n",
      "+-----------+-----------+---------+\n",
      "only showing top 20 rows\n",
      "\n"
     ]
    }
   ],
   "source": [
    "# group by hospital, avg new_scores and sum new_scores\n",
    "combined_df.groupBy('provider_id') \\\n",
    "    .agg(func.avg('new_score').alias('avg_score'),\n",
    "         func.sum('new_score').alias('sum_score')) \\\n",
    "    .sort('avg_score', ascending=False).show()"
   ]
  },
  {
   "cell_type": "code",
   "execution_count": 20,
   "metadata": {
    "collapsed": false
   },
   "outputs": [],
   "source": [
    "combined_df.registerTempTable('temp_care')"
   ]
  },
  {
   "cell_type": "code",
   "execution_count": 27,
   "metadata": {
    "collapsed": false
   },
   "outputs": [
    {
     "name": "stdout",
     "output_type": "stream",
     "text": [
      "+-----------+-----------+---------+------------------+--------------------+------------------+-----+\n",
      "|provider_id|  avg_score|sum_score|           std_dev|                name|              city|state|\n",
      "+-----------+-----------+---------+------------------+--------------------+------------------+-----+\n",
      "|     450388|90.19608696|6223.5300|23.257167097751356|  METHODIST HOSPITAL|       SAN ANTONIO|   TX|\n",
      "|     030036|89.65106061|5916.9700|23.463479191803717|CHANDLER REGIONAL...|          CHANDLER|   AZ|\n",
      "|     450723|89.55165152|5910.4090| 23.74922675582871|METHODIST CHARLTO...|            DALLAS|   TX|\n",
      "|     050231|89.32084848|5895.1760| 23.55310330273198|POMONA VALLEY HOS...|            POMONA|   CA|\n",
      "|     050308|89.28451515|5892.7780|24.255605475375035|  EL CAMINO HOSPITAL|     MOUNTAIN VIEW|   CA|\n",
      "|     260065|89.23584848|5889.5660| 23.41929371605517|MERCY HOSPITAL SP...|       SPRINGFIELD|   MO|\n",
      "|     050570|89.15321212|5884.1120|23.567910399983944|FOUNTAIN VALLEY R...|   FOUNTAIN VALLEY|   CA|\n",
      "|     050077|89.08831818|5879.8290|23.457667197921815|SCRIPPS MERCY HOS...|         SAN DIEGO|   CA|\n",
      "|     340091|89.00301515|5874.1990| 23.92041564418728|MOSES H CONE MEMO...|        GREENSBORO|   NC|\n",
      "|     360155|89.00003030|5874.0020|23.569490476724678|SOUTHWEST GENERAL...|MIDDLEBURG HEIGHTS|   OH|\n",
      "|     340098|88.99462121|5873.6450|26.052711637362233|CAROLINAS MEDICAL...|         CHARLOTTE|   NC|\n",
      "|     450431|88.96757576|5871.8600|26.106479456989213|ST DAVID'S MEDICA...|            AUSTIN|   TX|\n",
      "|     050169|88.95774242|5871.2110|23.342976216536233|PRESBYTERIAN INTE...|          WHITTIER|   CA|\n",
      "|     050017|88.91571212|5868.4370|24.186847411768156|MERCY GENERAL HOS...|        SACRAMENTO|   CA|\n",
      "|     050168|88.87221212|5865.5660|23.706616044647483|ST JUDE MEDICAL C...|         FULLERTON|   CA|\n",
      "|     330101|88.86157971|6131.4490|25.428706938467933|NEW YORK-PRESBYTE...|          NEW YORK|   NY|\n",
      "|     340069|88.85698485|5864.5610|23.752424321875804|WAKEMED, RALEIGH ...|           RALEIGH|   NC|\n",
      "|     450184|88.85028788|5864.1190|23.327200967816157|MEMORIAL HERMANN ...|           HOUSTON|   TX|\n",
      "|     050324|88.83356061|5863.0150|26.081240823875564|SCRIPPS MEMORIAL ...|          LA JOLLA|   CA|\n",
      "|     330024|88.78101515|5859.5470|23.435869924238595|MOUNT SINAI HOSPITAL|          NEW YORK|   NY|\n",
      "+-----------+-----------+---------+------------------+--------------------+------------------+-----+\n",
      "only showing top 20 rows\n",
      "\n"
     ]
    }
   ],
   "source": [
    "# What hospitals are models of high-quality care? \n",
    "# That is, which hospitals have the most consistently \n",
    "# high scores for a variety of procedures.\n",
    "sql = \"\"\"\n",
    "select tc.provider_id, avg(new_score) as avg_score, \n",
    "sum(new_score) as sum_score,\n",
    "stddev(new_score) as std_dev,\n",
    "name, city, state\n",
    "from temp_care tc inner join my_hospitals h on\n",
    "tc.provider_id = h.provider_id\n",
    "group by tc.provider_id, name, city, state\n",
    "order by avg_score desc\n",
    "\"\"\"\n",
    "std_dev_df = sqlContext.sql(sql)\n",
    "std_dev_df.show()"
   ]
  },
  {
   "cell_type": "code",
   "execution_count": null,
   "metadata": {
    "collapsed": true
   },
   "outputs": [],
   "source": []
  },
  {
   "cell_type": "code",
   "execution_count": 22,
   "metadata": {
    "collapsed": false
   },
   "outputs": [
    {
     "name": "stdout",
     "output_type": "stream",
     "text": [
      "+-----+-----------+------------+------------------+\n",
      "|state|  avg_score|   sum_score|           std_dev|\n",
      "+-----+-----------+------------+------------------+\n",
      "|   NJ|78.95018806| 335854.1000| 35.45259501674904|\n",
      "|   DE|78.92767139|  33386.4050| 35.54092098951954|\n",
      "|   CT|72.72861036| 145966.3210|40.114278628687806|\n",
      "|   RI|72.21074236|  54374.6890| 39.97859855171749|\n",
      "|   FL|72.19711186| 868747.8470| 40.65339308536328|\n",
      "|   MA|68.35928465| 283622.6720| 42.54619604175828|\n",
      "|   DC|67.28496577|  37343.1560|42.062219405151644|\n",
      "|   VA|66.71898543| 366420.6680| 43.51360277857738|\n",
      "|   NY|65.37620880| 747707.7000|43.391309855907785|\n",
      "|   PA|65.21485433| 722124.0820| 43.90396192797005|\n",
      "|   SC|64.40588632| 261745.5220| 44.33205647830185|\n",
      "|   CA|64.32420505|1411659.0040|  44.1269291361826|\n",
      "|   NC|63.56589196| 453034.1120|44.602737899883266|\n",
      "|   OH|60.70896270| 664095.3430|  45.3983911165996|\n",
      "|   IL|59.17159302| 688579.8280| 45.53908064247492|\n",
      "|   MD|58.90852673| 173014.3430| 45.70306479373572|\n",
      "|   AZ|56.47508520| 283053.1270| 46.19085173989135|\n",
      "|   TN|55.98047080| 398804.8740| 46.21626522319137|\n",
      "|   MI|55.42334517| 488445.9410| 46.38446622675821|\n",
      "|   IN|55.11480709| 449130.5630| 46.54111052859443|\n",
      "+-----+-----------+------------+------------------+\n",
      "only showing top 20 rows\n",
      "\n"
     ]
    }
   ],
   "source": [
    "# What states are models of high-quality care?\n",
    "sql = \"\"\"\n",
    "select state, avg(new_score) as avg_score, \n",
    "sum(new_score) as sum_score,\n",
    "stddev(new_score) as std_dev\n",
    "from temp_care tc inner join my_hospitals h on\n",
    "tc.provider_id = h.provider_id\n",
    "group by state\n",
    "order by avg_score desc\n",
    "\"\"\"\n",
    "sqlContext.sql(sql).show()"
   ]
  },
  {
   "cell_type": "code",
   "execution_count": 28,
   "metadata": {
    "collapsed": false
   },
   "outputs": [
    {
     "name": "stdout",
     "output_type": "stream",
     "text": [
      "+-------------------+--------------------+-----------+-----------+------------------+\n",
      "|         measure_id|        measure_name|  avg_score|  sum_score|           std_dev|\n",
      "+-------------------+--------------------+-----------+-----------+------------------+\n",
      "|          HAI_2_SIR|Catheter-Associat...|48.30051912|224887.2170| 49.45932191841454|\n",
      "|              AMI_2|Aspirin prescribe...|46.76739691|217749.0000|49.334403774660466|\n",
      "|          HAI_1_SIR|Central line-asso...|42.76890163|199132.0060| 49.26597269849545|\n",
      "|              VTE_4|Unfractionated he...|43.39819588|202062.0000| 49.17729021645856|\n",
      "|          HAI_3_SIR|Surgical Site Inf...|43.31772380|201687.3220| 49.14184522159113|\n",
      "|             AMI_10| Statin at Discharge|45.86168385|213532.0000| 48.86002194975948|\n",
      "|              STK_2|Discharged on Ant...|56.60674399|263561.0000| 48.84487628252045|\n",
      "|PSI_14_POSTOP_DEHIS|A wound that spli...|54.71919029|254772.5500|48.829550373292854|\n",
      "|          HAI_5_SIR|Methicillin-resis...|40.52777857|188697.3370|48.726715857075924|\n",
      "|              STK_5|Antithrombotic Th...|56.16967354|261526.0000| 48.50840425178849|\n",
      "|               OP_4|  Aspirin at Arrival|49.02894673|201558.0000|48.425543022885996|\n",
      "|             STK_10|Assessed for Reha...|56.41666667|262676.0000| 48.17030138249742|\n",
      "|              PC_01|Percent of newbor...|51.83290378|241334.0000|47.994384155528074|\n",
      "|               HF_3|ACEI or ARB for LVSD|55.77920962|259708.0000| 47.89632324947922|\n",
      "|      COMP_HIP_KNEE|Rate of complicat...|56.01301985|268022.3000| 47.81653976613636|\n",
      "|              STK_6|Discharged on Sta...|52.05111684|242350.0000|47.245519783849744|\n",
      "|              STK_1|Venous Thromboemb...|55.03178694|256228.0000|47.132188021202104|\n",
      "|              VTE_3|Anticoagulation o...|54.01653780|251501.0000|  47.0564608559557|\n",
      "|  READM_30_HIP_KNEE|Rate of readmissi...|55.24509927|264347.8000| 46.93941003836553|\n",
      "|              STK_8|    Stroke Education|46.12542955|214760.0000| 46.35370037984926|\n",
      "+-------------------+--------------------+-----------+-----------+------------------+\n",
      "only showing top 20 rows\n",
      "\n"
     ]
    }
   ],
   "source": [
    "# Which procedures have the greatest variability between hospitals?\n",
    "sql = \"\"\"\n",
    "select measure_id, measure_name, avg(new_score) as avg_score, \n",
    "sum(new_score) as sum_score,\n",
    "stddev(new_score) as std_dev\n",
    "from temp_care\n",
    "group by measure_id, measure_name\n",
    "order by std_dev desc\n",
    "\"\"\"\n",
    "measures_df = sqlContext.sql(sql)\n",
    "measures_df.show()"
   ]
  },
  {
   "cell_type": "code",
   "execution_count": 29,
   "metadata": {
    "collapsed": false
   },
   "outputs": [
    {
     "name": "stdout",
     "output_type": "stream",
     "text": [
      "+-----------+------------+\n",
      "|provider_id|survey_score|\n",
      "+-----------+------------+\n",
      "|     010045|         100|\n",
      "|     040152|         100|\n",
      "|     100313|         100|\n",
      "|     110200|         100|\n",
      "|     170190|         100|\n",
      "|     180149|         100|\n",
      "|     190241|         100|\n",
      "|     190259|         100|\n",
      "|     190261|         100|\n",
      "|     190263|         100|\n",
      "|     190267|         100|\n",
      "|     450875|         100|\n",
      "|     280131|         100|\n",
      "|     360352|         100|\n",
      "|     390316|         100|\n",
      "|     390323|         100|\n",
      "|     390324|         100|\n",
      "|     430091|         100|\n",
      "|     430092|         100|\n",
      "|     450422|         100|\n",
      "+-----------+------------+\n",
      "only showing top 20 rows\n",
      "\n"
     ]
    }
   ],
   "source": [
    "# Are average scores for hospital quality or procedural variability correlated with patient survey responses?\n",
    "sql = \"\"\"\n",
    "select provider_id, \n",
    "total_score as survey_score\n",
    "from my_survey_scores\n",
    "\"\"\"\n",
    "survey_df = sqlContext.sql(sql)\n",
    "survey_df.sort('survey_score', ascending=False).show()"
   ]
  },
  {
   "cell_type": "code",
   "execution_count": 17,
   "metadata": {
    "collapsed": false
   },
   "outputs": [
    {
     "name": "stdout",
     "output_type": "stream",
     "text": [
      "+-----------+-----------+---------+------------------+--------------------+------------------+-----+------------+\n",
      "|provider_id|  avg_score|sum_score|           std_dev|                name|              city|state|survey_score|\n",
      "+-----------+-----------+---------+------------------+--------------------+------------------+-----+------------+\n",
      "|     450388|90.19608696|6223.5300|23.257167097751356|  METHODIST HOSPITAL|       SAN ANTONIO|   TX|          33|\n",
      "|     030036|89.65106061|5916.9700|23.463479191803717|CHANDLER REGIONAL...|          CHANDLER|   AZ|          29|\n",
      "|     450723|89.55165152|5910.4090| 23.74922675582871|METHODIST CHARLTO...|            DALLAS|   TX|          40|\n",
      "|     050231|89.32084848|5895.1760| 23.55310330273198|POMONA VALLEY HOS...|            POMONA|   CA|          11|\n",
      "|     050308|89.28451515|5892.7780|24.255605475375035|  EL CAMINO HOSPITAL|     MOUNTAIN VIEW|   CA|          37|\n",
      "|     260065|89.23584848|5889.5660| 23.41929371605517|MERCY HOSPITAL SP...|       SPRINGFIELD|   MO|          42|\n",
      "|     050570|89.15321212|5884.1120|23.567910399983944|FOUNTAIN VALLEY R...|   FOUNTAIN VALLEY|   CA|          11|\n",
      "|     050077|89.08831818|5879.8290|23.457667197921815|SCRIPPS MERCY HOS...|         SAN DIEGO|   CA|          16|\n",
      "|     340091|89.00301515|5874.1990| 23.92041564418728|MOSES H CONE MEMO...|        GREENSBORO|   NC|          41|\n",
      "|     360155|89.00003030|5874.0020|23.569490476724678|SOUTHWEST GENERAL...|MIDDLEBURG HEIGHTS|   OH|          28|\n",
      "|     340098|88.99462121|5873.6450|26.052711637362233|CAROLINAS MEDICAL...|         CHARLOTTE|   NC|          60|\n",
      "|     450431|88.96757576|5871.8600|26.106479456989213|ST DAVID'S MEDICA...|            AUSTIN|   TX|          57|\n",
      "|     050169|88.95774242|5871.2110|23.342976216536233|PRESBYTERIAN INTE...|          WHITTIER|   CA|          51|\n",
      "|     050017|88.91571212|5868.4370|24.186847411768156|MERCY GENERAL HOS...|        SACRAMENTO|   CA|          35|\n",
      "|     050168|88.87221212|5865.5660|23.706616044647483|ST JUDE MEDICAL C...|         FULLERTON|   CA|          30|\n",
      "|     330101|88.86157971|6131.4490|25.428706938467933|NEW YORK-PRESBYTE...|          NEW YORK|   NY|          23|\n",
      "|     340069|88.85698485|5864.5610|23.752424321875804|WAKEMED, RALEIGH ...|           RALEIGH|   NC|          56|\n",
      "|     450184|88.85028788|5864.1190|23.327200967816157|MEMORIAL HERMANN ...|           HOUSTON|   TX|          39|\n",
      "|     050324|88.83356061|5863.0150|26.081240823875564|SCRIPPS MEMORIAL ...|          LA JOLLA|   CA|          44|\n",
      "|     330024|88.78101515|5859.5470|23.435869924238595|MOUNT SINAI HOSPITAL|          NEW YORK|   NY|          40|\n",
      "+-----------+-----------+---------+------------------+--------------------+------------------+-----+------------+\n",
      "only showing top 20 rows\n",
      "\n"
     ]
    }
   ],
   "source": [
    "cor_df = combined_df.join(survey_df, on='provider_id', how='inner')\n",
    "cor_df.show()"
   ]
  },
  {
   "cell_type": "code",
   "execution_count": 181,
   "metadata": {
    "collapsed": false
   },
   "outputs": [
    {
     "data": {
      "text/plain": [
       "-0.3704612946834205"
      ]
     },
     "execution_count": 181,
     "metadata": {},
     "output_type": "execute_result"
    }
   ],
   "source": [
    "# Are average scores for hospital quality correlated with patient survey scores?\n",
    "cor_df.stat.corr('avg_score', 'survey_score')"
   ]
  },
  {
   "cell_type": "code",
   "execution_count": 35,
   "metadata": {
    "collapsed": false
   },
   "outputs": [
    {
     "name": "stdout",
     "output_type": "stream",
     "text": [
      "+-------------+--------------------+-----------+-----------+------------------+------------------+\n",
      "|   measure_id|        measure_name|  avg_score|  sum_score|           std_dev|  avg_survey_score|\n",
      "+-------------+--------------------+-----------+-----------+------------------+------------------+\n",
      "|         OP_4|  Aspirin at Arrival|50.53696370|153127.0000| 48.53271279500972|42.005003335557035|\n",
      "|    HAI_5_SIR|Methicillin-resis...|59.82674650|183847.5920|48.482177023550555| 41.96415652745807|\n",
      "|        STK_3|Anticoagulation T...|46.76830459|143719.0000|48.390243806926144| 41.96415652745807|\n",
      "|       AMI_8a|Primary PCI Recei...|46.40416531|142600.0000| 47.99821705484352| 41.96415652745807|\n",
      "|    HAI_1_SIR|Central line-asso...|63.08601269|193863.3170| 47.94357343907053| 41.96415652745807|\n",
      "|        VTE_4|Unfractionated he...|64.26488773|197486.0000|47.325009096355636| 41.96415652745807|\n",
      "|    HAI_3_SIR|Surgical Site Inf...|64.31127009|197628.5330|47.278492573550515| 41.96415652745807|\n",
      "|        VTE_6|Incidence of pote...|41.33159779|127012.0000| 46.78963001227524| 41.96415652745807|\n",
      "|        AMI_2|Aspirin prescribe...|67.99121380|208937.0000|45.856021804001635| 41.96415652745807|\n",
      "| MORT_30_CABG| Death rate for CABG|32.96137325|101290.3000| 45.85373591787321| 41.96415652745807|\n",
      "|       AMI_10| Statin at Discharge|66.57207940|204576.0000| 45.77179306254352| 41.96415652745807|\n",
      "|    HAI_2_SIR|Catheter-Associat...|70.99294273|218161.3130|44.548309699445944| 41.96415652745807|\n",
      "|    HAI_4_SIR|Surgical Site Inf...|26.91963814| 82724.0480| 44.07390975918724| 41.96415652745807|\n",
      "|        STK_8|    Stroke Education|68.70647576|211135.0000|40.652349078031556| 41.96415652745807|\n",
      "|        PC_01|Percent of newbor...|74.04978848|227555.0000| 40.64881135710322| 41.96415652745807|\n",
      "|READM_30_CABG|Rate of unplanned...|28.75060202| 88350.6000| 40.23414006953707| 41.96415652745807|\n",
      "|        VTE_5|Warfarin therapy ...|68.91181256|211766.0000| 39.72823847567489| 41.96415652745807|\n",
      "|        STK_4|Thrombolytic Therapy|23.48551904| 72171.0000|  39.1342429370512| 41.96415652745807|\n",
      "|COMP_HIP_KNEE|Rate of complicat...|77.48574683|238113.7000| 38.72304590703825| 41.96415652745807|\n",
      "| READM_30_AMI|Acute Myocardial ...|57.69053043|177283.0000| 38.22049859689916| 41.96415652745807|\n",
      "+-------------+--------------------+-----------+-----------+------------------+------------------+\n",
      "only showing top 20 rows\n",
      "\n"
     ]
    }
   ],
   "source": [
    "# Is procedural variability correlated with patient survey responses?\n",
    "sql = \"\"\"\n",
    "select measure_id, measure_name, avg(new_score) as avg_score, \n",
    "sum(new_score) as sum_score,\n",
    "stddev(new_score) as std_dev,\n",
    "avg(total_score) as avg_survey_score\n",
    "from temp_care inner join my_survey_scores\n",
    "on temp_care.provider_id = my_survey_scores.provider_id\n",
    "group by measure_id, measure_name\n",
    "order by std_dev desc\n",
    "\"\"\"\n",
    "score_df = sqlContext.sql(sql)\n",
    "score_df.show()"
   ]
  },
  {
   "cell_type": "code",
   "execution_count": 31,
   "metadata": {
    "collapsed": false
   },
   "outputs": [
    {
     "data": {
      "text/plain": [
       "0.04395496005154914"
      ]
     },
     "execution_count": 31,
     "metadata": {},
     "output_type": "execute_result"
    }
   ],
   "source": [
    "score_df.stat.corr('std_dev', 'avg_survey_score')"
   ]
  },
  {
   "cell_type": "markdown",
   "metadata": {},
   "source": [
    "\n",
    "## SQL Exploration\n"
   ]
  },
  {
   "cell_type": "code",
   "execution_count": 48,
   "metadata": {
    "collapsed": false
   },
   "outputs": [
    {
     "name": "stdout",
     "output_type": "stream",
     "text": [
      "+-----------+------------+\n",
      "|provider_id|   agg_score|\n",
      "+-----------+------------+\n",
      "|     511321|100.00000000|\n",
      "|     281324|100.00000000|\n",
      "|     111319|100.00000000|\n",
      "|     461302|100.00000000|\n",
      "|     141332|100.00000000|\n",
      "|     210058|100.00000000|\n",
      "|     490144|100.00000000|\n",
      "|     141329|100.00000000|\n",
      "|     531302|100.00000000|\n",
      "|     261333|100.00000000|\n",
      "|     201304|100.00000000|\n",
      "|     351315|100.00000000|\n",
      "|     141326|100.00000000|\n",
      "|     06007F|100.00000000|\n",
      "|     261329|100.00000000|\n",
      "|     201306|100.00000000|\n",
      "|     141328|100.00000000|\n",
      "|     201307|100.00000000|\n",
      "|     231313|100.00000000|\n",
      "|     491303|100.00000000|\n",
      "+-----------+------------+\n",
      "only showing top 20 rows\n",
      "\n"
     ]
    }
   ],
   "source": [
    "# ignore the values with times\n",
    "sql = \"\"\"\n",
    "select provider_id, avg(new_score) as agg_score from my_care \n",
    "where measure_id != 'ED_1b' AND measure_id != 'ED_2b' AND measure_id != 'OP_1'\n",
    "AND measure_id != 'OP_18b' AND measure_id != 'OP_20' AND measure_id != 'OP_21' \n",
    "AND measure_id != 'OP_3b' AND measure_id != 'OP_5'\n",
    "group by provider_id order by agg_score DESC\n",
    "\"\"\"\n",
    "sqlContext.sql(sql).show()"
   ]
  },
  {
   "cell_type": "code",
   "execution_count": 53,
   "metadata": {
    "collapsed": false
   },
   "outputs": [
    {
     "name": "stdout",
     "output_type": "stream",
     "text": [
      "+-----------+--------------------+-------------+------+-----+--------+-----------+------------+--------------------+-----------+--------------------+-------------+-------------+--------------------+------------------+----------------+\n",
      "|provider_id|       hospital_name|      address|  city|state|zip_code|county_name|phone_number|           condition| measure_id|        measure_name|        score|       sample|            footnote|measure_start_date|measure_end_date|\n",
      "+-----------+--------------------+-------------+------+-----+--------+-----------+------------+--------------------+-----------+--------------------+-------------+-------------+--------------------+------------------+----------------+\n",
      "|     281324|NEMAHA COUNTY HOS...|2022  13TH ST|AUBURN|   NE|   68305|     NEMAHA|  4022744366|Heart Attack or C...|     AMI_10| Statin at Discharge|Not Available|Not Available|5 - Results are n...|        10/01/2013|      09/30/2014|\n",
      "|     281324|NEMAHA COUNTY HOS...|2022  13TH ST|AUBURN|   NE|   68305|     NEMAHA|  4022744366|Heart Attack or C...|      AMI_2|Aspirin prescribe...|Not Available|Not Available|5 - Results are n...|        10/01/2013|      09/30/2014|\n",
      "|     281324|NEMAHA COUNTY HOS...|2022  13TH ST|AUBURN|   NE|   68305|     NEMAHA|  4022744366|Heart Attack or C...|     AMI_7a|Fibrinolytic Ther...|Not Available|Not Available|5 - Results are n...|        10/01/2013|      09/30/2014|\n",
      "|     281324|NEMAHA COUNTY HOS...|2022  13TH ST|AUBURN|   NE|   68305|     NEMAHA|  4022744366|Heart Attack or C...|     AMI_8a|Primary PCI Recei...|Not Available|Not Available|5 - Results are n...|        10/01/2013|      09/30/2014|\n",
      "|     281324|NEMAHA COUNTY HOS...|2022  13TH ST|AUBURN|   NE|   68305|     NEMAHA|  4022744366|Emergency Department|        EDV|Emergency departm...|Not Available|             |5 - Results are n...|        01/01/2013|      12/31/2013|\n",
      "|     281324|NEMAHA COUNTY HOS...|2022  13TH ST|AUBURN|   NE|   68305|     NEMAHA|  4022744366|       Heart Failure|       HF_1|Discharge instruc...|Not Available|Not Available|1 - The number of...|        10/01/2013|      09/30/2014|\n",
      "|     281324|NEMAHA COUNTY HOS...|2022  13TH ST|AUBURN|   NE|   68305|     NEMAHA|  4022744366|       Heart Failure|       HF_2|Evaluation of LVS...|Not Available|Not Available|1 - The number of...|        10/01/2013|      09/30/2014|\n",
      "|     281324|NEMAHA COUNTY HOS...|2022  13TH ST|AUBURN|   NE|   68305|     NEMAHA|  4022744366|       Heart Failure|       HF_3|ACEI or ARB for LVSD|Not Available|Not Available|3 - Results are b...|        10/01/2013|      09/30/2014|\n",
      "|     281324|NEMAHA COUNTY HOS...|2022  13TH ST|AUBURN|   NE|   68305|     NEMAHA|  4022744366|     Preventive Care|      IMM_2|Immunization for ...|Not Available|Not Available|5 - Results are n...|        10/01/2013|      03/31/2014|\n",
      "|     281324|NEMAHA COUNTY HOS...|2022  13TH ST|AUBURN|   NE|   68305|     NEMAHA|  4022744366|Heart Attack or C...|       OP_2|Fibrinolytic Ther...|Not Available|Not Available|1 - The number of...|        10/01/2013|      09/30/2014|\n",
      "|     281324|NEMAHA COUNTY HOS...|2022  13TH ST|AUBURN|   NE|   68305|     NEMAHA|  4022744366|Emergency Department|      OP_22|Left before being...|Not Available|Not Available|5 - Results are n...|        01/01/2013|      12/31/2013|\n",
      "|     281324|NEMAHA COUNTY HOS...|2022  13TH ST|AUBURN|   NE|   68305|     NEMAHA|  4022744366|Emergency Department|      OP_23|     Head CT results|Not Available|Not Available|5 - Results are n...|        10/01/2013|      09/30/2014|\n",
      "|     281324|NEMAHA COUNTY HOS...|2022  13TH ST|AUBURN|   NE|   68305|     NEMAHA|  4022744366|Heart Attack or C...|       OP_4|  Aspirin at Arrival|          100|           15|                    |        10/01/2013|      09/30/2014|\n",
      "|     281324|NEMAHA COUNTY HOS...|2022  13TH ST|AUBURN|   NE|   68305|     NEMAHA|  4022744366|Surgical Care Imp...|       OP_6|Prophylactic Anti...|Not Available|Not Available|5 - Results are n...|        10/01/2013|      09/30/2014|\n",
      "|     281324|NEMAHA COUNTY HOS...|2022  13TH ST|AUBURN|   NE|   68305|     NEMAHA|  4022744366|Surgical Care Imp...|       OP_7|Prophylactic Anti...|Not Available|Not Available|5 - Results are n...|        10/01/2013|      09/30/2014|\n",
      "|     281324|NEMAHA COUNTY HOS...|2022  13TH ST|AUBURN|   NE|   68305|     NEMAHA|  4022744366|Pregnancy and Del...|      PC_01|Percent of newbor...|Not Available|Not Available|5 - Results are n...|        10/01/2013|      09/30/2014|\n",
      "|     281324|NEMAHA COUNTY HOS...|2022  13TH ST|AUBURN|   NE|   68305|     NEMAHA|  4022744366|           Pneumonia|       PN_6|Initial antibioti...|Not Available|Not Available|1 - The number of...|        10/01/2013|      09/30/2014|\n",
      "|     281324|NEMAHA COUNTY HOS...|2022  13TH ST|AUBURN|   NE|   68305|     NEMAHA|  4022744366|Surgical Care Imp...|SCIP_CARD_2|Surgery Patients ...|Not Available|Not Available|5 - Results are n...|        10/01/2013|      09/30/2014|\n",
      "|     281324|NEMAHA COUNTY HOS...|2022  13TH ST|AUBURN|   NE|   68305|     NEMAHA|  4022744366|Surgical Care Imp...| SCIP_INF_1|Prophylactic anti...|Not Available|Not Available|5 - Results are n...|        10/01/2013|      09/30/2014|\n",
      "|     281324|NEMAHA COUNTY HOS...|2022  13TH ST|AUBURN|   NE|   68305|     NEMAHA|  4022744366|Surgical Care Imp...|SCIP_INF_10|Surgery Patients ...|Not Available|Not Available|5 - Results are n...|        10/01/2013|      09/30/2014|\n",
      "+-----------+--------------------+-------------+------+-----+--------+-----------+------------+--------------------+-----------+--------------------+-------------+-------------+--------------------+------------------+----------------+\n",
      "only showing top 20 rows\n",
      "\n"
     ]
    }
   ],
   "source": [
    "sql = \"\"\"\n",
    "select * from effective_care \n",
    "where measure_id != 'ED_1b' AND measure_id != 'ED_2b' AND measure_id != 'OP_1'\n",
    "AND measure_id != 'OP_18b' AND measure_id != 'OP_20' AND measure_id != 'OP_21' \n",
    "AND measure_id != 'OP_3b' AND measure_id != 'OP_5'\n",
    "AND provider_id = '281324'\n",
    "\"\"\"\n",
    "sqlContext.sql(sql).show()"
   ]
  },
  {
   "cell_type": "code",
   "execution_count": 52,
   "metadata": {
    "collapsed": false
   },
   "outputs": [
    {
     "name": "stdout",
     "output_type": "stream",
     "text": [
      "+-----------+--------------------+------+-----+--------+--------------------+------------------+\n",
      "|provider_id|                name|  city|state|zip_code|                type|         ownership|\n",
      "+-----------+--------------------+------+-----+--------+--------------------+------------------+\n",
      "|     281324|NEMAHA COUNTY HOS...|AUBURN|   NE|   68305|Critical Access H...|Government - Local|\n",
      "+-----------+--------------------+------+-----+--------+--------------------+------------------+\n",
      "\n"
     ]
    }
   ],
   "source": [
    "sqlContext.sql(\"select * from my_hospitals where provider_id = '281324'\").show()"
   ]
  },
  {
   "cell_type": "code",
   "execution_count": null,
   "metadata": {
    "collapsed": true
   },
   "outputs": [],
   "source": []
  }
 ],
 "metadata": {
  "kernelspec": {
   "display_name": "Python 2",
   "language": "python",
   "name": "python2"
  },
  "language_info": {
   "codemirror_mode": {
    "name": "ipython",
    "version": 2
   },
   "file_extension": ".py",
   "mimetype": "text/x-python",
   "name": "python",
   "nbconvert_exporter": "python",
   "pygments_lexer": "ipython2",
   "version": "2.7.13"
  }
 },
 "nbformat": 4,
 "nbformat_minor": 2
}
